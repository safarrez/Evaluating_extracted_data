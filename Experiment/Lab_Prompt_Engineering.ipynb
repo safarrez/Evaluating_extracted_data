{
  "cells": [
    {
      "cell_type": "markdown",
      "metadata": {
        "id": "mspDcsN9fgy0"
      },
      "source": [
        "#Libraries & SetUp"
      ]
    },
    {
      "cell_type": "code",
      "execution_count": null,
      "metadata": {
        "id": "AdNSn-gAQ5GR",
        "colab": {
          "base_uri": "https://localhost:8080/"
        },
        "outputId": "015e9aea-ed24-4dc0-e000-a22588f74ba7"
      },
      "outputs": [
        {
          "output_type": "stream",
          "name": "stdout",
          "text": [
            "\u001b[2K     \u001b[90m━━━━━━━━━━━━━━━━━━━━━━━━━━━━━━━━━━━━━━━━\u001b[0m \u001b[32m43.7/43.7 kB\u001b[0m \u001b[31m4.9 MB/s\u001b[0m eta \u001b[36m0:00:00\u001b[0m\n",
            "\u001b[2K   \u001b[90m━━━━━━━━━━━━━━━━━━━━━━━━━━━━━━━━━━━━━━━━\u001b[0m \u001b[32m2.5/2.5 MB\u001b[0m \u001b[31m97.3 MB/s\u001b[0m eta \u001b[36m0:00:00\u001b[0m\n",
            "\u001b[2K   \u001b[90m━━━━━━━━━━━━━━━━━━━━━━━━━━━━━━━━━━━━━━━━\u001b[0m \u001b[32m143.8/143.8 kB\u001b[0m \u001b[31m17.4 MB/s\u001b[0m eta \u001b[36m0:00:00\u001b[0m\n",
            "\u001b[2K   \u001b[90m━━━━━━━━━━━━━━━━━━━━━━━━━━━━━━━━━━━━━━━━\u001b[0m \u001b[32m232.6/232.6 kB\u001b[0m \u001b[31m23.3 MB/s\u001b[0m eta \u001b[36m0:00:00\u001b[0m\n",
            "\u001b[2K   \u001b[90m━━━━━━━━━━━━━━━━━━━━━━━━━━━━━━━━━━━━━━━━\u001b[0m \u001b[32m131.1/131.1 kB\u001b[0m \u001b[31m18.1 MB/s\u001b[0m eta \u001b[36m0:00:00\u001b[0m\n",
            "\u001b[2K   \u001b[90m━━━━━━━━━━━━━━━━━━━━━━━━━━━━━━━━━━━━━━━━\u001b[0m \u001b[32m43.8/43.8 kB\u001b[0m \u001b[31m5.3 MB/s\u001b[0m eta \u001b[36m0:00:00\u001b[0m\n",
            "\u001b[2K   \u001b[90m━━━━━━━━━━━━━━━━━━━━━━━━━━━━━━━━━━━━━━━━\u001b[0m \u001b[32m50.2/50.2 kB\u001b[0m \u001b[31m6.2 MB/s\u001b[0m eta \u001b[36m0:00:00\u001b[0m\n",
            "\u001b[2K   \u001b[90m━━━━━━━━━━━━━━━━━━━━━━━━━━━━━━━━━━━━━━━━\u001b[0m \u001b[32m45.2/45.2 kB\u001b[0m \u001b[31m5.6 MB/s\u001b[0m eta \u001b[36m0:00:00\u001b[0m\n",
            "\u001b[2K   \u001b[90m━━━━━━━━━━━━━━━━━━━━━━━━━━━━━━━━━━━━━━━━\u001b[0m \u001b[32m50.9/50.9 kB\u001b[0m \u001b[31m6.4 MB/s\u001b[0m eta \u001b[36m0:00:00\u001b[0m\n",
            "\u001b[2K   \u001b[90m━━━━━━━━━━━━━━━━━━━━━━━━━━━━━━━━━━━━━━━━\u001b[0m \u001b[32m216.5/216.5 kB\u001b[0m \u001b[31m25.9 MB/s\u001b[0m eta \u001b[36m0:00:00\u001b[0m\n",
            "\u001b[?25h"
          ]
        }
      ],
      "source": [
        "%pip install -q -U langchain-huggingface langchain-community langgraph langchain-groq PyPDF2"
      ]
    },
    {
      "cell_type": "code",
      "execution_count": null,
      "metadata": {
        "id": "5dRRDDU5PkxL"
      },
      "outputs": [],
      "source": [
        "import os, sys, json, unicodedata, random\n",
        "from openai import OpenAI\n",
        "\n",
        "from langchain.chat_models import init_chat_model\n",
        "from langchain_huggingface import HuggingFaceEmbeddings\n",
        "from langchain_community.document_loaders import CSVLoader\n",
        "from langchain_core.documents import Document\n",
        "from langchain_community.vectorstores import FAISS\n",
        "from langchain_community.vectorstores.utils import DistanceStrategy\n",
        "from langgraph.graph import START, StateGraph\n",
        "from langchain_core.documents import Document\n",
        "from langchain import hub\n",
        "from langchain_core.output_parsers import JsonOutputParser\n",
        "\n",
        "from typing_extensions import List, TypedDict\n",
        "from pydantic import BaseModel, Field\n",
        "from typing import List\n",
        "import re, pandas as pd, numpy as np, time, PyPDF2"
      ]
    },
    {
      "cell_type": "code",
      "execution_count": null,
      "metadata": {
        "id": "HruuXybOPlbm"
      },
      "outputs": [],
      "source": [
        "# add api keys"
      ]
    },
    {
      "cell_type": "code",
      "execution_count": null,
      "metadata": {
        "id": "_rB_tc8VaZis"
      },
      "outputs": [],
      "source": [
        "client = OpenAI(api_key = OPENAI_API_KEY)\n",
        "chunking_strategy =  {\n",
        "        \"type\": \"static\",\n",
        "        \"static\": {\n",
        "          \"max_chunk_size_tokens\": 800, # reduce size to ensure better context integrity\n",
        "          \"chunk_overlap_tokens\": 400 # increase overlap to maintain context across chunks\n",
        "        }}\n",
        "\n",
        "# Create a vector store caled \"Scientific articles\"\n",
        "vector_store = client.vector_stores.create(name=\"Scientific articles\",\n",
        "                                                chunking_strategy=chunking_strategy)"
      ]
    },
    {
      "cell_type": "code",
      "execution_count": null,
      "metadata": {
        "colab": {
          "base_uri": "https://localhost:8080/"
        },
        "id": "LGykfRH6r66U",
        "outputId": "8590a094-14b0-4915-d97e-93be2eb944cc"
      },
      "outputs": [
        {
          "output_type": "stream",
          "name": "stdout",
          "text": [
            "Available models for Groq provider:\n",
            " - compound-beta\n",
            " - llama-3.3-70b-versatile\n",
            " - whisper-large-v3-turbo\n",
            " - llama3-8b-8192\n",
            " - meta-llama/llama-prompt-guard-2-86m\n",
            " - qwen/qwen3-32b\n",
            " - meta-llama/llama-4-maverick-17b-128e-instruct\n",
            " - playai-tts\n",
            " - meta-llama/llama-guard-4-12b\n",
            " - allam-2-7b\n",
            " - playai-tts-arabic\n",
            " - llama-3.1-8b-instant\n",
            " - mistral-saba-24b\n",
            " - meta-llama/llama-prompt-guard-2-22m\n",
            " - llama3-70b-8192\n",
            " - gemma2-9b-it\n",
            " - compound-beta-mini\n",
            " - whisper-large-v3\n",
            " - moonshotai/kimi-k2-instruct\n",
            " - distil-whisper-large-v3-en\n",
            " - meta-llama/llama-4-scout-17b-16e-instruct\n",
            " - deepseek-r1-distill-llama-70b\n"
          ]
        }
      ],
      "source": [
        "import groq\n",
        "\n",
        "# Initialize Groq client for listing models\n",
        "# Replace with your actual API key\n",
        "groq_client = groq.Client(api_key=\"YOUR_GROQ_API_KEY\")\n",
        "\n",
        "import groq\n",
        "groq_client = groq.Client(api_key=GROQ_API_KEY)\n",
        "\n",
        "models = groq_client.models.list()\n",
        "print(\"Available models for Groq provider:\")\n",
        "for model in models.data:\n",
        "  print(f\" - {model.id}\")\n"
      ]
    },
    {
      "cell_type": "code",
      "execution_count": null,
      "metadata": {
        "colab": {
          "base_uri": "https://localhost:8080/"
        },
        "id": "1Kp5HVvonSqt",
        "outputId": "b007a475-e132-452b-f3b6-2d006593ae0b"
      },
      "outputs": [
        {
          "output_type": "stream",
          "name": "stdout",
          "text": [
            "Available models for Groq provider (filtered for 'llama'):\n",
            " - meta-llama/llama-prompt-guard-2-22m\n",
            " - meta-llama/llama-4-scout-17b-16e-instruct\n",
            " - llama-3.3-70b-versatile\n",
            " - meta-llama/llama-guard-4-12b\n",
            " - meta-llama/llama-prompt-guard-2-86m\n",
            " - llama3-8b-8192\n",
            " - deepseek-r1-distill-llama-70b\n",
            " - llama-3.1-8b-instant\n",
            " - meta-llama/llama-4-maverick-17b-128e-instruct\n",
            " - llama3-70b-8192\n"
          ]
        }
      ],
      "source": [
        "models = groq_client.models.list()\n",
        "print(\"Available models for Groq provider (filtered for 'llama'):\")\n",
        "for model in models.data:\n",
        "  if \"llama\" in model.id:\n",
        "    print(f\" - {model.id}\")"
      ]
    },
    {
      "cell_type": "code",
      "execution_count": null,
      "metadata": {
        "id": "-WKOtSrjPpk_"
      },
      "outputs": [],
      "source": [
        "# llm = init_chat_model(\"llama-3.3-70b-versatile\", model_provider=\"groq\", temperature = 0)\n",
        "llm = init_chat_model(\"llama-3.1-8b-instant\", model_provider=\"groq\", temperature = 0)"
      ]
    },
    {
      "cell_type": "markdown",
      "metadata": {
        "id": "MTuXelTmfoIE"
      },
      "source": [
        "#System check on a small text"
      ]
    },
    {
      "cell_type": "code",
      "execution_count": null,
      "metadata": {
        "id": "BsYczAzkd01Q"
      },
      "outputs": [],
      "source": [
        "# from PyPDF2 import PdfReader\n",
        "\n",
        "# path = \"/content/Black_Cat.pdf\"\n",
        "# reader = PdfReader(path)\n",
        "\n",
        "# # Extract all the text into one string\n",
        "# all_text = \"\\n\".join(page.extract_text() or \"\" for page in reader.pages)\n",
        "\n",
        "# # Build your messages: one system prompt + one user prompt\n",
        "# messages_simple = [\n",
        "#     {\n",
        "#         \"role\": \"system\",\n",
        "#         \"content\": (\n",
        "#             \"Give the name of the attached pdf and its author in json table with one column - name\"\n",
        "#             \"\"\"Return the output as a **stringified JSON array**, with no extra text:\n",
        "#         [\n",
        "#             {{\n",
        "#             \"name\": \"<answer>\",\n",
        "#             \"author\": \"<answer>\"\n",
        "#             }}\n",
        "#         ]\n",
        "# \"\"\"\n",
        "#         )\n",
        "#     },\n",
        "#     {\n",
        "#         \"role\": \"user\",\n",
        "#         \"content\": all_text\n",
        "#     }\n",
        "# ]\n",
        "\n",
        "# result = llm.invoke(input=messages_simple)\n",
        "# # Groq llama wrapper returns an AIMessage; extract text via .content\n",
        "# assistant_response = result.content if hasattr(result, 'content') else str(result)\n",
        "# print(assistant_response)"
      ]
    },
    {
      "cell_type": "markdown",
      "metadata": {
        "id": "0gaMPk3VtmOd"
      },
      "source": [
        "#JSON extraction"
      ]
    },
    {
      "cell_type": "code",
      "execution_count": null,
      "metadata": {
        "id": "FyWuqAnisoTT"
      },
      "outputs": [],
      "source": [
        "def extract_json(text: str) -> object:\n",
        "    pattern = r\"(?P<json>\\[.*?\\]|\\{.*?\\})\"\n",
        "    match = re.search(pattern, text, flags=re.DOTALL)\n",
        "    if not match:\n",
        "        raise ValueError(\"No JSON block found in the input text.\")\n",
        "\n",
        "    json_str = match.group(\"json\")\n",
        "    try:\n",
        "        return json.loads(json_str)\n",
        "    except json.JSONDecodeError as e:\n",
        "        raise ValueError(f\"Failed to parse JSON: {e}\\nExtracted string: {json_str}\")\n",
        "\n",
        "\n",
        "def json_to_dataframe(json_data: object) -> pd.DataFrame:\n",
        "    if isinstance(json_data, dict):\n",
        "        df = pd.DataFrame([json_data])\n",
        "    elif isinstance(json_data, list):\n",
        "        df = pd.DataFrame(json_data)\n",
        "    else:\n",
        "        raise ValueError(\"JSON data is neither a dict nor a list of dicts.\")\n",
        "    return df"
      ]
    },
    {
      "cell_type": "code",
      "execution_count": null,
      "metadata": {
        "id": "9Fo8auLLso1Z"
      },
      "outputs": [],
      "source": [
        "# data = extract_json(assistant_response)\n",
        "# df = json_to_dataframe(data)\n",
        "# print(f\"\\n--- Response ---\\n\")\n",
        "# print(df)"
      ]
    },
    {
      "cell_type": "markdown",
      "metadata": {
        "id": "S8tgcjdZftaG"
      },
      "source": [
        "#Data installation & preprocessing"
      ]
    },
    {
      "cell_type": "code",
      "execution_count": null,
      "metadata": {
        "id": "rBWZ2vhRTkkq"
      },
      "outputs": [],
      "source": [
        "!gdown --folder \"https://drive.google.com/drive/u/0/folders/1-66VrFbR6OgwNiNcCoOZ0FNeLy7b5ITC\" > /dev/null 2>&1\n",
        "!gdown --remaining-ok --folder \"https://drive.google.com/drive/u/0/folders/1zurB2MibVbrhiobBe5oyvxcK6n5hdbB_\" > /dev/null 2>&1"
      ]
    },
    {
      "cell_type": "code",
      "execution_count": null,
      "metadata": {
        "colab": {
          "base_uri": "https://localhost:8080/"
        },
        "id": "EwORAIqgT63R",
        "outputId": "2aed90af-e09b-4163-f921-e85e6923c663"
      },
      "outputs": [
        {
          "output_type": "stream",
          "name": "stdout",
          "text": [
            "\n",
            "Total files found: 40\n",
            "Directory '/data/grouped_csv' created successfully.\n",
            "\n",
            "  - No matching DataFrame group found for cleaned filename 'Fielding‐Barnsley and Purdie 2003' (from file 'Fielding‐Barnsley and Purdie - 2003 - Early intervention in the home for children at risk of reading failure.pdf')\n",
            "  - No matching DataFrame group found for cleaned filename '1html' (from file '1.html')\n",
            "  - No matching DataFrame group found for cleaned filename 'Gonzalez et al 2010' (from file 'Gonzalez et al. - 2010 - Developing Low-Income Preschoolers’ Social Studies and Science Vocabulary Knowledge Through Content-.pdf')\n",
            "  - No matching DataFrame group found for cleaned filename 'Kotaman IMPACTS OF DIALOGICAL STORYBOOK READING ON YOUNG CHILDREN'S READING ATTITUDES AND VOCABULARY DEVELOPpdf' (from file 'Kotaman - IMPACTS OF DIALOGICAL STORYBOOK READING ON YOUNG CHILDREN'S READING ATTITUDES AND VOCABULARY DEVELOP.pdf')\n",
            "  - No matching DataFrame group found for cleaned filename 'Nelson et al 2009' (from file 'Nelson et al. - 2009 - The Efficacy of Supplemental Early Literacy Instruction by Community-Based Tutors for Preschoolers E.pdf')\n",
            "  - No matching DataFrame group found for cleaned filename 'file-5a057pdf' (from file 'file-5a057.pdf')\n",
            "  - No matching DataFrame group found for cleaned filename 'Chow et al 2008' (from file 'Chow et al. - 2008 - Dialogic reading and morphology training in Chinese children Effects on language and literacy..pdf')\n",
            "  - No matching DataFrame group found for cleaned filename 'Huebner 2000' (from file 'Huebner - 2000 - Promoting Toddlers' Language Development Through Community-Based Intervention.pdf')\n",
            "  - No matching DataFrame group found for cleaned filename 'ericedgovhtml' (from file 'eric.ed.gov.html')\n",
            "  - No matching DataFrame group found for cleaned filename 'Whitehurst et al Outcomes of an Emergent Literacy Intervention in Head Startpdf' (from file 'Whitehurst et al. - Outcomes of an Emergent Literacy Intervention in Head Start.pdf')\n",
            "  - No matching DataFrame group found for cleaned filename 'Teepe et al 2017' (from file 'Teepe et al. - 2017 - Technology‐enhanced storytelling stimulating parent–child interaction and preschool children's vocab.pdf')\n",
            "  - No matching DataFrame group found for cleaned filename 'ED435985pdf' (from file 'ED435985.pdf')\n",
            "  - No matching DataFrame group found for cleaned filename 'Vaknin-Nusbaum and Nevo 2017' (from file 'Vaknin-Nusbaum and Nevo - 2017 - A Joint Interactive Storybook Intervention Program for Preschool and Kindergarten Children.pdf')\n",
            "  - No matching DataFrame group found for cleaned filename 'ericedgovhtml' (from file 'eric.ed.gov.html')\n",
            "  - No matching DataFrame group found for cleaned filename 'BOIT_umass_0118D_10512pdf' (from file 'BOIT_umass_0118D_10512.pdf')\n",
            "  - No matching DataFrame group found for cleaned filename 'Valdez-Menchaca and Whitehurst Accelerating Language Development Through Picture Book Reading A Systematic Extension to Mexican Dapdf' (from file 'Valdez-Menchaca and Whitehurst - Accelerating Language Development Through Picture Book Reading A Systematic Extension to Mexican Da.pdf')\n",
            "  - No matching DataFrame group found for cleaned filename 'Chacko et al 2018' (from file 'Chacko et al. - 2018 - Engaging Fathers in Effective Parenting for Preschool Children Using Shared Book Reading A Randomiz.pdf')\n",
            "\n",
            "Found 23 matched pairs.\n"
          ]
        }
      ],
      "source": [
        "assistant_data = '/content/lab/files'\n",
        "\n",
        "# print(\"Files to upload:\")\n",
        "file_paths = []\n",
        "for root, dirs, files in os.walk(assistant_data):\n",
        "    # Filter out hidden dirs\n",
        "    dirs[:] = [d for d in dirs if not d.startswith('.')]\n",
        "    for file in files:\n",
        "        # Skip hidden and notebook/config files\n",
        "        if file.startswith('.') or file.endswith(('.ipynb', '.yaml', '.txt')):\n",
        "            continue\n",
        "        # print(f\"\\t- {file}\")\n",
        "        file_paths.append(os.path.join(root, file))\n",
        "\n",
        "print(f\"\\nTotal files found: {len(file_paths)}\")\n",
        "\n",
        "\n",
        "\n",
        "def remove_accents(input_str):\n",
        "    nfkd_form = unicodedata.normalize('NFKD', input_str)\n",
        "    return \"\".join([c for c in nfkd_form if not unicodedata.combining(c)])\n",
        "\n",
        "def format(study_name_string):\n",
        "    \"\"\"\n",
        "    Cuts a string after the last four-digit number, assuming it represents the year.\n",
        "\n",
        "    Args:\n",
        "        study_name_string (str): The input string potentially containing a year.\n",
        "\n",
        "    Returns:\n",
        "        str: The string cut after the year, or the original string if no year is found.\n",
        "    \"\"\"\n",
        "    # Get rid of all the points, -\n",
        "    study_name_string = study_name_string.replace('.', '')\n",
        "    study_name_string = study_name_string.replace(',', '')\n",
        "    study_name_string = study_name_string.replace(' - ', ' ')\n",
        "    study_name_string = study_name_string.replace(')', '')\n",
        "    study_name_string = study_name_string.replace('(', '')\n",
        "    study_name_string = study_name_string.replace('&', 'and')\n",
        "    study_name_string = remove_accents(study_name_string)\n",
        "    # Find all occurrences of four consecutive digits (potential years)\n",
        "    year_matches = list(re.finditer(r'\\b\\d{4}\\b', study_name_string))\n",
        "\n",
        "    if year_matches:\n",
        "        # Get the last match\n",
        "        last_year_match = year_matches[-1]\n",
        "        # Get the end index of the last year match\n",
        "        end_of_year_index = last_year_match.end()\n",
        "        # Slice the string up to the end of the year\n",
        "        cut_string = study_name_string[:end_of_year_index]\n",
        "        return cut_string.strip() # Use strip to remove trailing whitespace\n",
        "    else:\n",
        "        # If no four-digit number is found, return the original string\n",
        "        return study_name_string.strip()\n",
        "\n",
        "\n",
        "# Read the Excel file\n",
        "df = pd.read_excel('/content/table/data.xlsx')\n",
        "df = df[['Study_ID', 'Study', 'Allocation', 'Experimenter']]\n",
        "\n",
        "# Remove duplicates based on Study_ID and Study before grouping\n",
        "df = df.drop_duplicates(subset=['Study_ID', 'Study']).reset_index(drop=True)\n",
        "\n",
        "\n",
        "# Group by 'Study_ID' (case-sensitive)\n",
        "output_dir = '/data/grouped_csv'\n",
        "os.makedirs(output_dir, exist_ok=True)\n",
        "print(f\"Directory '{output_dir}' created successfully.\\n\")\n",
        "\n",
        "grouped = df.groupby('Study_ID')\n",
        "\n",
        "# Ensure the 'Study' column exists and is in a comparable format (string)\n",
        "if 'Study' not in df.columns:\n",
        "    print(\"Error: 'Study' column not found in the DataFrame.\")\n",
        "# Ensure 'Study' column is string type for consistent comparison\n",
        "df['Study'] = df['Study'].astype(str)\n",
        "\n",
        "\n",
        "study_to_group_map = {}\n",
        "for study_id, group_df in grouped:\n",
        "    if not group_df['Study'].empty:\n",
        "        study_name_from_df = format(group_df['Study'].iloc[0])\n",
        "        study_to_group_map[study_name_from_df] = group_df\n",
        "\n",
        "matched_pairs = []\n",
        "\n",
        "for file_path in file_paths:\n",
        "    filename = os.path.basename(file_path)\n",
        "    cleaned_filename_study_name = format(filename)\n",
        "\n",
        "    matching_group_df = study_to_group_map.get(cleaned_filename_study_name)\n",
        "\n",
        "    if matching_group_df is not None:\n",
        "        # print(f\"  - Matched file '{cleaned_filename_study_name}' with Study '{cleaned_filename_study_name}'\")\n",
        "        matched_pairs.append((file_path, matching_group_df))\n",
        "    else:\n",
        "        print(f\"  - No matching DataFrame group found for cleaned filename '{cleaned_filename_study_name}' (from file '{filename}')\")\n",
        "\n",
        "print(f\"\\nFound {len(matched_pairs)} matched pairs.\")"
      ]
    },
    {
      "cell_type": "markdown",
      "metadata": {
        "id": "spFD-MsCHnvC"
      },
      "source": [
        "#Evaluation"
      ]
    },
    {
      "cell_type": "code",
      "execution_count": null,
      "metadata": {
        "id": "ACafUMvGHGdX"
      },
      "outputs": [],
      "source": [
        "def accuracy_check(col_name, df_extracted, test_table):\n",
        "  allocation_match = False\n",
        "  experimenter_match = False\n",
        "\n",
        "\n",
        "  # Check if both dataframes have the expected columns and rows\n",
        "  if col_name in df_extracted.columns and \\\n",
        "    not df_extracted.empty and not test_table.empty:\n",
        "\n",
        "      extracted_allocation = df_extracted[col_name].iloc[0]\n",
        "\n",
        "      ground_truth_allocation = test_table[col_name].iloc[0]\n",
        "\n",
        "      # Simple case-insensitive comparison\n",
        "      if str(extracted_allocation).lower() == str(ground_truth_allocation).lower():\n",
        "          allocation_match = True\n",
        "          print(f'{col_name}: Match')\n",
        "      else:\n",
        "          print(f\"{col_name}: Mismatch (Extracted: '{extracted_allocation}', Ground Truth: '{ground_truth_allocation}')\")\n",
        "  else:\n",
        "    print(\"Cannot perform accuracy check: Extracted or ground truth data is missing or malformed.\")\n",
        "  print(\"--------------------\")"
      ]
    },
    {
      "cell_type": "code",
      "execution_count": null,
      "metadata": {
        "id": "AIPFZvCPpEZ_"
      },
      "outputs": [],
      "source": [
        "def calculateAccuracy(TP, FP, FN, TN):\n",
        "    '''calculates the accuracy of a model based on true positives, true negatives, false positives, and false negatives.'''\n",
        "    return (TP + TN) / (TP + FP + FN + TN) if (TP + FP + FN + TN) > 0 else 0\n",
        "\n",
        "def calculatePrecision(TP, FP):\n",
        "    '''calculates the precision of a model based on true positives and false positives.'''\n",
        "    return TP / (TP + FP) if (TP + FP) > 0 else 0\n",
        "\n",
        "def calculateRecall(TP, FN):\n",
        "    '''calculates the recall of a model based on true positives and false negatives.'''\n",
        "    return TP / (TP + FN) if (TP + FN) > 0 else 0\n",
        "\n",
        "def calculateF1Score(precision, recall):\n",
        "    '''calculates the F1 score based on precision and recall.'''\n",
        "    return 2 * precision * recall / (precision + recall) if (precision + recall) > 0 else 0\n",
        "\n",
        "def calculateMetrics(TP, FP, FN, TN):\n",
        "    '''calculates various metrics based on true positives, false positives, and false negatives.'''\n",
        "    # --- Metrics ---\n",
        "    accuracy = calculateAccuracy(TP, FP, FN, TN)\n",
        "    recall = calculateRecall(TP, FN)\n",
        "    precision = calculatePrecision(TP, FP)\n",
        "    f1 = calculateF1Score(precision, recall)\n",
        "\n",
        "    return {\n",
        "        'Accuracy': round(accuracy, 4),\n",
        "        'Recall': round(recall, 4),\n",
        "        'Precision': round(precision, 4),\n",
        "        'F1': round(f1, 4)\n",
        "    }"
      ]
    },
    {
      "cell_type": "code",
      "execution_count": null,
      "metadata": {
        "id": "ea1PqgG_p3nd"
      },
      "outputs": [],
      "source": [
        "def count_true_positives(gt_df, pred_df, column='Allocation', join_on='Study', positive_value='Random'):\n",
        "    merged = gt_df[[join_on, column]].merge(pred_df[[join_on, column]], on=join_on, suffixes=('_gt', '_pred'))\n",
        "    tp = ((merged[f\"{column}_gt\"] == positive_value) &\n",
        "          (merged[f\"{column}_pred\"] == positive_value)).sum()\n",
        "    return tp\n",
        "\n",
        "def count_false_positives(gt_df, pred_df, column='Allocation', join_on='Study', positive_value='Random'):\n",
        "    merged = gt_df[[join_on, column]].merge(pred_df[[join_on, column]], on=join_on, suffixes=('_gt', '_pred'))\n",
        "    fp = ((merged[f\"{column}_gt\"] != positive_value) &\n",
        "          (merged[f\"{column}_pred\"] == positive_value)).sum()\n",
        "    return fp\n",
        "\n",
        "def count_false_negatives(gt_df, pred_df, column= 'Allocation', join_on='Study', positive_value='Random'):\n",
        "    merged = gt_df[[join_on, column]].merge(pred_df[[join_on, column]], on=join_on, suffixes=('_gt', '_pred'))\n",
        "    fn = ((merged[f\"{column}_gt\"] == positive_value) &\n",
        "          (merged[f\"{column}_pred\"] != positive_value)).sum()\n",
        "    return fn\n",
        "\n",
        "def count_true_negatives(gt_df, pred_df, column='Allocation', join_on='Study', positive_value='Random'):\n",
        "    merged = gt_df[[join_on, column]].merge(pred_df[[join_on, column]], on=join_on, suffixes=('_gt', '_pred'))\n",
        "    tn = ((merged[f\"{column}_gt\"] != positive_value) &\n",
        "          (merged[f\"{column}_pred\"] != positive_value)).sum()\n",
        "    return tn"
      ]
    },
    {
      "cell_type": "code",
      "execution_count": null,
      "metadata": {
        "id": "s047OrUkrGdP"
      },
      "outputs": [],
      "source": [
        "def binary_metrics(ground_truth_df, extracted_df, column='Allocation', join_on='Study', positive_value='Random'):\n",
        "  tp = count_true_positives(ground_truth_df, extracted_df, column=column, join_on=join_on, positive_value=positive_value)\n",
        "  fp = count_false_positives(ground_truth_df, extracted_df, column=column, join_on=join_on, positive_value=positive_value)\n",
        "  fn = count_false_negatives(ground_truth_df, extracted_df, column=column, join_on=join_on, positive_value=positive_value)\n",
        "  tn = count_true_negatives(ground_truth_df, extracted_df, column=column, join_on=join_on, positive_value=positive_value)\n",
        "\n",
        "  # print(f'\\nHere are pre-metrics for Allocation:')\n",
        "  # print(f'TP: {tp}')\n",
        "  # print(f'FP: {fp}')\n",
        "  # print(f'FN: {fn}')\n",
        "  # print(f'TN: {tn}\\n\\n')\n",
        "\n",
        "\n",
        "  metrics = calculateMetrics(tp, fp, fn, tn)\n",
        "  # print(f'Here are metrics for {column} column:')\n",
        "  # for name, val in metrics.items():\n",
        "  #   print(f\"{name:10s}: {float(val):.2f}\")\n",
        "  return metrics"
      ]
    },
    {
      "cell_type": "code",
      "execution_count": null,
      "metadata": {
        "id": "udzhFrKvsdl4"
      },
      "outputs": [],
      "source": [
        "def multiclass_metrics(ground_truth_df,\n",
        "                       extracted_df,\n",
        "                       column='Experimenter', join_on='Study',\n",
        "                       values=['Teacher', 'Parent', 'Researcher', 'Combined - Teacher and Parent']):\n",
        "  all_metrics = {}\n",
        "  supports = {}\n",
        "  # print(f'\\nHere are pre-metrics for Experimenter:')\n",
        "  for value in values:\n",
        "    tp = count_true_positives(ground_truth_df, extracted_df, column=column, join_on=join_on, positive_value=value)\n",
        "    fp = count_false_positives(ground_truth_df, extracted_df, column=column, join_on=join_on, positive_value=value)\n",
        "    fn = count_false_negatives(ground_truth_df, extracted_df, column=column, join_on=join_on, positive_value=value)\n",
        "    tn = count_true_negatives(ground_truth_df, extracted_df, column=column, join_on=join_on, positive_value=value)\n",
        "\n",
        "    # print(f'\\nHere are pre-metrics for {value}:')\n",
        "    # print(f'TP: {tp}')\n",
        "    # print(f'FP: {fp}')\n",
        "    # print(f'FN: {fn}')\n",
        "    # print(f'TN: {tn}\\n\\n')\n",
        "\n",
        "    metrics = calculateMetrics(tp, fp, fn, tn)\n",
        "    support = tp + fn  # number of true instances of this class\n",
        "\n",
        "    # print(f'Metrics for {value}:')\n",
        "    # for name, val in metrics.items():\n",
        "    #     print(f\"{name:10s}: {float(val):.2f}\")\n",
        "    # print('--------------------------------------')\n",
        "\n",
        "  ##########################\n",
        "\n",
        "    all_metrics[value] = metrics\n",
        "    supports[value] = support\n",
        "\n",
        "\n",
        "  total_support = sum(supports.values())\n",
        "  weighted_metrics = {}\n",
        "  for metric in ['Accuracy', 'Recall', 'Precision', 'F1']:\n",
        "      weighted_metrics[metric] = (\n",
        "          sum(all_metrics[cls][metric] * supports[cls] for cls in values)\n",
        "          / total_support\n",
        "      )\n",
        "\n",
        "  # print(f\"Weighted average metrics for '{column}':\")\n",
        "  # for name, val in weighted_metrics.items():\n",
        "  #     print(f\"{name:10s}: {val:.2f}\")\n",
        "\n",
        "  return all_metrics, weighted_metrics\n",
        "\n",
        "  ##########################\n",
        "\n",
        "  # avg_metrics = {\n",
        "  #     'Accuracy': np.mean([m['Accuracy'] for m in all_metrics.values()]),\n",
        "  #     'Recall': np.mean([m['Recall'] for m in all_metrics.values()]),\n",
        "  #     'Precision': np.mean([m['Precision'] for m in all_metrics.values()]),\n",
        "  #     'F1': np.mean([m['F1'] for m in all_metrics.values()])\n",
        "  # }\n",
        "  # print(f'Here are average metrics for {column} column:')\n",
        "  # for name, val in avg_metrics.items():\n",
        "  #     print(f\"{name:10s}: {float(val):.2f}\")\n",
        "  # return metrics, avg_metrics"
      ]
    },
    {
      "cell_type": "code",
      "execution_count": null,
      "metadata": {
        "id": "9gS2lvmED6jg"
      },
      "outputs": [],
      "source": [
        "# from sklearn.metrics import classification_report\n",
        "\n",
        "# # Parameters\n",
        "# num_samples = 20\n",
        "# num_classes = 4\n",
        "# seed = 42\n",
        "# np.random.seed(seed)\n",
        "\n",
        "# # Generate sample IDs\n",
        "# ids = np.arange(1, num_samples + 1)\n",
        "\n",
        "# # Generate ground-truth labels (even distribution)\n",
        "# gt = np.repeat(np.arange(num_classes), num_samples // num_classes)\n",
        "# remainder = num_samples - len(gt)\n",
        "# gt = np.concatenate([gt, np.arange(remainder)])\n",
        "# np.random.shuffle(gt)\n",
        "\n",
        "# # Generate predictions: start with correct labels, then flip a portion\n",
        "# pred = gt.copy()\n",
        "# n_flip = int(0.2 * num_samples)  # flip 20% of samples\n",
        "# flip_idx = np.random.choice(num_samples, n_flip, replace=False)\n",
        "# for idx in flip_idx:\n",
        "#     wrong_classes = list(set(range(num_classes)) - {gt[idx]})\n",
        "#     pred[idx] = np.random.choice(wrong_classes)\n",
        "\n",
        "# print(gt)\n",
        "# print(pred)\n",
        "\n",
        "# metrics, mult_metrics = multiclass_metrics(pd.DataFrame({'id': ids, 'label': gt}),\n",
        "#                                                  pd.DataFrame({'id': ids, 'label': pred}),\n",
        "#                                                  column='label', join_on='id', values=[0, 1, 2, 3])"
      ]
    },
    {
      "cell_type": "markdown",
      "metadata": {
        "id": "ipsS_2swf2fD"
      },
      "source": [
        "#Prompting"
      ]
    },
    {
      "cell_type": "code",
      "execution_count": null,
      "metadata": {
        "id": "l_3wUEzGY-xU"
      },
      "outputs": [],
      "source": [
        "query_extraction =\"\"\"\n",
        "You you are provided with examples of pdfs and csv tables corresponding to them.\n",
        "A new pdf is attached.\n",
        "Extract the following information **only** from this document:\n",
        "### Allocation\n",
        "Were the students allocated randomly to the experimental group? Random /  Non-random\n",
        "{Random, Non-random}\n",
        "### Experimenter\n",
        "Who delivered the experimental intervention to the students/pupils? \\\n",
        "If the teacher or the parent was trained by the researcher,\\\n",
        "but the intervention was actually delivered by the teacher or the parent,\\\n",
        "then the researcher is not the experimenter.\n",
        "{teacher, parent, researcher, combined:teacher and parent}\n",
        "\n",
        "\n",
        "Return the output as a **stringified JSON array**, with no extra text:\n",
        "        [\n",
        "            {{\n",
        "            \"Allocation\": \"<answer>\",\n",
        "            \"Experimenter\": \"<answer>\"\n",
        "            }}\n",
        "        ]\n",
        "\n",
        "Do **not** include any extra text or columns—return csv with the specified columns: \"Allocation\", \"Experimenter\", and \"Study\".\n",
        "\"\"\""
      ]
    },
    {
      "cell_type": "code",
      "execution_count": null,
      "metadata": {
        "id": "fawIIJ-HBTgo"
      },
      "outputs": [],
      "source": [
        "class AnswerItem(BaseModel):\n",
        "  file: str\n",
        "  row: int"
      ]
    },
    {
      "cell_type": "code",
      "execution_count": null,
      "metadata": {
        "id": "fqDX41LZ_WGu"
      },
      "outputs": [],
      "source": [
        "truth_df = pd.read_excel('/content/table/data.xlsx')\n",
        "truth_df = truth_df[['Study_ID', 'Study', 'Allocation', 'Experimenter']]\n",
        "truth_df = truth_df.drop_duplicates(subset=['Study_ID', 'Study']).reset_index(drop=True)"
      ]
    },
    {
      "cell_type": "code",
      "execution_count": null,
      "metadata": {
        "colab": {
          "base_uri": "https://localhost:8080/"
        },
        "id": "tP7G6tVaJM6c",
        "outputId": "c3f414b8-4a52-4636-d902-1b92e162725d"
      },
      "outputs": [
        {
          "output_type": "stream",
          "name": "stdout",
          "text": [
            "Bins created based on Experimenter:\n",
            "- Parent: 5 samples\n",
            "- Researcher: 8 samples\n",
            "- Teacher: 9 samples\n",
            "- nan: 1 samples\n"
          ]
        }
      ],
      "source": [
        "from collections import defaultdict\n",
        "\n",
        "def create_bins(matched_pairs):\n",
        "  experimenter_bins = defaultdict(list)\n",
        "\n",
        "  for file_path, group_df in matched_pairs:\n",
        "    if not group_df.empty and 'Experimenter' in group_df.columns:\n",
        "      experimenter_value = group_df['Experimenter'].iloc[0]\n",
        "      experimenter_bins[experimenter_value].append((file_path, group_df))\n",
        "    else:\n",
        "      # Handle cases where the DataFrame is empty or 'Experimenter' column is missing\n",
        "      experimenter_bins['Unknown'].append((file_path, group_df))\n",
        "  return experimenter_bins\n",
        "\n",
        "\n",
        "print(\"Bins created based on Experimenter:\")\n",
        "experimenter_bins = create_bins(matched_pairs)\n",
        "for experimenter, pairs in experimenter_bins.items():\n",
        "  print(f\"- {experimenter}: {len(pairs)} samples\")\n"
      ]
    },
    {
      "cell_type": "code",
      "execution_count": null,
      "metadata": {
        "id": "9BtHZ6FjJ74S"
      },
      "outputs": [],
      "source": [
        "def prompt_loop(train, test, name, llm):\n",
        "  extracted_all = pd.DataFrame()\n",
        "\n",
        "  output_dir = f'/content/extracted_{name}'\n",
        "  !rm -rf \"{output_dir}\"\n",
        "  os.makedirs(output_dir, exist_ok=True)\n",
        "  print(f\"Directory '{output_dir}' created successfully.\")\n",
        "\n",
        "  c0 = time.process_time()\n",
        "\n",
        "  for idx, (test_pdf_path, test_df) in enumerate(test):\n",
        "      test_file = client.files.create(file=open(test_pdf_path, \"rb\"), purpose=\"assistants\")\n",
        "      ground_truth_messages = []\n",
        "\n",
        "      for file_path, group_df in train:\n",
        "          file = client.files.create(file=open(file_path, \"rb\"), purpose=\"assistants\")\n",
        "\n",
        "          message_content = (\n",
        "              f\"Here is a document ({os.path.basename(file_path)}) \"\n",
        "              f\"and the data extracted from it:\\n\\n{group_df}\"\n",
        "          )\n",
        "\n",
        "          ground_truth_messages.append({\n",
        "              \"role\": \"user\",\n",
        "              \"content\": message_content,\n",
        "              \"attachments\": [{\"file_id\": file.id, \"tools\": [{\"type\": \"file_search\"}]}]\n",
        "          })\n",
        "\n",
        "      messages = [{\n",
        "          \"role\": \"user\",\n",
        "          \"content\": query_extraction,\n",
        "          \"attachments\": [{\"file_id\": test_file.id, \"tools\": [{\"type\": \"file_search\"}]}]\n",
        "      }] + ground_truth_messages\n",
        "\n",
        "      result = llm.invoke(input=messages)\n",
        "      assistant_response = result.content if hasattr(result, 'content') else str(result)\n",
        "\n",
        "      # Add a delay to avoid rate limiting\n",
        "      time.sleep(5)\n",
        "\n",
        "      # print(f\"--- Extraction for test sample {idx} ---\")\n",
        "      data = extract_json(assistant_response)\n",
        "      df_extracted = json_to_dataframe(data)\n",
        "      df_extracted['Study'] = os.path.basename(test_pdf_path)\n",
        "      df_extracted['Study'] = df_extracted['Study'].apply(format)\n",
        "\n",
        "      extracted_all = pd.concat([extracted_all, df_extracted], axis=0, ignore_index=True)\n",
        "\n",
        "      df_extracted.to_csv(f\"/content/extracted_{name}/{os.path.basename(test_pdf_path)}.csv\", index=False)\n",
        "      # output_csv = f\"/content/extracted_{name}/{os.path.basename(test_pdf_path)}.csv\"\n",
        "\n",
        "\n",
        "\n",
        "  elapsed_cpu = time.process_time() - c0\n",
        "  print(f\"All samples processed in {elapsed_cpu:.2f} seconds.\")\n",
        "\n",
        "  # print(\"\\n--- Metrics Check ---\\n\")\n",
        "  bin_metrics = binary_metrics(truth_df, extracted_all)\n",
        "  print('--------------------------------------')\n",
        "  print('--------------------------------------\\n')\n",
        "  mult_metrics, mult_avg_metrics = multiclass_metrics(truth_df, extracted_all)\n",
        "  print('--------------------------------------')\n",
        "  print('--------------------------------------')\n",
        "  return elapsed_cpu, bin_metrics, mult_metrics, mult_avg_metrics"
      ]
    },
    {
      "cell_type": "code",
      "execution_count": null,
      "metadata": {
        "colab": {
          "base_uri": "https://localhost:8080/"
        },
        "id": "m7P8SP_k1s7r",
        "outputId": "9001e5ad-0709-4025-d1b9-71241f1c36dd"
      },
      "outputs": [
        {
          "output_type": "stream",
          "name": "stdout",
          "text": [
            "Total samples: 23\n"
          ]
        }
      ],
      "source": [
        "size = len(matched_pairs)\n",
        "print(f\"Total samples: {size}\" )\n",
        "split_range = range(4, 10)\n",
        "shuffle_range = range(1, 4)"
      ]
    },
    {
      "cell_type": "code",
      "execution_count": null,
      "metadata": {
        "colab": {
          "base_uri": "https://localhost:8080/"
        },
        "id": "FQLU65GDKL2H",
        "outputId": "97e724cd-44f6-4cb3-f4a7-f034c4a96914"
      },
      "outputs": [
        {
          "output_type": "stream",
          "name": "stdout",
          "text": [
            "\n",
            "\n",
            "%%%%%%%%%%%%%%%%%%%%%%\n",
            "Shuffle 1 & N Examples 4\n",
            "%%%%%%%%%%%%%%%%%%%%%%\n",
            "Warning: Cannot perform stratified split based on both Experimenter and Allocation due to classes with less than 2 samples in combined categories. Performing stratified split based on Experimenter only.\n",
            "Warning: Cannot perform stratified split based on Experimenter either. Performing non-stratified split.\n",
            "Created a training set with 4 samples.\n",
            "Created a test set with 19 samples.\n",
            "Directory '/content/extracted_examples_4_shuffle_1' created successfully.\n"
          ]
        },
        {
          "output_type": "stream",
          "name": "stderr",
          "text": [
            "WARNING:langsmith.client:Failed to multipart ingest runs: langsmith.utils.LangSmithRateLimitError: Rate limit exceeded for https://eu.api.smith.langchain.com/runs/multipart. HTTPError('429 Client Error: Too Many Requests for url: https://eu.api.smith.langchain.com/runs/multipart', '{\"error\":\"Too many requests: tenant exceeded usage limits: Monthly unique traces usage limit exceeded\"}\\n')trace=eb690502-ac70-4ca0-8482-cee82d03663f,id=eb690502-ac70-4ca0-8482-cee82d03663f\n",
            "WARNING:langsmith.client:Failed to send compressed multipart ingest: langsmith.utils.LangSmithRateLimitError: Rate limit exceeded for https://eu.api.smith.langchain.com/runs/multipart. HTTPError('429 Client Error: Too Many Requests for url: https://eu.api.smith.langchain.com/runs/multipart', '{\"error\":\"Too many requests: tenant exceeded usage limits: Monthly unique traces usage limit exceeded\"}\\n')trace=eb690502-ac70-4ca0-8482-cee82d03663f,id=eb690502-ac70-4ca0-8482-cee82d03663f\n",
            "WARNING:langsmith.client:Failed to send compressed multipart ingest: langsmith.utils.LangSmithRateLimitError: Rate limit exceeded for https://eu.api.smith.langchain.com/runs/multipart. HTTPError('429 Client Error: Too Many Requests for url: https://eu.api.smith.langchain.com/runs/multipart', '{\"error\":\"Too many requests: tenant exceeded usage limits: Monthly unique traces usage limit exceeded\"}\\n')trace=39a1b7b7-1809-4a81-aa36-f0e58a1211fa,id=39a1b7b7-1809-4a81-aa36-f0e58a1211fa; trace=39a1b7b7-1809-4a81-aa36-f0e58a1211fa,id=39a1b7b7-1809-4a81-aa36-f0e58a1211fa\n",
            "WARNING:langsmith.client:Failed to send compressed multipart ingest: langsmith.utils.LangSmithRateLimitError: Rate limit exceeded for https://eu.api.smith.langchain.com/runs/multipart. HTTPError('429 Client Error: Too Many Requests for url: https://eu.api.smith.langchain.com/runs/multipart', '{\"error\":\"Too many requests: tenant exceeded usage limits: Monthly unique traces usage limit exceeded\"}\\n')trace=8a9007e8-3cdb-4cb7-8127-5718facf5446,id=8a9007e8-3cdb-4cb7-8127-5718facf5446; trace=8a9007e8-3cdb-4cb7-8127-5718facf5446,id=8a9007e8-3cdb-4cb7-8127-5718facf5446\n",
            "WARNING:langsmith.client:Failed to send compressed multipart ingest: langsmith.utils.LangSmithRateLimitError: Rate limit exceeded for https://eu.api.smith.langchain.com/runs/multipart. HTTPError('429 Client Error: Too Many Requests for url: https://eu.api.smith.langchain.com/runs/multipart', '{\"error\":\"Too many requests: tenant exceeded usage limits: Monthly unique traces usage limit exceeded\"}\\n')trace=d1c3b3b3-9da2-49e0-89da-e56f5255c2a6,id=d1c3b3b3-9da2-49e0-89da-e56f5255c2a6; trace=d1c3b3b3-9da2-49e0-89da-e56f5255c2a6,id=d1c3b3b3-9da2-49e0-89da-e56f5255c2a6\n",
            "WARNING:langsmith.client:Failed to send compressed multipart ingest: langsmith.utils.LangSmithRateLimitError: Rate limit exceeded for https://eu.api.smith.langchain.com/runs/multipart. HTTPError('429 Client Error: Too Many Requests for url: https://eu.api.smith.langchain.com/runs/multipart', '{\"error\":\"Too many requests: tenant exceeded usage limits: Monthly unique traces usage limit exceeded\"}\\n')trace=7b6a3f56-acce-4fd3-a218-4cc838772fd9,id=7b6a3f56-acce-4fd3-a218-4cc838772fd9; trace=7b6a3f56-acce-4fd3-a218-4cc838772fd9,id=7b6a3f56-acce-4fd3-a218-4cc838772fd9\n",
            "WARNING:langsmith.client:Failed to send compressed multipart ingest: langsmith.utils.LangSmithRateLimitError: Rate limit exceeded for https://eu.api.smith.langchain.com/runs/multipart. HTTPError('429 Client Error: Too Many Requests for url: https://eu.api.smith.langchain.com/runs/multipart', '{\"error\":\"Too many requests: tenant exceeded usage limits: Monthly unique traces usage limit exceeded\"}\\n')trace=463f0fcf-57d9-4299-b924-075e51814db8,id=463f0fcf-57d9-4299-b924-075e51814db8; trace=463f0fcf-57d9-4299-b924-075e51814db8,id=463f0fcf-57d9-4299-b924-075e51814db8\n",
            "WARNING:langsmith.client:Failed to send compressed multipart ingest: langsmith.utils.LangSmithRateLimitError: Rate limit exceeded for https://eu.api.smith.langchain.com/runs/multipart. HTTPError('429 Client Error: Too Many Requests for url: https://eu.api.smith.langchain.com/runs/multipart', '{\"error\":\"Too many requests: tenant exceeded usage limits: Monthly unique traces usage limit exceeded\"}\\n')trace=df4d97bb-1dfb-4f96-ba56-15c1a4a53cdd,id=df4d97bb-1dfb-4f96-ba56-15c1a4a53cdd; trace=df4d97bb-1dfb-4f96-ba56-15c1a4a53cdd,id=df4d97bb-1dfb-4f96-ba56-15c1a4a53cdd\n",
            "WARNING:langsmith.client:Failed to send compressed multipart ingest: langsmith.utils.LangSmithRateLimitError: Rate limit exceeded for https://eu.api.smith.langchain.com/runs/multipart. HTTPError('429 Client Error: Too Many Requests for url: https://eu.api.smith.langchain.com/runs/multipart', '{\"error\":\"Too many requests: tenant exceeded usage limits: Monthly unique traces usage limit exceeded\"}\\n')trace=54ebd3e6-d542-48e5-91b9-eeb913a92be3,id=54ebd3e6-d542-48e5-91b9-eeb913a92be3; trace=54ebd3e6-d542-48e5-91b9-eeb913a92be3,id=54ebd3e6-d542-48e5-91b9-eeb913a92be3\n",
            "WARNING:langsmith.client:Failed to send compressed multipart ingest: langsmith.utils.LangSmithRateLimitError: Rate limit exceeded for https://eu.api.smith.langchain.com/runs/multipart. HTTPError('429 Client Error: Too Many Requests for url: https://eu.api.smith.langchain.com/runs/multipart', '{\"error\":\"Too many requests: tenant exceeded usage limits: Monthly unique traces usage limit exceeded\"}\\n')trace=0b88de0a-39db-44b7-814f-697f2da1f046,id=0b88de0a-39db-44b7-814f-697f2da1f046; trace=0b88de0a-39db-44b7-814f-697f2da1f046,id=0b88de0a-39db-44b7-814f-697f2da1f046\n",
            "WARNING:langsmith.client:Failed to send compressed multipart ingest: langsmith.utils.LangSmithRateLimitError: Rate limit exceeded for https://eu.api.smith.langchain.com/runs/multipart. HTTPError('429 Client Error: Too Many Requests for url: https://eu.api.smith.langchain.com/runs/multipart', '{\"error\":\"Too many requests: tenant exceeded usage limits: Monthly unique traces usage limit exceeded\"}\\n')trace=47a04703-7c47-4332-9132-9c32164e2c3e,id=47a04703-7c47-4332-9132-9c32164e2c3e; trace=47a04703-7c47-4332-9132-9c32164e2c3e,id=47a04703-7c47-4332-9132-9c32164e2c3e\n",
            "WARNING:langsmith.client:Failed to send compressed multipart ingest: langsmith.utils.LangSmithRateLimitError: Rate limit exceeded for https://eu.api.smith.langchain.com/runs/multipart. HTTPError('429 Client Error: Too Many Requests for url: https://eu.api.smith.langchain.com/runs/multipart', '{\"error\":\"Too many requests: tenant exceeded usage limits: Monthly unique traces usage limit exceeded\"}\\n')trace=5513b383-15a7-409d-8539-62b57024143b,id=5513b383-15a7-409d-8539-62b57024143b; trace=5513b383-15a7-409d-8539-62b57024143b,id=5513b383-15a7-409d-8539-62b57024143b\n",
            "WARNING:langsmith.client:Failed to send compressed multipart ingest: langsmith.utils.LangSmithRateLimitError: Rate limit exceeded for https://eu.api.smith.langchain.com/runs/multipart. HTTPError('429 Client Error: Too Many Requests for url: https://eu.api.smith.langchain.com/runs/multipart', '{\"error\":\"Too many requests: tenant exceeded usage limits: Monthly unique traces usage limit exceeded\"}\\n')trace=c2070dec-9444-4db3-b80c-f8e1d52c25c5,id=c2070dec-9444-4db3-b80c-f8e1d52c25c5; trace=c2070dec-9444-4db3-b80c-f8e1d52c25c5,id=c2070dec-9444-4db3-b80c-f8e1d52c25c5\n",
            "WARNING:langsmith.client:Failed to send compressed multipart ingest: langsmith.utils.LangSmithRateLimitError: Rate limit exceeded for https://eu.api.smith.langchain.com/runs/multipart. HTTPError('429 Client Error: Too Many Requests for url: https://eu.api.smith.langchain.com/runs/multipart', '{\"error\":\"Too many requests: tenant exceeded usage limits: Monthly unique traces usage limit exceeded\"}\\n')trace=676d5904-351d-4b7f-a5a7-049bf8376286,id=676d5904-351d-4b7f-a5a7-049bf8376286; trace=676d5904-351d-4b7f-a5a7-049bf8376286,id=676d5904-351d-4b7f-a5a7-049bf8376286\n",
            "WARNING:langsmith.client:Failed to send compressed multipart ingest: langsmith.utils.LangSmithRateLimitError: Rate limit exceeded for https://eu.api.smith.langchain.com/runs/multipart. HTTPError('429 Client Error: Too Many Requests for url: https://eu.api.smith.langchain.com/runs/multipart', '{\"error\":\"Too many requests: tenant exceeded usage limits: Monthly unique traces usage limit exceeded\"}\\n')trace=77789b35-b24e-4908-9afc-5087f04ba6dc,id=77789b35-b24e-4908-9afc-5087f04ba6dc; trace=77789b35-b24e-4908-9afc-5087f04ba6dc,id=77789b35-b24e-4908-9afc-5087f04ba6dc\n",
            "WARNING:langsmith.client:Failed to send compressed multipart ingest: langsmith.utils.LangSmithRateLimitError: Rate limit exceeded for https://eu.api.smith.langchain.com/runs/multipart. HTTPError('429 Client Error: Too Many Requests for url: https://eu.api.smith.langchain.com/runs/multipart', '{\"error\":\"Too many requests: tenant exceeded usage limits: Monthly unique traces usage limit exceeded\"}\\n')trace=88410ae3-7ae8-43fa-8f0c-5aa8a1a7a36b,id=88410ae3-7ae8-43fa-8f0c-5aa8a1a7a36b; trace=88410ae3-7ae8-43fa-8f0c-5aa8a1a7a36b,id=88410ae3-7ae8-43fa-8f0c-5aa8a1a7a36b\n",
            "WARNING:langsmith.client:Failed to send compressed multipart ingest: langsmith.utils.LangSmithRateLimitError: Rate limit exceeded for https://eu.api.smith.langchain.com/runs/multipart. HTTPError('429 Client Error: Too Many Requests for url: https://eu.api.smith.langchain.com/runs/multipart', '{\"error\":\"Too many requests: tenant exceeded usage limits: Monthly unique traces usage limit exceeded\"}\\n')trace=3f6c299e-1161-4f0a-83e2-58be27147d6a,id=3f6c299e-1161-4f0a-83e2-58be27147d6a; trace=3f6c299e-1161-4f0a-83e2-58be27147d6a,id=3f6c299e-1161-4f0a-83e2-58be27147d6a\n",
            "WARNING:langsmith.client:Failed to send compressed multipart ingest: langsmith.utils.LangSmithRateLimitError: Rate limit exceeded for https://eu.api.smith.langchain.com/runs/multipart. HTTPError('429 Client Error: Too Many Requests for url: https://eu.api.smith.langchain.com/runs/multipart', '{\"error\":\"Too many requests: tenant exceeded usage limits: Monthly unique traces usage limit exceeded\"}\\n')trace=323d4c22-b23c-4b1c-9d79-c73e114b8636,id=323d4c22-b23c-4b1c-9d79-c73e114b8636; trace=323d4c22-b23c-4b1c-9d79-c73e114b8636,id=323d4c22-b23c-4b1c-9d79-c73e114b8636\n",
            "WARNING:langsmith.client:Failed to send compressed multipart ingest: langsmith.utils.LangSmithRateLimitError: Rate limit exceeded for https://eu.api.smith.langchain.com/runs/multipart. HTTPError('429 Client Error: Too Many Requests for url: https://eu.api.smith.langchain.com/runs/multipart', '{\"error\":\"Too many requests: tenant exceeded usage limits: Monthly unique traces usage limit exceeded\"}\\n')trace=dc0d67d8-76f9-4c82-9381-cc3afe2ea418,id=dc0d67d8-76f9-4c82-9381-cc3afe2ea418; trace=dc0d67d8-76f9-4c82-9381-cc3afe2ea418,id=dc0d67d8-76f9-4c82-9381-cc3afe2ea418\n",
            "WARNING:langsmith.client:Failed to send compressed multipart ingest: langsmith.utils.LangSmithRateLimitError: Rate limit exceeded for https://eu.api.smith.langchain.com/runs/multipart. HTTPError('429 Client Error: Too Many Requests for url: https://eu.api.smith.langchain.com/runs/multipart', '{\"error\":\"Too many requests: tenant exceeded usage limits: Monthly unique traces usage limit exceeded\"}\\n')trace=3faad015-c487-4dc6-a29c-e120c89ca920,id=3faad015-c487-4dc6-a29c-e120c89ca920; trace=3faad015-c487-4dc6-a29c-e120c89ca920,id=3faad015-c487-4dc6-a29c-e120c89ca920\n"
          ]
        },
        {
          "output_type": "stream",
          "name": "stdout",
          "text": [
            "All samples processed in 1.83 seconds.\n",
            "--------------------------------------\n",
            "--------------------------------------\n",
            "\n",
            "--------------------------------------\n",
            "--------------------------------------\n",
            "\n",
            "\n",
            "%%%%%%%%%%%%%%%%%%%%%%\n",
            "Shuffle 2 & N Examples 4\n",
            "%%%%%%%%%%%%%%%%%%%%%%\n",
            "Warning: Cannot perform stratified split based on both Experimenter and Allocation due to classes with less than 2 samples in combined categories. Performing stratified split based on Experimenter only.\n",
            "Warning: Cannot perform stratified split based on Experimenter either. Performing non-stratified split.\n",
            "Created a training set with 4 samples.\n",
            "Created a test set with 19 samples.\n",
            "Directory '/content/extracted_examples_4_shuffle_2' created successfully.\n"
          ]
        },
        {
          "output_type": "stream",
          "name": "stderr",
          "text": [
            "WARNING:langsmith.client:Failed to send compressed multipart ingest: langsmith.utils.LangSmithRateLimitError: Rate limit exceeded for https://eu.api.smith.langchain.com/runs/multipart. HTTPError('429 Client Error: Too Many Requests for url: https://eu.api.smith.langchain.com/runs/multipart', '{\"error\":\"Too many requests: tenant exceeded usage limits: Monthly unique traces usage limit exceeded\"}\\n')trace=3e272982-f20f-4808-b8b5-672e25bf4b3b,id=3e272982-f20f-4808-b8b5-672e25bf4b3b; trace=3e272982-f20f-4808-b8b5-672e25bf4b3b,id=3e272982-f20f-4808-b8b5-672e25bf4b3b\n",
            "WARNING:langsmith.client:Failed to send compressed multipart ingest: langsmith.utils.LangSmithRateLimitError: Rate limit exceeded for https://eu.api.smith.langchain.com/runs/multipart. HTTPError('429 Client Error: Too Many Requests for url: https://eu.api.smith.langchain.com/runs/multipart', '{\"error\":\"Too many requests: tenant exceeded usage limits: Monthly unique traces usage limit exceeded\"}\\n')trace=f79e0ec6-13d2-4662-bc84-46f84357cf39,id=f79e0ec6-13d2-4662-bc84-46f84357cf39; trace=f79e0ec6-13d2-4662-bc84-46f84357cf39,id=f79e0ec6-13d2-4662-bc84-46f84357cf39\n",
            "WARNING:langsmith.client:Failed to send compressed multipart ingest: langsmith.utils.LangSmithRateLimitError: Rate limit exceeded for https://eu.api.smith.langchain.com/runs/multipart. HTTPError('429 Client Error: Too Many Requests for url: https://eu.api.smith.langchain.com/runs/multipart', '{\"error\":\"Too many requests: tenant exceeded usage limits: Monthly unique traces usage limit exceeded\"}\\n')trace=81cf2f8c-f7cd-49ef-9bed-23a4adc7b74a,id=81cf2f8c-f7cd-49ef-9bed-23a4adc7b74a; trace=81cf2f8c-f7cd-49ef-9bed-23a4adc7b74a,id=81cf2f8c-f7cd-49ef-9bed-23a4adc7b74a\n",
            "WARNING:langsmith.client:Failed to send compressed multipart ingest: langsmith.utils.LangSmithRateLimitError: Rate limit exceeded for https://eu.api.smith.langchain.com/runs/multipart. HTTPError('429 Client Error: Too Many Requests for url: https://eu.api.smith.langchain.com/runs/multipart', '{\"error\":\"Too many requests: tenant exceeded usage limits: Monthly unique traces usage limit exceeded\"}\\n')trace=5ce565a8-2f67-4cb3-a7b7-5224176c565b,id=5ce565a8-2f67-4cb3-a7b7-5224176c565b; trace=5ce565a8-2f67-4cb3-a7b7-5224176c565b,id=5ce565a8-2f67-4cb3-a7b7-5224176c565b\n",
            "WARNING:langsmith.client:Failed to send compressed multipart ingest: langsmith.utils.LangSmithRateLimitError: Rate limit exceeded for https://eu.api.smith.langchain.com/runs/multipart. HTTPError('429 Client Error: Too Many Requests for url: https://eu.api.smith.langchain.com/runs/multipart', '{\"error\":\"Too many requests: tenant exceeded usage limits: Monthly unique traces usage limit exceeded\"}\\n')trace=5297c6be-cfb7-4c51-81bf-f067c60d8509,id=5297c6be-cfb7-4c51-81bf-f067c60d8509; trace=5297c6be-cfb7-4c51-81bf-f067c60d8509,id=5297c6be-cfb7-4c51-81bf-f067c60d8509\n",
            "WARNING:langsmith.client:Failed to send compressed multipart ingest: langsmith.utils.LangSmithRateLimitError: Rate limit exceeded for https://eu.api.smith.langchain.com/runs/multipart. HTTPError('429 Client Error: Too Many Requests for url: https://eu.api.smith.langchain.com/runs/multipart', '{\"error\":\"Too many requests: tenant exceeded usage limits: Monthly unique traces usage limit exceeded\"}\\n')trace=fd08a1fe-9295-4688-ac19-2d668c1f234b,id=fd08a1fe-9295-4688-ac19-2d668c1f234b; trace=fd08a1fe-9295-4688-ac19-2d668c1f234b,id=fd08a1fe-9295-4688-ac19-2d668c1f234b\n",
            "WARNING:langsmith.client:Failed to send compressed multipart ingest: langsmith.utils.LangSmithRateLimitError: Rate limit exceeded for https://eu.api.smith.langchain.com/runs/multipart. HTTPError('429 Client Error: Too Many Requests for url: https://eu.api.smith.langchain.com/runs/multipart', '{\"error\":\"Too many requests: tenant exceeded usage limits: Monthly unique traces usage limit exceeded\"}\\n')trace=7ad2df87-a644-4f6a-8510-812659f48090,id=7ad2df87-a644-4f6a-8510-812659f48090; trace=7ad2df87-a644-4f6a-8510-812659f48090,id=7ad2df87-a644-4f6a-8510-812659f48090\n",
            "WARNING:langsmith.client:Failed to send compressed multipart ingest: langsmith.utils.LangSmithRateLimitError: Rate limit exceeded for https://eu.api.smith.langchain.com/runs/multipart. HTTPError('429 Client Error: Too Many Requests for url: https://eu.api.smith.langchain.com/runs/multipart', '{\"error\":\"Too many requests: tenant exceeded usage limits: Monthly unique traces usage limit exceeded\"}\\n')trace=b7227fec-ba20-4f5d-95ed-090694c174e5,id=b7227fec-ba20-4f5d-95ed-090694c174e5; trace=b7227fec-ba20-4f5d-95ed-090694c174e5,id=b7227fec-ba20-4f5d-95ed-090694c174e5\n",
            "WARNING:langsmith.client:Failed to send compressed multipart ingest: langsmith.utils.LangSmithRateLimitError: Rate limit exceeded for https://eu.api.smith.langchain.com/runs/multipart. HTTPError('429 Client Error: Too Many Requests for url: https://eu.api.smith.langchain.com/runs/multipart', '{\"error\":\"Too many requests: tenant exceeded usage limits: Monthly unique traces usage limit exceeded\"}\\n')trace=ddae524b-8f2b-4003-9f09-aa4a37d59e9a,id=ddae524b-8f2b-4003-9f09-aa4a37d59e9a; trace=ddae524b-8f2b-4003-9f09-aa4a37d59e9a,id=ddae524b-8f2b-4003-9f09-aa4a37d59e9a\n",
            "WARNING:langsmith.client:Failed to send compressed multipart ingest: langsmith.utils.LangSmithRateLimitError: Rate limit exceeded for https://eu.api.smith.langchain.com/runs/multipart. HTTPError('429 Client Error: Too Many Requests for url: https://eu.api.smith.langchain.com/runs/multipart', '{\"error\":\"Too many requests: tenant exceeded usage limits: Monthly unique traces usage limit exceeded\"}\\n')trace=8d64225f-57b2-4dad-bf27-9d2bdd779cca,id=8d64225f-57b2-4dad-bf27-9d2bdd779cca; trace=8d64225f-57b2-4dad-bf27-9d2bdd779cca,id=8d64225f-57b2-4dad-bf27-9d2bdd779cca\n",
            "WARNING:langsmith.client:Failed to send compressed multipart ingest: langsmith.utils.LangSmithRateLimitError: Rate limit exceeded for https://eu.api.smith.langchain.com/runs/multipart. HTTPError('429 Client Error: Too Many Requests for url: https://eu.api.smith.langchain.com/runs/multipart', '{\"error\":\"Too many requests: tenant exceeded usage limits: Monthly unique traces usage limit exceeded\"}\\n')trace=ae118dfa-e20a-40a4-8c53-df263b362289,id=ae118dfa-e20a-40a4-8c53-df263b362289; trace=ae118dfa-e20a-40a4-8c53-df263b362289,id=ae118dfa-e20a-40a4-8c53-df263b362289\n",
            "WARNING:langsmith.client:Failed to send compressed multipart ingest: langsmith.utils.LangSmithRateLimitError: Rate limit exceeded for https://eu.api.smith.langchain.com/runs/multipart. HTTPError('429 Client Error: Too Many Requests for url: https://eu.api.smith.langchain.com/runs/multipart', '{\"error\":\"Too many requests: tenant exceeded usage limits: Monthly unique traces usage limit exceeded\"}\\n')trace=3515c766-218f-4e22-9503-06a5c050d33c,id=3515c766-218f-4e22-9503-06a5c050d33c; trace=3515c766-218f-4e22-9503-06a5c050d33c,id=3515c766-218f-4e22-9503-06a5c050d33c\n",
            "WARNING:langsmith.client:Failed to send compressed multipart ingest: langsmith.utils.LangSmithRateLimitError: Rate limit exceeded for https://eu.api.smith.langchain.com/runs/multipart. HTTPError('429 Client Error: Too Many Requests for url: https://eu.api.smith.langchain.com/runs/multipart', '{\"error\":\"Too many requests: tenant exceeded usage limits: Monthly unique traces usage limit exceeded\"}\\n')trace=09bc11d5-da04-4577-8dbf-19b262d15179,id=09bc11d5-da04-4577-8dbf-19b262d15179; trace=09bc11d5-da04-4577-8dbf-19b262d15179,id=09bc11d5-da04-4577-8dbf-19b262d15179\n",
            "WARNING:langsmith.client:Failed to send compressed multipart ingest: langsmith.utils.LangSmithRateLimitError: Rate limit exceeded for https://eu.api.smith.langchain.com/runs/multipart. HTTPError('429 Client Error: Too Many Requests for url: https://eu.api.smith.langchain.com/runs/multipart', '{\"error\":\"Too many requests: tenant exceeded usage limits: Monthly unique traces usage limit exceeded\"}\\n')trace=99b8e18a-4762-44bb-9726-e4128700dc3d,id=99b8e18a-4762-44bb-9726-e4128700dc3d; trace=99b8e18a-4762-44bb-9726-e4128700dc3d,id=99b8e18a-4762-44bb-9726-e4128700dc3d\n",
            "WARNING:langsmith.client:Failed to send compressed multipart ingest: langsmith.utils.LangSmithRateLimitError: Rate limit exceeded for https://eu.api.smith.langchain.com/runs/multipart. HTTPError('429 Client Error: Too Many Requests for url: https://eu.api.smith.langchain.com/runs/multipart', '{\"error\":\"Too many requests: tenant exceeded usage limits: Monthly unique traces usage limit exceeded\"}\\n')trace=79808b16-1b20-4695-9e9d-8ea368a1d40a,id=79808b16-1b20-4695-9e9d-8ea368a1d40a\n",
            "WARNING:langsmith.client:Failed to send compressed multipart ingest: langsmith.utils.LangSmithRateLimitError: Rate limit exceeded for https://eu.api.smith.langchain.com/runs/multipart. HTTPError('429 Client Error: Too Many Requests for url: https://eu.api.smith.langchain.com/runs/multipart', '{\"error\":\"Too many requests: tenant exceeded usage limits: Monthly unique traces usage limit exceeded\"}\\n')trace=79808b16-1b20-4695-9e9d-8ea368a1d40a,id=79808b16-1b20-4695-9e9d-8ea368a1d40a\n",
            "WARNING:langsmith.client:Failed to send compressed multipart ingest: langsmith.utils.LangSmithRateLimitError: Rate limit exceeded for https://eu.api.smith.langchain.com/runs/multipart. HTTPError('429 Client Error: Too Many Requests for url: https://eu.api.smith.langchain.com/runs/multipart', '{\"error\":\"Too many requests: tenant exceeded usage limits: Monthly unique traces usage limit exceeded\"}\\n')trace=f16e7b51-30b5-4464-894c-1d04fda2ded3,id=f16e7b51-30b5-4464-894c-1d04fda2ded3\n",
            "WARNING:langsmith.client:Failed to send compressed multipart ingest: langsmith.utils.LangSmithRateLimitError: Rate limit exceeded for https://eu.api.smith.langchain.com/runs/multipart. HTTPError('429 Client Error: Too Many Requests for url: https://eu.api.smith.langchain.com/runs/multipart', '{\"error\":\"Too many requests: tenant exceeded usage limits: Monthly unique traces usage limit exceeded\"}\\n')trace=f16e7b51-30b5-4464-894c-1d04fda2ded3,id=f16e7b51-30b5-4464-894c-1d04fda2ded3\n",
            "WARNING:langsmith.client:Failed to send compressed multipart ingest: langsmith.utils.LangSmithRateLimitError: Rate limit exceeded for https://eu.api.smith.langchain.com/runs/multipart. HTTPError('429 Client Error: Too Many Requests for url: https://eu.api.smith.langchain.com/runs/multipart', '{\"error\":\"Too many requests: tenant exceeded usage limits: Monthly unique traces usage limit exceeded\"}\\n')trace=41ba16be-0ef0-4392-b5ef-52eff645a118,id=41ba16be-0ef0-4392-b5ef-52eff645a118; trace=41ba16be-0ef0-4392-b5ef-52eff645a118,id=41ba16be-0ef0-4392-b5ef-52eff645a118\n",
            "WARNING:langsmith.client:Failed to send compressed multipart ingest: langsmith.utils.LangSmithRateLimitError: Rate limit exceeded for https://eu.api.smith.langchain.com/runs/multipart. HTTPError('429 Client Error: Too Many Requests for url: https://eu.api.smith.langchain.com/runs/multipart', '{\"error\":\"Too many requests: tenant exceeded usage limits: Monthly unique traces usage limit exceeded\"}\\n')trace=1b881e85-a3fa-4492-9001-b373e3821c25,id=1b881e85-a3fa-4492-9001-b373e3821c25; trace=1b881e85-a3fa-4492-9001-b373e3821c25,id=1b881e85-a3fa-4492-9001-b373e3821c25\n",
            "WARNING:langsmith.client:Failed to send compressed multipart ingest: langsmith.utils.LangSmithRateLimitError: Rate limit exceeded for https://eu.api.smith.langchain.com/runs/multipart. HTTPError('429 Client Error: Too Many Requests for url: https://eu.api.smith.langchain.com/runs/multipart', '{\"error\":\"Too many requests: tenant exceeded usage limits: Monthly unique traces usage limit exceeded\"}\\n')trace=01759efe-98d2-4f7d-acc1-dd5c0eaf70b8,id=01759efe-98d2-4f7d-acc1-dd5c0eaf70b8; trace=01759efe-98d2-4f7d-acc1-dd5c0eaf70b8,id=01759efe-98d2-4f7d-acc1-dd5c0eaf70b8\n"
          ]
        },
        {
          "output_type": "stream",
          "name": "stdout",
          "text": [
            "All samples processed in 1.71 seconds.\n",
            "--------------------------------------\n",
            "--------------------------------------\n",
            "\n",
            "--------------------------------------\n",
            "--------------------------------------\n",
            "\n",
            "\n",
            "%%%%%%%%%%%%%%%%%%%%%%\n",
            "Shuffle 3 & N Examples 4\n",
            "%%%%%%%%%%%%%%%%%%%%%%\n",
            "Warning: Cannot perform stratified split based on both Experimenter and Allocation due to classes with less than 2 samples in combined categories. Performing stratified split based on Experimenter only.\n",
            "Warning: Cannot perform stratified split based on Experimenter either. Performing non-stratified split.\n",
            "Created a training set with 4 samples.\n",
            "Created a test set with 19 samples.\n",
            "Directory '/content/extracted_examples_4_shuffle_3' created successfully.\n"
          ]
        },
        {
          "output_type": "stream",
          "name": "stderr",
          "text": [
            "WARNING:langsmith.client:Failed to send compressed multipart ingest: langsmith.utils.LangSmithRateLimitError: Rate limit exceeded for https://eu.api.smith.langchain.com/runs/multipart. HTTPError('429 Client Error: Too Many Requests for url: https://eu.api.smith.langchain.com/runs/multipart', '{\"error\":\"Too many requests: tenant exceeded usage limits: Monthly unique traces usage limit exceeded\"}\\n')trace=7b9a332f-96b5-4f19-b50e-76f441389e99,id=7b9a332f-96b5-4f19-b50e-76f441389e99; trace=7b9a332f-96b5-4f19-b50e-76f441389e99,id=7b9a332f-96b5-4f19-b50e-76f441389e99\n",
            "WARNING:langsmith.client:Failed to send compressed multipart ingest: langsmith.utils.LangSmithRateLimitError: Rate limit exceeded for https://eu.api.smith.langchain.com/runs/multipart. HTTPError('429 Client Error: Too Many Requests for url: https://eu.api.smith.langchain.com/runs/multipart', '{\"error\":\"Too many requests: tenant exceeded usage limits: Monthly unique traces usage limit exceeded\"}\\n')trace=bc622461-f08c-4014-9a62-e49475d43a1f,id=bc622461-f08c-4014-9a62-e49475d43a1f\n",
            "WARNING:langsmith.client:Failed to send compressed multipart ingest: langsmith.utils.LangSmithRateLimitError: Rate limit exceeded for https://eu.api.smith.langchain.com/runs/multipart. HTTPError('429 Client Error: Too Many Requests for url: https://eu.api.smith.langchain.com/runs/multipart', '{\"error\":\"Too many requests: tenant exceeded usage limits: Monthly unique traces usage limit exceeded\"}\\n')trace=bc622461-f08c-4014-9a62-e49475d43a1f,id=bc622461-f08c-4014-9a62-e49475d43a1f\n",
            "WARNING:langsmith.client:Failed to send compressed multipart ingest: langsmith.utils.LangSmithRateLimitError: Rate limit exceeded for https://eu.api.smith.langchain.com/runs/multipart. HTTPError('429 Client Error: Too Many Requests for url: https://eu.api.smith.langchain.com/runs/multipart', '{\"error\":\"Too many requests: tenant exceeded usage limits: Monthly unique traces usage limit exceeded\"}\\n')trace=c5c3eb1a-26db-4434-be8c-8abd019b166f,id=c5c3eb1a-26db-4434-be8c-8abd019b166f; trace=c5c3eb1a-26db-4434-be8c-8abd019b166f,id=c5c3eb1a-26db-4434-be8c-8abd019b166f\n",
            "WARNING:langsmith.client:Failed to send compressed multipart ingest: langsmith.utils.LangSmithRateLimitError: Rate limit exceeded for https://eu.api.smith.langchain.com/runs/multipart. HTTPError('429 Client Error: Too Many Requests for url: https://eu.api.smith.langchain.com/runs/multipart', '{\"error\":\"Too many requests: tenant exceeded usage limits: Monthly unique traces usage limit exceeded\"}\\n')trace=1f7dc500-fc09-4b49-9ee8-d51abad4f531,id=1f7dc500-fc09-4b49-9ee8-d51abad4f531; trace=1f7dc500-fc09-4b49-9ee8-d51abad4f531,id=1f7dc500-fc09-4b49-9ee8-d51abad4f531\n",
            "WARNING:langsmith.client:Failed to send compressed multipart ingest: langsmith.utils.LangSmithRateLimitError: Rate limit exceeded for https://eu.api.smith.langchain.com/runs/multipart. HTTPError('429 Client Error: Too Many Requests for url: https://eu.api.smith.langchain.com/runs/multipart', '{\"error\":\"Too many requests: tenant exceeded usage limits: Monthly unique traces usage limit exceeded\"}\\n')trace=8590aaa6-03a5-4b1d-9a6d-798541475c72,id=8590aaa6-03a5-4b1d-9a6d-798541475c72; trace=8590aaa6-03a5-4b1d-9a6d-798541475c72,id=8590aaa6-03a5-4b1d-9a6d-798541475c72\n",
            "WARNING:langsmith.client:Failed to send compressed multipart ingest: langsmith.utils.LangSmithRateLimitError: Rate limit exceeded for https://eu.api.smith.langchain.com/runs/multipart. HTTPError('429 Client Error: Too Many Requests for url: https://eu.api.smith.langchain.com/runs/multipart', '{\"error\":\"Too many requests: tenant exceeded usage limits: Monthly unique traces usage limit exceeded\"}\\n')trace=02219ede-1956-4f43-9a2f-03277acffd97,id=02219ede-1956-4f43-9a2f-03277acffd97; trace=02219ede-1956-4f43-9a2f-03277acffd97,id=02219ede-1956-4f43-9a2f-03277acffd97\n",
            "WARNING:langsmith.client:Failed to send compressed multipart ingest: langsmith.utils.LangSmithRateLimitError: Rate limit exceeded for https://eu.api.smith.langchain.com/runs/multipart. HTTPError('429 Client Error: Too Many Requests for url: https://eu.api.smith.langchain.com/runs/multipart', '{\"error\":\"Too many requests: tenant exceeded usage limits: Monthly unique traces usage limit exceeded\"}\\n')trace=5b3a0942-7dd1-47bf-9692-d4b0eb26f28f,id=5b3a0942-7dd1-47bf-9692-d4b0eb26f28f; trace=5b3a0942-7dd1-47bf-9692-d4b0eb26f28f,id=5b3a0942-7dd1-47bf-9692-d4b0eb26f28f\n",
            "WARNING:langsmith.client:Failed to send compressed multipart ingest: langsmith.utils.LangSmithRateLimitError: Rate limit exceeded for https://eu.api.smith.langchain.com/runs/multipart. HTTPError('429 Client Error: Too Many Requests for url: https://eu.api.smith.langchain.com/runs/multipart', '{\"error\":\"Too many requests: tenant exceeded usage limits: Monthly unique traces usage limit exceeded\"}\\n')trace=0ee75abb-54eb-40f2-85ce-d86ba4d5e659,id=0ee75abb-54eb-40f2-85ce-d86ba4d5e659; trace=0ee75abb-54eb-40f2-85ce-d86ba4d5e659,id=0ee75abb-54eb-40f2-85ce-d86ba4d5e659\n",
            "WARNING:langsmith.client:Failed to send compressed multipart ingest: langsmith.utils.LangSmithRateLimitError: Rate limit exceeded for https://eu.api.smith.langchain.com/runs/multipart. HTTPError('429 Client Error: Too Many Requests for url: https://eu.api.smith.langchain.com/runs/multipart', '{\"error\":\"Too many requests: tenant exceeded usage limits: Monthly unique traces usage limit exceeded\"}\\n')trace=5b5f5599-1aca-4c6c-afb4-76e886847c9a,id=5b5f5599-1aca-4c6c-afb4-76e886847c9a; trace=5b5f5599-1aca-4c6c-afb4-76e886847c9a,id=5b5f5599-1aca-4c6c-afb4-76e886847c9a\n",
            "WARNING:langsmith.client:Failed to send compressed multipart ingest: langsmith.utils.LangSmithRateLimitError: Rate limit exceeded for https://eu.api.smith.langchain.com/runs/multipart. HTTPError('429 Client Error: Too Many Requests for url: https://eu.api.smith.langchain.com/runs/multipart', '{\"error\":\"Too many requests: tenant exceeded usage limits: Monthly unique traces usage limit exceeded\"}\\n')trace=33792cc2-a90f-4f08-9187-dc562f1fe39e,id=33792cc2-a90f-4f08-9187-dc562f1fe39e; trace=33792cc2-a90f-4f08-9187-dc562f1fe39e,id=33792cc2-a90f-4f08-9187-dc562f1fe39e\n",
            "WARNING:langsmith.client:Failed to send compressed multipart ingest: langsmith.utils.LangSmithRateLimitError: Rate limit exceeded for https://eu.api.smith.langchain.com/runs/multipart. HTTPError('429 Client Error: Too Many Requests for url: https://eu.api.smith.langchain.com/runs/multipart', '{\"error\":\"Too many requests: tenant exceeded usage limits: Monthly unique traces usage limit exceeded\"}\\n')trace=5aecfdff-f639-4260-aa06-e3795235d657,id=5aecfdff-f639-4260-aa06-e3795235d657; trace=5aecfdff-f639-4260-aa06-e3795235d657,id=5aecfdff-f639-4260-aa06-e3795235d657\n",
            "WARNING:langsmith.client:Failed to send compressed multipart ingest: langsmith.utils.LangSmithRateLimitError: Rate limit exceeded for https://eu.api.smith.langchain.com/runs/multipart. HTTPError('429 Client Error: Too Many Requests for url: https://eu.api.smith.langchain.com/runs/multipart', '{\"error\":\"Too many requests: tenant exceeded usage limits: Monthly unique traces usage limit exceeded\"}\\n')trace=6ee12ed9-a28a-4606-a311-7ae779f907ce,id=6ee12ed9-a28a-4606-a311-7ae779f907ce; trace=6ee12ed9-a28a-4606-a311-7ae779f907ce,id=6ee12ed9-a28a-4606-a311-7ae779f907ce\n",
            "WARNING:langsmith.client:Failed to send compressed multipart ingest: langsmith.utils.LangSmithRateLimitError: Rate limit exceeded for https://eu.api.smith.langchain.com/runs/multipart. HTTPError('429 Client Error: Too Many Requests for url: https://eu.api.smith.langchain.com/runs/multipart', '{\"error\":\"Too many requests: tenant exceeded usage limits: Monthly unique traces usage limit exceeded\"}\\n')trace=2fdcc6cd-21b7-49ab-ac80-cc380f72637b,id=2fdcc6cd-21b7-49ab-ac80-cc380f72637b; trace=2fdcc6cd-21b7-49ab-ac80-cc380f72637b,id=2fdcc6cd-21b7-49ab-ac80-cc380f72637b\n",
            "WARNING:langsmith.client:Failed to send compressed multipart ingest: langsmith.utils.LangSmithRateLimitError: Rate limit exceeded for https://eu.api.smith.langchain.com/runs/multipart. HTTPError('429 Client Error: Too Many Requests for url: https://eu.api.smith.langchain.com/runs/multipart', '{\"error\":\"Too many requests: tenant exceeded usage limits: Monthly unique traces usage limit exceeded\"}\\n')trace=ce265f1b-eec8-4984-ba68-eea214be2e98,id=ce265f1b-eec8-4984-ba68-eea214be2e98; trace=ce265f1b-eec8-4984-ba68-eea214be2e98,id=ce265f1b-eec8-4984-ba68-eea214be2e98\n",
            "WARNING:langsmith.client:Failed to send compressed multipart ingest: langsmith.utils.LangSmithRateLimitError: Rate limit exceeded for https://eu.api.smith.langchain.com/runs/multipart. HTTPError('429 Client Error: Too Many Requests for url: https://eu.api.smith.langchain.com/runs/multipart', '{\"error\":\"Too many requests: tenant exceeded usage limits: Monthly unique traces usage limit exceeded\"}\\n')trace=56a33b52-b28e-4dab-9979-ef43843b8e69,id=56a33b52-b28e-4dab-9979-ef43843b8e69; trace=56a33b52-b28e-4dab-9979-ef43843b8e69,id=56a33b52-b28e-4dab-9979-ef43843b8e69\n",
            "WARNING:langsmith.client:Failed to send compressed multipart ingest: langsmith.utils.LangSmithRateLimitError: Rate limit exceeded for https://eu.api.smith.langchain.com/runs/multipart. HTTPError('429 Client Error: Too Many Requests for url: https://eu.api.smith.langchain.com/runs/multipart', '{\"error\":\"Too many requests: tenant exceeded usage limits: Monthly unique traces usage limit exceeded\"}\\n')trace=010d2f83-4f10-491a-811c-2b361b849874,id=010d2f83-4f10-491a-811c-2b361b849874; trace=010d2f83-4f10-491a-811c-2b361b849874,id=010d2f83-4f10-491a-811c-2b361b849874\n",
            "WARNING:langsmith.client:Failed to send compressed multipart ingest: langsmith.utils.LangSmithRateLimitError: Rate limit exceeded for https://eu.api.smith.langchain.com/runs/multipart. HTTPError('429 Client Error: Too Many Requests for url: https://eu.api.smith.langchain.com/runs/multipart', '{\"error\":\"Too many requests: tenant exceeded usage limits: Monthly unique traces usage limit exceeded\"}\\n')trace=3449959a-cdee-4c72-b9ea-29503f7da0e9,id=3449959a-cdee-4c72-b9ea-29503f7da0e9; trace=3449959a-cdee-4c72-b9ea-29503f7da0e9,id=3449959a-cdee-4c72-b9ea-29503f7da0e9\n",
            "WARNING:langsmith.client:Failed to send compressed multipart ingest: langsmith.utils.LangSmithRateLimitError: Rate limit exceeded for https://eu.api.smith.langchain.com/runs/multipart. HTTPError('429 Client Error: Too Many Requests for url: https://eu.api.smith.langchain.com/runs/multipart', '{\"error\":\"Too many requests: tenant exceeded usage limits: Monthly unique traces usage limit exceeded\"}\\n')trace=f92d857d-52ba-4193-bc58-dc40ac150d8d,id=f92d857d-52ba-4193-bc58-dc40ac150d8d\n",
            "WARNING:langsmith.client:Failed to send compressed multipart ingest: langsmith.utils.LangSmithRateLimitError: Rate limit exceeded for https://eu.api.smith.langchain.com/runs/multipart. HTTPError('429 Client Error: Too Many Requests for url: https://eu.api.smith.langchain.com/runs/multipart', '{\"error\":\"Too many requests: tenant exceeded usage limits: Monthly unique traces usage limit exceeded\"}\\n')trace=f92d857d-52ba-4193-bc58-dc40ac150d8d,id=f92d857d-52ba-4193-bc58-dc40ac150d8d\n",
            "WARNING:langsmith.client:Failed to send compressed multipart ingest: langsmith.utils.LangSmithRateLimitError: Rate limit exceeded for https://eu.api.smith.langchain.com/runs/multipart. HTTPError('429 Client Error: Too Many Requests for url: https://eu.api.smith.langchain.com/runs/multipart', '{\"error\":\"Too many requests: tenant exceeded usage limits: Monthly unique traces usage limit exceeded\"}\\n')trace=c129f853-39d8-4da9-97cc-c7aed478d586,id=c129f853-39d8-4da9-97cc-c7aed478d586; trace=c129f853-39d8-4da9-97cc-c7aed478d586,id=c129f853-39d8-4da9-97cc-c7aed478d586\n"
          ]
        },
        {
          "output_type": "stream",
          "name": "stdout",
          "text": [
            "All samples processed in 1.58 seconds.\n",
            "--------------------------------------\n",
            "--------------------------------------\n",
            "\n",
            "--------------------------------------\n",
            "--------------------------------------\n",
            "\n",
            "\n",
            "%%%%%%%%%%%%%%%%%%%%%%\n",
            "Shuffle 1 & N Examples 5\n",
            "%%%%%%%%%%%%%%%%%%%%%%\n",
            "Warning: Cannot perform stratified split based on both Experimenter and Allocation due to classes with less than 2 samples in combined categories. Performing stratified split based on Experimenter only.\n",
            "Warning: Cannot perform stratified split based on Experimenter either. Performing non-stratified split.\n",
            "Created a training set with 5 samples.\n",
            "Created a test set with 18 samples.\n",
            "Directory '/content/extracted_examples_5_shuffle_1' created successfully.\n"
          ]
        },
        {
          "output_type": "stream",
          "name": "stderr",
          "text": [
            "WARNING:langsmith.client:Failed to send compressed multipart ingest: langsmith.utils.LangSmithRateLimitError: Rate limit exceeded for https://eu.api.smith.langchain.com/runs/multipart. HTTPError('429 Client Error: Too Many Requests for url: https://eu.api.smith.langchain.com/runs/multipart', '{\"error\":\"Too many requests: tenant exceeded usage limits: Monthly unique traces usage limit exceeded\"}\\n')trace=47cc005e-26d9-4fda-be7b-6cf53658981e,id=47cc005e-26d9-4fda-be7b-6cf53658981e; trace=47cc005e-26d9-4fda-be7b-6cf53658981e,id=47cc005e-26d9-4fda-be7b-6cf53658981e\n",
            "WARNING:langsmith.client:Failed to send compressed multipart ingest: langsmith.utils.LangSmithRateLimitError: Rate limit exceeded for https://eu.api.smith.langchain.com/runs/multipart. HTTPError('429 Client Error: Too Many Requests for url: https://eu.api.smith.langchain.com/runs/multipart', '{\"error\":\"Too many requests: tenant exceeded usage limits: Monthly unique traces usage limit exceeded\"}\\n')trace=c76b9a00-e183-422f-bea4-fe5346cd91df,id=c76b9a00-e183-422f-bea4-fe5346cd91df; trace=c76b9a00-e183-422f-bea4-fe5346cd91df,id=c76b9a00-e183-422f-bea4-fe5346cd91df\n",
            "WARNING:langsmith.client:Failed to send compressed multipart ingest: langsmith.utils.LangSmithRateLimitError: Rate limit exceeded for https://eu.api.smith.langchain.com/runs/multipart. HTTPError('429 Client Error: Too Many Requests for url: https://eu.api.smith.langchain.com/runs/multipart', '{\"error\":\"Too many requests: tenant exceeded usage limits: Monthly unique traces usage limit exceeded\"}\\n')trace=d8318d99-e217-4f9a-8b1e-cedbe1a640d2,id=d8318d99-e217-4f9a-8b1e-cedbe1a640d2; trace=d8318d99-e217-4f9a-8b1e-cedbe1a640d2,id=d8318d99-e217-4f9a-8b1e-cedbe1a640d2\n",
            "WARNING:langsmith.client:Failed to send compressed multipart ingest: langsmith.utils.LangSmithRateLimitError: Rate limit exceeded for https://eu.api.smith.langchain.com/runs/multipart. HTTPError('429 Client Error: Too Many Requests for url: https://eu.api.smith.langchain.com/runs/multipart', '{\"error\":\"Too many requests: tenant exceeded usage limits: Monthly unique traces usage limit exceeded\"}\\n')trace=e51dd6b4-a4d4-4986-952d-bee28a82dc8a,id=e51dd6b4-a4d4-4986-952d-bee28a82dc8a\n",
            "WARNING:langsmith.client:Failed to send compressed multipart ingest: langsmith.utils.LangSmithRateLimitError: Rate limit exceeded for https://eu.api.smith.langchain.com/runs/multipart. HTTPError('429 Client Error: Too Many Requests for url: https://eu.api.smith.langchain.com/runs/multipart', '{\"error\":\"Too many requests: tenant exceeded usage limits: Monthly unique traces usage limit exceeded\"}\\n')trace=e51dd6b4-a4d4-4986-952d-bee28a82dc8a,id=e51dd6b4-a4d4-4986-952d-bee28a82dc8a\n",
            "WARNING:langsmith.client:Failed to send compressed multipart ingest: langsmith.utils.LangSmithRateLimitError: Rate limit exceeded for https://eu.api.smith.langchain.com/runs/multipart. HTTPError('429 Client Error: Too Many Requests for url: https://eu.api.smith.langchain.com/runs/multipart', '{\"error\":\"Too many requests: tenant exceeded usage limits: Monthly unique traces usage limit exceeded\"}\\n')trace=44f8fdf7-a613-4815-937b-956d79f25169,id=44f8fdf7-a613-4815-937b-956d79f25169\n",
            "WARNING:langsmith.client:Failed to send compressed multipart ingest: langsmith.utils.LangSmithRateLimitError: Rate limit exceeded for https://eu.api.smith.langchain.com/runs/multipart. HTTPError('429 Client Error: Too Many Requests for url: https://eu.api.smith.langchain.com/runs/multipart', '{\"error\":\"Too many requests: tenant exceeded usage limits: Monthly unique traces usage limit exceeded\"}\\n')trace=44f8fdf7-a613-4815-937b-956d79f25169,id=44f8fdf7-a613-4815-937b-956d79f25169\n",
            "WARNING:langsmith.client:Failed to send compressed multipart ingest: langsmith.utils.LangSmithRateLimitError: Rate limit exceeded for https://eu.api.smith.langchain.com/runs/multipart. HTTPError('429 Client Error: Too Many Requests for url: https://eu.api.smith.langchain.com/runs/multipart', '{\"error\":\"Too many requests: tenant exceeded usage limits: Monthly unique traces usage limit exceeded\"}\\n')trace=6845419d-cfc4-4f64-9f12-27962a393e28,id=6845419d-cfc4-4f64-9f12-27962a393e28; trace=6845419d-cfc4-4f64-9f12-27962a393e28,id=6845419d-cfc4-4f64-9f12-27962a393e28\n",
            "WARNING:langsmith.client:Failed to send compressed multipart ingest: langsmith.utils.LangSmithRateLimitError: Rate limit exceeded for https://eu.api.smith.langchain.com/runs/multipart. HTTPError('429 Client Error: Too Many Requests for url: https://eu.api.smith.langchain.com/runs/multipart', '{\"error\":\"Too many requests: tenant exceeded usage limits: Monthly unique traces usage limit exceeded\"}\\n')trace=22e67955-1b90-4014-a61e-6dc4ec738ca6,id=22e67955-1b90-4014-a61e-6dc4ec738ca6; trace=22e67955-1b90-4014-a61e-6dc4ec738ca6,id=22e67955-1b90-4014-a61e-6dc4ec738ca6\n",
            "WARNING:langsmith.client:Failed to send compressed multipart ingest: langsmith.utils.LangSmithRateLimitError: Rate limit exceeded for https://eu.api.smith.langchain.com/runs/multipart. HTTPError('429 Client Error: Too Many Requests for url: https://eu.api.smith.langchain.com/runs/multipart', '{\"error\":\"Too many requests: tenant exceeded usage limits: Monthly unique traces usage limit exceeded\"}\\n')trace=f2ad9f5d-63f8-4242-8b5f-67b2c81c9bf2,id=f2ad9f5d-63f8-4242-8b5f-67b2c81c9bf2; trace=f2ad9f5d-63f8-4242-8b5f-67b2c81c9bf2,id=f2ad9f5d-63f8-4242-8b5f-67b2c81c9bf2\n",
            "WARNING:langsmith.client:Failed to send compressed multipart ingest: langsmith.utils.LangSmithRateLimitError: Rate limit exceeded for https://eu.api.smith.langchain.com/runs/multipart. HTTPError('429 Client Error: Too Many Requests for url: https://eu.api.smith.langchain.com/runs/multipart', '{\"error\":\"Too many requests: tenant exceeded usage limits: Monthly unique traces usage limit exceeded\"}\\n')trace=2d5cc74e-15f7-45a6-8f28-6bf8fe4bf634,id=2d5cc74e-15f7-45a6-8f28-6bf8fe4bf634; trace=2d5cc74e-15f7-45a6-8f28-6bf8fe4bf634,id=2d5cc74e-15f7-45a6-8f28-6bf8fe4bf634\n",
            "WARNING:langsmith.client:Failed to send compressed multipart ingest: langsmith.utils.LangSmithRateLimitError: Rate limit exceeded for https://eu.api.smith.langchain.com/runs/multipart. HTTPError('429 Client Error: Too Many Requests for url: https://eu.api.smith.langchain.com/runs/multipart', '{\"error\":\"Too many requests: tenant exceeded usage limits: Monthly unique traces usage limit exceeded\"}\\n')trace=0a3332dd-6439-4def-8d43-4e685fe759a3,id=0a3332dd-6439-4def-8d43-4e685fe759a3; trace=0a3332dd-6439-4def-8d43-4e685fe759a3,id=0a3332dd-6439-4def-8d43-4e685fe759a3\n",
            "WARNING:langsmith.client:Failed to send compressed multipart ingest: langsmith.utils.LangSmithRateLimitError: Rate limit exceeded for https://eu.api.smith.langchain.com/runs/multipart. HTTPError('429 Client Error: Too Many Requests for url: https://eu.api.smith.langchain.com/runs/multipart', '{\"error\":\"Too many requests: tenant exceeded usage limits: Monthly unique traces usage limit exceeded\"}\\n')trace=7372b21c-5d25-4572-bc7e-2458c4f0649d,id=7372b21c-5d25-4572-bc7e-2458c4f0649d; trace=7372b21c-5d25-4572-bc7e-2458c4f0649d,id=7372b21c-5d25-4572-bc7e-2458c4f0649d\n",
            "WARNING:langsmith.client:Failed to send compressed multipart ingest: langsmith.utils.LangSmithRateLimitError: Rate limit exceeded for https://eu.api.smith.langchain.com/runs/multipart. HTTPError('429 Client Error: Too Many Requests for url: https://eu.api.smith.langchain.com/runs/multipart', '{\"error\":\"Too many requests: tenant exceeded usage limits: Monthly unique traces usage limit exceeded\"}\\n')trace=cd0aa58d-39a7-447b-a1c1-46f2f472785b,id=cd0aa58d-39a7-447b-a1c1-46f2f472785b; trace=cd0aa58d-39a7-447b-a1c1-46f2f472785b,id=cd0aa58d-39a7-447b-a1c1-46f2f472785b\n",
            "WARNING:langsmith.client:Failed to send compressed multipart ingest: langsmith.utils.LangSmithRateLimitError: Rate limit exceeded for https://eu.api.smith.langchain.com/runs/multipart. HTTPError('429 Client Error: Too Many Requests for url: https://eu.api.smith.langchain.com/runs/multipart', '{\"error\":\"Too many requests: tenant exceeded usage limits: Monthly unique traces usage limit exceeded\"}\\n')trace=65af1cfd-1258-4215-ac41-8d6331c483fa,id=65af1cfd-1258-4215-ac41-8d6331c483fa; trace=65af1cfd-1258-4215-ac41-8d6331c483fa,id=65af1cfd-1258-4215-ac41-8d6331c483fa\n",
            "WARNING:langsmith.client:Failed to send compressed multipart ingest: langsmith.utils.LangSmithRateLimitError: Rate limit exceeded for https://eu.api.smith.langchain.com/runs/multipart. HTTPError('429 Client Error: Too Many Requests for url: https://eu.api.smith.langchain.com/runs/multipart', '{\"error\":\"Too many requests: tenant exceeded usage limits: Monthly unique traces usage limit exceeded\"}\\n')trace=c91b69c6-c616-43da-8637-a883ddccc50e,id=c91b69c6-c616-43da-8637-a883ddccc50e; trace=c91b69c6-c616-43da-8637-a883ddccc50e,id=c91b69c6-c616-43da-8637-a883ddccc50e\n",
            "WARNING:langsmith.client:Failed to send compressed multipart ingest: langsmith.utils.LangSmithRateLimitError: Rate limit exceeded for https://eu.api.smith.langchain.com/runs/multipart. HTTPError('429 Client Error: Too Many Requests for url: https://eu.api.smith.langchain.com/runs/multipart', '{\"error\":\"Too many requests: tenant exceeded usage limits: Monthly unique traces usage limit exceeded\"}\\n')trace=9fcab815-c30a-49d2-806b-abd8186331bf,id=9fcab815-c30a-49d2-806b-abd8186331bf; trace=9fcab815-c30a-49d2-806b-abd8186331bf,id=9fcab815-c30a-49d2-806b-abd8186331bf\n",
            "WARNING:langsmith.client:Failed to send compressed multipart ingest: langsmith.utils.LangSmithRateLimitError: Rate limit exceeded for https://eu.api.smith.langchain.com/runs/multipart. HTTPError('429 Client Error: Too Many Requests for url: https://eu.api.smith.langchain.com/runs/multipart', '{\"error\":\"Too many requests: tenant exceeded usage limits: Monthly unique traces usage limit exceeded\"}\\n')trace=e4942b97-ce0a-4683-afd6-79f16d7add7d,id=e4942b97-ce0a-4683-afd6-79f16d7add7d; trace=e4942b97-ce0a-4683-afd6-79f16d7add7d,id=e4942b97-ce0a-4683-afd6-79f16d7add7d\n",
            "WARNING:langsmith.client:Failed to send compressed multipart ingest: langsmith.utils.LangSmithRateLimitError: Rate limit exceeded for https://eu.api.smith.langchain.com/runs/multipart. HTTPError('429 Client Error: Too Many Requests for url: https://eu.api.smith.langchain.com/runs/multipart', '{\"error\":\"Too many requests: tenant exceeded usage limits: Monthly unique traces usage limit exceeded\"}\\n')trace=944c8cec-d49c-4a07-9358-5f3f21fde097,id=944c8cec-d49c-4a07-9358-5f3f21fde097; trace=944c8cec-d49c-4a07-9358-5f3f21fde097,id=944c8cec-d49c-4a07-9358-5f3f21fde097\n",
            "WARNING:langsmith.client:Failed to send compressed multipart ingest: langsmith.utils.LangSmithRateLimitError: Rate limit exceeded for https://eu.api.smith.langchain.com/runs/multipart. HTTPError('429 Client Error: Too Many Requests for url: https://eu.api.smith.langchain.com/runs/multipart', '{\"error\":\"Too many requests: tenant exceeded usage limits: Monthly unique traces usage limit exceeded\"}\\n')trace=ebe7a25e-7d59-4602-b477-6579d78fb303,id=ebe7a25e-7d59-4602-b477-6579d78fb303; trace=ebe7a25e-7d59-4602-b477-6579d78fb303,id=ebe7a25e-7d59-4602-b477-6579d78fb303\n"
          ]
        },
        {
          "output_type": "stream",
          "name": "stdout",
          "text": [
            "All samples processed in 1.89 seconds.\n",
            "--------------------------------------\n",
            "--------------------------------------\n",
            "\n",
            "--------------------------------------\n",
            "--------------------------------------\n",
            "\n",
            "\n",
            "%%%%%%%%%%%%%%%%%%%%%%\n",
            "Shuffle 2 & N Examples 5\n",
            "%%%%%%%%%%%%%%%%%%%%%%\n",
            "Warning: Cannot perform stratified split based on both Experimenter and Allocation due to classes with less than 2 samples in combined categories. Performing stratified split based on Experimenter only.\n",
            "Warning: Cannot perform stratified split based on Experimenter either. Performing non-stratified split.\n",
            "Created a training set with 5 samples.\n",
            "Created a test set with 18 samples.\n",
            "Directory '/content/extracted_examples_5_shuffle_2' created successfully.\n"
          ]
        },
        {
          "output_type": "stream",
          "name": "stderr",
          "text": [
            "WARNING:langsmith.client:Failed to send compressed multipart ingest: langsmith.utils.LangSmithRateLimitError: Rate limit exceeded for https://eu.api.smith.langchain.com/runs/multipart. HTTPError('429 Client Error: Too Many Requests for url: https://eu.api.smith.langchain.com/runs/multipart', '{\"error\":\"Too many requests: tenant exceeded usage limits: Monthly unique traces usage limit exceeded\"}\\n')trace=0a0484f5-ff57-40ff-ab31-ea58406f75fd,id=0a0484f5-ff57-40ff-ab31-ea58406f75fd; trace=0a0484f5-ff57-40ff-ab31-ea58406f75fd,id=0a0484f5-ff57-40ff-ab31-ea58406f75fd\n",
            "WARNING:langsmith.client:Failed to send compressed multipart ingest: langsmith.utils.LangSmithRateLimitError: Rate limit exceeded for https://eu.api.smith.langchain.com/runs/multipart. HTTPError('429 Client Error: Too Many Requests for url: https://eu.api.smith.langchain.com/runs/multipart', '{\"error\":\"Too many requests: tenant exceeded usage limits: Monthly unique traces usage limit exceeded\"}\\n')trace=6f6b5258-c68a-45f5-8cdd-8d7aab9bcfd0,id=6f6b5258-c68a-45f5-8cdd-8d7aab9bcfd0; trace=6f6b5258-c68a-45f5-8cdd-8d7aab9bcfd0,id=6f6b5258-c68a-45f5-8cdd-8d7aab9bcfd0\n",
            "WARNING:langsmith.client:Failed to send compressed multipart ingest: langsmith.utils.LangSmithRateLimitError: Rate limit exceeded for https://eu.api.smith.langchain.com/runs/multipart. HTTPError('429 Client Error: Too Many Requests for url: https://eu.api.smith.langchain.com/runs/multipart', '{\"error\":\"Too many requests: tenant exceeded usage limits: Monthly unique traces usage limit exceeded\"}\\n')trace=258127c6-50fc-4b45-95e5-a7b42ee91b3a,id=258127c6-50fc-4b45-95e5-a7b42ee91b3a; trace=258127c6-50fc-4b45-95e5-a7b42ee91b3a,id=258127c6-50fc-4b45-95e5-a7b42ee91b3a\n",
            "WARNING:langsmith.client:Failed to send compressed multipart ingest: langsmith.utils.LangSmithRateLimitError: Rate limit exceeded for https://eu.api.smith.langchain.com/runs/multipart. HTTPError('429 Client Error: Too Many Requests for url: https://eu.api.smith.langchain.com/runs/multipart', '{\"error\":\"Too many requests: tenant exceeded usage limits: Monthly unique traces usage limit exceeded\"}\\n')trace=c19c7604-e61d-4a7a-916c-e1316d5de74b,id=c19c7604-e61d-4a7a-916c-e1316d5de74b; trace=c19c7604-e61d-4a7a-916c-e1316d5de74b,id=c19c7604-e61d-4a7a-916c-e1316d5de74b\n",
            "WARNING:langsmith.client:Failed to send compressed multipart ingest: langsmith.utils.LangSmithRateLimitError: Rate limit exceeded for https://eu.api.smith.langchain.com/runs/multipart. HTTPError('429 Client Error: Too Many Requests for url: https://eu.api.smith.langchain.com/runs/multipart', '{\"error\":\"Too many requests: tenant exceeded usage limits: Monthly unique traces usage limit exceeded\"}\\n')trace=669522ef-6223-431b-9dad-9af84388e7aa,id=669522ef-6223-431b-9dad-9af84388e7aa; trace=669522ef-6223-431b-9dad-9af84388e7aa,id=669522ef-6223-431b-9dad-9af84388e7aa\n",
            "WARNING:langsmith.client:Failed to send compressed multipart ingest: langsmith.utils.LangSmithRateLimitError: Rate limit exceeded for https://eu.api.smith.langchain.com/runs/multipart. HTTPError('429 Client Error: Too Many Requests for url: https://eu.api.smith.langchain.com/runs/multipart', '{\"error\":\"Too many requests: tenant exceeded usage limits: Monthly unique traces usage limit exceeded\"}\\n')trace=57a33d82-c73d-4f3a-8277-6aa2eaa3943b,id=57a33d82-c73d-4f3a-8277-6aa2eaa3943b; trace=57a33d82-c73d-4f3a-8277-6aa2eaa3943b,id=57a33d82-c73d-4f3a-8277-6aa2eaa3943b\n",
            "WARNING:langsmith.client:Failed to send compressed multipart ingest: langsmith.utils.LangSmithRateLimitError: Rate limit exceeded for https://eu.api.smith.langchain.com/runs/multipart. HTTPError('429 Client Error: Too Many Requests for url: https://eu.api.smith.langchain.com/runs/multipart', '{\"error\":\"Too many requests: tenant exceeded usage limits: Monthly unique traces usage limit exceeded\"}\\n')trace=59fc58aa-7e52-4f2b-97aa-d574a166010a,id=59fc58aa-7e52-4f2b-97aa-d574a166010a; trace=59fc58aa-7e52-4f2b-97aa-d574a166010a,id=59fc58aa-7e52-4f2b-97aa-d574a166010a\n",
            "WARNING:langsmith.client:Failed to send compressed multipart ingest: langsmith.utils.LangSmithRateLimitError: Rate limit exceeded for https://eu.api.smith.langchain.com/runs/multipart. HTTPError('429 Client Error: Too Many Requests for url: https://eu.api.smith.langchain.com/runs/multipart', '{\"error\":\"Too many requests: tenant exceeded usage limits: Monthly unique traces usage limit exceeded\"}\\n')trace=b20e6c93-6163-4f6d-815a-a8e4d06a4983,id=b20e6c93-6163-4f6d-815a-a8e4d06a4983; trace=b20e6c93-6163-4f6d-815a-a8e4d06a4983,id=b20e6c93-6163-4f6d-815a-a8e4d06a4983\n",
            "WARNING:langsmith.client:Failed to send compressed multipart ingest: langsmith.utils.LangSmithRateLimitError: Rate limit exceeded for https://eu.api.smith.langchain.com/runs/multipart. HTTPError('429 Client Error: Too Many Requests for url: https://eu.api.smith.langchain.com/runs/multipart', '{\"error\":\"Too many requests: tenant exceeded usage limits: Monthly unique traces usage limit exceeded\"}\\n')trace=306ff34b-0dd0-4ab1-acbc-fe5465640103,id=306ff34b-0dd0-4ab1-acbc-fe5465640103; trace=306ff34b-0dd0-4ab1-acbc-fe5465640103,id=306ff34b-0dd0-4ab1-acbc-fe5465640103\n",
            "WARNING:langsmith.client:Failed to send compressed multipart ingest: langsmith.utils.LangSmithRateLimitError: Rate limit exceeded for https://eu.api.smith.langchain.com/runs/multipart. HTTPError('429 Client Error: Too Many Requests for url: https://eu.api.smith.langchain.com/runs/multipart', '{\"error\":\"Too many requests: tenant exceeded usage limits: Monthly unique traces usage limit exceeded\"}\\n')trace=51dbc595-94c8-448f-8b03-b4175937f0ed,id=51dbc595-94c8-448f-8b03-b4175937f0ed; trace=51dbc595-94c8-448f-8b03-b4175937f0ed,id=51dbc595-94c8-448f-8b03-b4175937f0ed\n",
            "WARNING:langsmith.client:Failed to send compressed multipart ingest: langsmith.utils.LangSmithRateLimitError: Rate limit exceeded for https://eu.api.smith.langchain.com/runs/multipart. HTTPError('429 Client Error: Too Many Requests for url: https://eu.api.smith.langchain.com/runs/multipart', '{\"error\":\"Too many requests: tenant exceeded usage limits: Monthly unique traces usage limit exceeded\"}\\n')trace=183b673f-f27a-4dbf-aa7b-f3de5c3df400,id=183b673f-f27a-4dbf-aa7b-f3de5c3df400; trace=183b673f-f27a-4dbf-aa7b-f3de5c3df400,id=183b673f-f27a-4dbf-aa7b-f3de5c3df400\n",
            "WARNING:langsmith.client:Failed to send compressed multipart ingest: langsmith.utils.LangSmithRateLimitError: Rate limit exceeded for https://eu.api.smith.langchain.com/runs/multipart. HTTPError('429 Client Error: Too Many Requests for url: https://eu.api.smith.langchain.com/runs/multipart', '{\"error\":\"Too many requests: tenant exceeded usage limits: Monthly unique traces usage limit exceeded\"}\\n')trace=1e6e908a-dc0a-4a8b-bcf4-23d51f3bdcd2,id=1e6e908a-dc0a-4a8b-bcf4-23d51f3bdcd2; trace=1e6e908a-dc0a-4a8b-bcf4-23d51f3bdcd2,id=1e6e908a-dc0a-4a8b-bcf4-23d51f3bdcd2\n",
            "WARNING:langsmith.client:Failed to send compressed multipart ingest: langsmith.utils.LangSmithRateLimitError: Rate limit exceeded for https://eu.api.smith.langchain.com/runs/multipart. HTTPError('429 Client Error: Too Many Requests for url: https://eu.api.smith.langchain.com/runs/multipart', '{\"error\":\"Too many requests: tenant exceeded usage limits: Monthly unique traces usage limit exceeded\"}\\n')trace=c1b368be-1918-434a-994f-fbd9b604c79e,id=c1b368be-1918-434a-994f-fbd9b604c79e; trace=c1b368be-1918-434a-994f-fbd9b604c79e,id=c1b368be-1918-434a-994f-fbd9b604c79e\n",
            "WARNING:langsmith.client:Failed to send compressed multipart ingest: langsmith.utils.LangSmithRateLimitError: Rate limit exceeded for https://eu.api.smith.langchain.com/runs/multipart. HTTPError('429 Client Error: Too Many Requests for url: https://eu.api.smith.langchain.com/runs/multipart', '{\"error\":\"Too many requests: tenant exceeded usage limits: Monthly unique traces usage limit exceeded\"}\\n')trace=6fa02f0a-2d1c-4e8e-801f-055777d2b478,id=6fa02f0a-2d1c-4e8e-801f-055777d2b478; trace=6fa02f0a-2d1c-4e8e-801f-055777d2b478,id=6fa02f0a-2d1c-4e8e-801f-055777d2b478\n",
            "WARNING:langsmith.client:Failed to send compressed multipart ingest: langsmith.utils.LangSmithRateLimitError: Rate limit exceeded for https://eu.api.smith.langchain.com/runs/multipart. HTTPError('429 Client Error: Too Many Requests for url: https://eu.api.smith.langchain.com/runs/multipart', '{\"error\":\"Too many requests: tenant exceeded usage limits: Monthly unique traces usage limit exceeded\"}\\n')trace=621405d1-eec2-47c4-9f37-22b86f4918de,id=621405d1-eec2-47c4-9f37-22b86f4918de; trace=621405d1-eec2-47c4-9f37-22b86f4918de,id=621405d1-eec2-47c4-9f37-22b86f4918de\n",
            "WARNING:langsmith.client:Failed to send compressed multipart ingest: langsmith.utils.LangSmithRateLimitError: Rate limit exceeded for https://eu.api.smith.langchain.com/runs/multipart. HTTPError('429 Client Error: Too Many Requests for url: https://eu.api.smith.langchain.com/runs/multipart', '{\"error\":\"Too many requests: tenant exceeded usage limits: Monthly unique traces usage limit exceeded\"}\\n')trace=3e51568f-6c6e-45fe-9ecd-0cc56319cf85,id=3e51568f-6c6e-45fe-9ecd-0cc56319cf85; trace=3e51568f-6c6e-45fe-9ecd-0cc56319cf85,id=3e51568f-6c6e-45fe-9ecd-0cc56319cf85\n",
            "WARNING:langsmith.client:Failed to send compressed multipart ingest: langsmith.utils.LangSmithRateLimitError: Rate limit exceeded for https://eu.api.smith.langchain.com/runs/multipart. HTTPError('429 Client Error: Too Many Requests for url: https://eu.api.smith.langchain.com/runs/multipart', '{\"error\":\"Too many requests: tenant exceeded usage limits: Monthly unique traces usage limit exceeded\"}\\n')trace=2a38d517-cd94-4344-b47d-d2b14bf3f484,id=2a38d517-cd94-4344-b47d-d2b14bf3f484; trace=2a38d517-cd94-4344-b47d-d2b14bf3f484,id=2a38d517-cd94-4344-b47d-d2b14bf3f484\n",
            "WARNING:langsmith.client:Failed to send compressed multipart ingest: langsmith.utils.LangSmithRateLimitError: Rate limit exceeded for https://eu.api.smith.langchain.com/runs/multipart. HTTPError('429 Client Error: Too Many Requests for url: https://eu.api.smith.langchain.com/runs/multipart', '{\"error\":\"Too many requests: tenant exceeded usage limits: Monthly unique traces usage limit exceeded\"}\\n')trace=c2f65dca-6913-46a3-8cd7-a5944463004e,id=c2f65dca-6913-46a3-8cd7-a5944463004e; trace=c2f65dca-6913-46a3-8cd7-a5944463004e,id=c2f65dca-6913-46a3-8cd7-a5944463004e\n"
          ]
        },
        {
          "output_type": "stream",
          "name": "stdout",
          "text": [
            "All samples processed in 1.90 seconds.\n",
            "--------------------------------------\n",
            "--------------------------------------\n",
            "\n",
            "--------------------------------------\n",
            "--------------------------------------\n",
            "\n",
            "\n",
            "%%%%%%%%%%%%%%%%%%%%%%\n",
            "Shuffle 3 & N Examples 5\n",
            "%%%%%%%%%%%%%%%%%%%%%%\n",
            "Warning: Cannot perform stratified split based on both Experimenter and Allocation due to classes with less than 2 samples in combined categories. Performing stratified split based on Experimenter only.\n",
            "Warning: Cannot perform stratified split based on Experimenter either. Performing non-stratified split.\n",
            "Created a training set with 5 samples.\n",
            "Created a test set with 18 samples.\n",
            "Directory '/content/extracted_examples_5_shuffle_3' created successfully.\n"
          ]
        },
        {
          "output_type": "stream",
          "name": "stderr",
          "text": [
            "WARNING:langsmith.client:Failed to send compressed multipart ingest: langsmith.utils.LangSmithRateLimitError: Rate limit exceeded for https://eu.api.smith.langchain.com/runs/multipart. HTTPError('429 Client Error: Too Many Requests for url: https://eu.api.smith.langchain.com/runs/multipart', '{\"error\":\"Too many requests: tenant exceeded usage limits: Monthly unique traces usage limit exceeded\"}\\n')trace=fb1f37c8-09d2-4e0d-820c-90c9d705f845,id=fb1f37c8-09d2-4e0d-820c-90c9d705f845; trace=fb1f37c8-09d2-4e0d-820c-90c9d705f845,id=fb1f37c8-09d2-4e0d-820c-90c9d705f845\n",
            "WARNING:langsmith.client:Failed to send compressed multipart ingest: langsmith.utils.LangSmithRateLimitError: Rate limit exceeded for https://eu.api.smith.langchain.com/runs/multipart. HTTPError('429 Client Error: Too Many Requests for url: https://eu.api.smith.langchain.com/runs/multipart', '{\"error\":\"Too many requests: tenant exceeded usage limits: Monthly unique traces usage limit exceeded\"}\\n')trace=6fddb513-6e44-4bf5-b627-9398af42efe7,id=6fddb513-6e44-4bf5-b627-9398af42efe7; trace=6fddb513-6e44-4bf5-b627-9398af42efe7,id=6fddb513-6e44-4bf5-b627-9398af42efe7\n",
            "WARNING:langsmith.client:Failed to send compressed multipart ingest: langsmith.utils.LangSmithRateLimitError: Rate limit exceeded for https://eu.api.smith.langchain.com/runs/multipart. HTTPError('429 Client Error: Too Many Requests for url: https://eu.api.smith.langchain.com/runs/multipart', '{\"error\":\"Too many requests: tenant exceeded usage limits: Monthly unique traces usage limit exceeded\"}\\n')trace=55ef4510-83a2-4269-b513-0a8d95bb2504,id=55ef4510-83a2-4269-b513-0a8d95bb2504; trace=55ef4510-83a2-4269-b513-0a8d95bb2504,id=55ef4510-83a2-4269-b513-0a8d95bb2504\n",
            "WARNING:langsmith.client:Failed to send compressed multipart ingest: langsmith.utils.LangSmithRateLimitError: Rate limit exceeded for https://eu.api.smith.langchain.com/runs/multipart. HTTPError('429 Client Error: Too Many Requests for url: https://eu.api.smith.langchain.com/runs/multipart', '{\"error\":\"Too many requests: tenant exceeded usage limits: Monthly unique traces usage limit exceeded\"}\\n')trace=d7ecfc77-d8b0-4e2a-9289-7778e684c1b2,id=d7ecfc77-d8b0-4e2a-9289-7778e684c1b2; trace=d7ecfc77-d8b0-4e2a-9289-7778e684c1b2,id=d7ecfc77-d8b0-4e2a-9289-7778e684c1b2\n",
            "WARNING:langsmith.client:Failed to send compressed multipart ingest: langsmith.utils.LangSmithRateLimitError: Rate limit exceeded for https://eu.api.smith.langchain.com/runs/multipart. HTTPError('429 Client Error: Too Many Requests for url: https://eu.api.smith.langchain.com/runs/multipart', '{\"error\":\"Too many requests: tenant exceeded usage limits: Monthly unique traces usage limit exceeded\"}\\n')trace=c22951e1-ee1f-4d7f-b08d-364b4f40cbb7,id=c22951e1-ee1f-4d7f-b08d-364b4f40cbb7; trace=c22951e1-ee1f-4d7f-b08d-364b4f40cbb7,id=c22951e1-ee1f-4d7f-b08d-364b4f40cbb7\n",
            "WARNING:langsmith.client:Failed to send compressed multipart ingest: langsmith.utils.LangSmithRateLimitError: Rate limit exceeded for https://eu.api.smith.langchain.com/runs/multipart. HTTPError('429 Client Error: Too Many Requests for url: https://eu.api.smith.langchain.com/runs/multipart', '{\"error\":\"Too many requests: tenant exceeded usage limits: Monthly unique traces usage limit exceeded\"}\\n')trace=6744c3e4-c158-4563-9479-363607d37ac1,id=6744c3e4-c158-4563-9479-363607d37ac1; trace=6744c3e4-c158-4563-9479-363607d37ac1,id=6744c3e4-c158-4563-9479-363607d37ac1\n",
            "WARNING:langsmith.client:Failed to send compressed multipart ingest: langsmith.utils.LangSmithRateLimitError: Rate limit exceeded for https://eu.api.smith.langchain.com/runs/multipart. HTTPError('429 Client Error: Too Many Requests for url: https://eu.api.smith.langchain.com/runs/multipart', '{\"error\":\"Too many requests: tenant exceeded usage limits: Monthly unique traces usage limit exceeded\"}\\n')trace=bbc301e0-c0cf-440a-99b1-17db671ea75f,id=bbc301e0-c0cf-440a-99b1-17db671ea75f; trace=bbc301e0-c0cf-440a-99b1-17db671ea75f,id=bbc301e0-c0cf-440a-99b1-17db671ea75f\n",
            "WARNING:langsmith.client:Failed to send compressed multipart ingest: langsmith.utils.LangSmithRateLimitError: Rate limit exceeded for https://eu.api.smith.langchain.com/runs/multipart. HTTPError('429 Client Error: Too Many Requests for url: https://eu.api.smith.langchain.com/runs/multipart', '{\"error\":\"Too many requests: tenant exceeded usage limits: Monthly unique traces usage limit exceeded\"}\\n')trace=da3127aa-2bb9-4f44-81ad-f97a1ee82ac8,id=da3127aa-2bb9-4f44-81ad-f97a1ee82ac8; trace=da3127aa-2bb9-4f44-81ad-f97a1ee82ac8,id=da3127aa-2bb9-4f44-81ad-f97a1ee82ac8\n",
            "WARNING:langsmith.client:Failed to send compressed multipart ingest: langsmith.utils.LangSmithRateLimitError: Rate limit exceeded for https://eu.api.smith.langchain.com/runs/multipart. HTTPError('429 Client Error: Too Many Requests for url: https://eu.api.smith.langchain.com/runs/multipart', '{\"error\":\"Too many requests: tenant exceeded usage limits: Monthly unique traces usage limit exceeded\"}\\n')trace=6f12af5d-ad93-41ac-bc55-2cb1dbcf445e,id=6f12af5d-ad93-41ac-bc55-2cb1dbcf445e; trace=6f12af5d-ad93-41ac-bc55-2cb1dbcf445e,id=6f12af5d-ad93-41ac-bc55-2cb1dbcf445e\n",
            "WARNING:langsmith.client:Failed to send compressed multipart ingest: langsmith.utils.LangSmithRateLimitError: Rate limit exceeded for https://eu.api.smith.langchain.com/runs/multipart. HTTPError('429 Client Error: Too Many Requests for url: https://eu.api.smith.langchain.com/runs/multipart', '{\"error\":\"Too many requests: tenant exceeded usage limits: Monthly unique traces usage limit exceeded\"}\\n')trace=07db016f-4aac-4050-bb60-51b113355858,id=07db016f-4aac-4050-bb60-51b113355858; trace=07db016f-4aac-4050-bb60-51b113355858,id=07db016f-4aac-4050-bb60-51b113355858\n",
            "WARNING:langsmith.client:Failed to send compressed multipart ingest: langsmith.utils.LangSmithRateLimitError: Rate limit exceeded for https://eu.api.smith.langchain.com/runs/multipart. HTTPError('429 Client Error: Too Many Requests for url: https://eu.api.smith.langchain.com/runs/multipart', '{\"error\":\"Too many requests: tenant exceeded usage limits: Monthly unique traces usage limit exceeded\"}\\n')trace=efcf1567-7a2d-4820-bf17-db7bb25506e3,id=efcf1567-7a2d-4820-bf17-db7bb25506e3; trace=efcf1567-7a2d-4820-bf17-db7bb25506e3,id=efcf1567-7a2d-4820-bf17-db7bb25506e3\n",
            "WARNING:langsmith.client:Failed to send compressed multipart ingest: langsmith.utils.LangSmithRateLimitError: Rate limit exceeded for https://eu.api.smith.langchain.com/runs/multipart. HTTPError('429 Client Error: Too Many Requests for url: https://eu.api.smith.langchain.com/runs/multipart', '{\"error\":\"Too many requests: tenant exceeded usage limits: Monthly unique traces usage limit exceeded\"}\\n')trace=4fe938e1-2207-480c-aba1-0c3e2b5324db,id=4fe938e1-2207-480c-aba1-0c3e2b5324db; trace=4fe938e1-2207-480c-aba1-0c3e2b5324db,id=4fe938e1-2207-480c-aba1-0c3e2b5324db\n",
            "WARNING:langsmith.client:Failed to send compressed multipart ingest: langsmith.utils.LangSmithRateLimitError: Rate limit exceeded for https://eu.api.smith.langchain.com/runs/multipart. HTTPError('429 Client Error: Too Many Requests for url: https://eu.api.smith.langchain.com/runs/multipart', '{\"error\":\"Too many requests: tenant exceeded usage limits: Monthly unique traces usage limit exceeded\"}\\n')trace=b1b1a61e-1053-47c8-aa06-23accf4a7c0a,id=b1b1a61e-1053-47c8-aa06-23accf4a7c0a; trace=b1b1a61e-1053-47c8-aa06-23accf4a7c0a,id=b1b1a61e-1053-47c8-aa06-23accf4a7c0a\n",
            "WARNING:langsmith.client:Failed to send compressed multipart ingest: langsmith.utils.LangSmithRateLimitError: Rate limit exceeded for https://eu.api.smith.langchain.com/runs/multipart. HTTPError('429 Client Error: Too Many Requests for url: https://eu.api.smith.langchain.com/runs/multipart', '{\"error\":\"Too many requests: tenant exceeded usage limits: Monthly unique traces usage limit exceeded\"}\\n')trace=7f00f84b-30e9-4aae-be75-b744b42a47d8,id=7f00f84b-30e9-4aae-be75-b744b42a47d8; trace=7f00f84b-30e9-4aae-be75-b744b42a47d8,id=7f00f84b-30e9-4aae-be75-b744b42a47d8\n",
            "WARNING:langsmith.client:Failed to send compressed multipart ingest: langsmith.utils.LangSmithRateLimitError: Rate limit exceeded for https://eu.api.smith.langchain.com/runs/multipart. HTTPError('429 Client Error: Too Many Requests for url: https://eu.api.smith.langchain.com/runs/multipart', '{\"error\":\"Too many requests: tenant exceeded usage limits: Monthly unique traces usage limit exceeded\"}\\n')trace=a9273dfe-fe6e-47b0-9c48-f18948496aaf,id=a9273dfe-fe6e-47b0-9c48-f18948496aaf; trace=a9273dfe-fe6e-47b0-9c48-f18948496aaf,id=a9273dfe-fe6e-47b0-9c48-f18948496aaf\n",
            "WARNING:langsmith.client:Failed to send compressed multipart ingest: langsmith.utils.LangSmithRateLimitError: Rate limit exceeded for https://eu.api.smith.langchain.com/runs/multipart. HTTPError('429 Client Error: Too Many Requests for url: https://eu.api.smith.langchain.com/runs/multipart', '{\"error\":\"Too many requests: tenant exceeded usage limits: Monthly unique traces usage limit exceeded\"}\\n')trace=52c1da24-ae74-4562-ae57-3876a81ec5d0,id=52c1da24-ae74-4562-ae57-3876a81ec5d0; trace=52c1da24-ae74-4562-ae57-3876a81ec5d0,id=52c1da24-ae74-4562-ae57-3876a81ec5d0\n",
            "WARNING:langsmith.client:Failed to send compressed multipart ingest: langsmith.utils.LangSmithRateLimitError: Rate limit exceeded for https://eu.api.smith.langchain.com/runs/multipart. HTTPError('429 Client Error: Too Many Requests for url: https://eu.api.smith.langchain.com/runs/multipart', '{\"error\":\"Too many requests: tenant exceeded usage limits: Monthly unique traces usage limit exceeded\"}\\n')trace=b68c8212-e1cd-4ca2-922f-71f53fa6b7de,id=b68c8212-e1cd-4ca2-922f-71f53fa6b7de; trace=b68c8212-e1cd-4ca2-922f-71f53fa6b7de,id=b68c8212-e1cd-4ca2-922f-71f53fa6b7de\n",
            "WARNING:langsmith.client:Failed to send compressed multipart ingest: langsmith.utils.LangSmithRateLimitError: Rate limit exceeded for https://eu.api.smith.langchain.com/runs/multipart. HTTPError('429 Client Error: Too Many Requests for url: https://eu.api.smith.langchain.com/runs/multipart', '{\"error\":\"Too many requests: tenant exceeded usage limits: Monthly unique traces usage limit exceeded\"}\\n')trace=6976ec2e-624d-40f9-9e09-5bb87f0530d2,id=6976ec2e-624d-40f9-9e09-5bb87f0530d2; trace=6976ec2e-624d-40f9-9e09-5bb87f0530d2,id=6976ec2e-624d-40f9-9e09-5bb87f0530d2\n"
          ]
        },
        {
          "output_type": "stream",
          "name": "stdout",
          "text": [
            "All samples processed in 1.71 seconds.\n",
            "--------------------------------------\n",
            "--------------------------------------\n",
            "\n",
            "--------------------------------------\n",
            "--------------------------------------\n",
            "\n",
            "\n",
            "%%%%%%%%%%%%%%%%%%%%%%\n",
            "Shuffle 1 & N Examples 6\n",
            "%%%%%%%%%%%%%%%%%%%%%%\n",
            "Warning: Cannot perform stratified split based on both Experimenter and Allocation due to classes with less than 2 samples in combined categories. Performing stratified split based on Experimenter only.\n",
            "Warning: Cannot perform stratified split based on Experimenter either. Performing non-stratified split.\n",
            "Created a training set with 6 samples.\n",
            "Created a test set with 17 samples.\n",
            "Directory '/content/extracted_examples_6_shuffle_1' created successfully.\n"
          ]
        },
        {
          "output_type": "stream",
          "name": "stderr",
          "text": [
            "WARNING:langsmith.client:Failed to send compressed multipart ingest: langsmith.utils.LangSmithRateLimitError: Rate limit exceeded for https://eu.api.smith.langchain.com/runs/multipart. HTTPError('429 Client Error: Too Many Requests for url: https://eu.api.smith.langchain.com/runs/multipart', '{\"error\":\"Too many requests: tenant exceeded usage limits: Monthly unique traces usage limit exceeded\"}\\n')trace=53cb6ec6-556e-40e7-872a-ebdb7511ac73,id=53cb6ec6-556e-40e7-872a-ebdb7511ac73; trace=53cb6ec6-556e-40e7-872a-ebdb7511ac73,id=53cb6ec6-556e-40e7-872a-ebdb7511ac73\n",
            "WARNING:langsmith.client:Failed to send compressed multipart ingest: langsmith.utils.LangSmithRateLimitError: Rate limit exceeded for https://eu.api.smith.langchain.com/runs/multipart. HTTPError('429 Client Error: Too Many Requests for url: https://eu.api.smith.langchain.com/runs/multipart', '{\"error\":\"Too many requests: tenant exceeded usage limits: Monthly unique traces usage limit exceeded\"}\\n')trace=27f8d902-b734-42c3-a11e-79d3c09adf5c,id=27f8d902-b734-42c3-a11e-79d3c09adf5c; trace=27f8d902-b734-42c3-a11e-79d3c09adf5c,id=27f8d902-b734-42c3-a11e-79d3c09adf5c\n",
            "WARNING:langsmith.client:Failed to send compressed multipart ingest: langsmith.utils.LangSmithRateLimitError: Rate limit exceeded for https://eu.api.smith.langchain.com/runs/multipart. HTTPError('429 Client Error: Too Many Requests for url: https://eu.api.smith.langchain.com/runs/multipart', '{\"error\":\"Too many requests: tenant exceeded usage limits: Monthly unique traces usage limit exceeded\"}\\n')trace=9d8bba15-1067-48fb-b3c8-21031898f87b,id=9d8bba15-1067-48fb-b3c8-21031898f87b; trace=9d8bba15-1067-48fb-b3c8-21031898f87b,id=9d8bba15-1067-48fb-b3c8-21031898f87b\n",
            "WARNING:langsmith.client:Failed to send compressed multipart ingest: langsmith.utils.LangSmithRateLimitError: Rate limit exceeded for https://eu.api.smith.langchain.com/runs/multipart. HTTPError('429 Client Error: Too Many Requests for url: https://eu.api.smith.langchain.com/runs/multipart', '{\"error\":\"Too many requests: tenant exceeded usage limits: Monthly unique traces usage limit exceeded\"}\\n')trace=95c96333-94c1-4783-a4d2-74e755657c8b,id=95c96333-94c1-4783-a4d2-74e755657c8b; trace=95c96333-94c1-4783-a4d2-74e755657c8b,id=95c96333-94c1-4783-a4d2-74e755657c8b\n",
            "WARNING:langsmith.client:Failed to send compressed multipart ingest: langsmith.utils.LangSmithRateLimitError: Rate limit exceeded for https://eu.api.smith.langchain.com/runs/multipart. HTTPError('429 Client Error: Too Many Requests for url: https://eu.api.smith.langchain.com/runs/multipart', '{\"error\":\"Too many requests: tenant exceeded usage limits: Monthly unique traces usage limit exceeded\"}\\n')trace=220df4d1-3b45-4d41-94f5-9f9145a7714b,id=220df4d1-3b45-4d41-94f5-9f9145a7714b; trace=220df4d1-3b45-4d41-94f5-9f9145a7714b,id=220df4d1-3b45-4d41-94f5-9f9145a7714b\n",
            "WARNING:langsmith.client:Failed to send compressed multipart ingest: langsmith.utils.LangSmithRateLimitError: Rate limit exceeded for https://eu.api.smith.langchain.com/runs/multipart. HTTPError('429 Client Error: Too Many Requests for url: https://eu.api.smith.langchain.com/runs/multipart', '{\"error\":\"Too many requests: tenant exceeded usage limits: Monthly unique traces usage limit exceeded\"}\\n')trace=9e408b53-3d8a-44bf-a7ca-c9d8bb38a917,id=9e408b53-3d8a-44bf-a7ca-c9d8bb38a917; trace=9e408b53-3d8a-44bf-a7ca-c9d8bb38a917,id=9e408b53-3d8a-44bf-a7ca-c9d8bb38a917\n",
            "WARNING:langsmith.client:Failed to send compressed multipart ingest: langsmith.utils.LangSmithRateLimitError: Rate limit exceeded for https://eu.api.smith.langchain.com/runs/multipart. HTTPError('429 Client Error: Too Many Requests for url: https://eu.api.smith.langchain.com/runs/multipart', '{\"error\":\"Too many requests: tenant exceeded usage limits: Monthly unique traces usage limit exceeded\"}\\n')trace=b871d0eb-c280-40e5-b7dd-53e6bc12c57a,id=b871d0eb-c280-40e5-b7dd-53e6bc12c57a; trace=b871d0eb-c280-40e5-b7dd-53e6bc12c57a,id=b871d0eb-c280-40e5-b7dd-53e6bc12c57a\n",
            "WARNING:langsmith.client:Failed to send compressed multipart ingest: langsmith.utils.LangSmithRateLimitError: Rate limit exceeded for https://eu.api.smith.langchain.com/runs/multipart. HTTPError('429 Client Error: Too Many Requests for url: https://eu.api.smith.langchain.com/runs/multipart', '{\"error\":\"Too many requests: tenant exceeded usage limits: Monthly unique traces usage limit exceeded\"}\\n')trace=940f70d6-884f-4285-bb84-5960238b1f65,id=940f70d6-884f-4285-bb84-5960238b1f65; trace=940f70d6-884f-4285-bb84-5960238b1f65,id=940f70d6-884f-4285-bb84-5960238b1f65\n",
            "WARNING:langsmith.client:Failed to send compressed multipart ingest: langsmith.utils.LangSmithRateLimitError: Rate limit exceeded for https://eu.api.smith.langchain.com/runs/multipart. HTTPError('429 Client Error: Too Many Requests for url: https://eu.api.smith.langchain.com/runs/multipart', '{\"error\":\"Too many requests: tenant exceeded usage limits: Monthly unique traces usage limit exceeded\"}\\n')trace=6412a6d3-4a25-4dff-8985-7781ea0e29c8,id=6412a6d3-4a25-4dff-8985-7781ea0e29c8; trace=6412a6d3-4a25-4dff-8985-7781ea0e29c8,id=6412a6d3-4a25-4dff-8985-7781ea0e29c8\n",
            "WARNING:langsmith.client:Failed to send compressed multipart ingest: langsmith.utils.LangSmithRateLimitError: Rate limit exceeded for https://eu.api.smith.langchain.com/runs/multipart. HTTPError('429 Client Error: Too Many Requests for url: https://eu.api.smith.langchain.com/runs/multipart', '{\"error\":\"Too many requests: tenant exceeded usage limits: Monthly unique traces usage limit exceeded\"}\\n')trace=deded172-c8f1-4bdd-b05e-3bea1cbb8666,id=deded172-c8f1-4bdd-b05e-3bea1cbb8666; trace=deded172-c8f1-4bdd-b05e-3bea1cbb8666,id=deded172-c8f1-4bdd-b05e-3bea1cbb8666\n",
            "WARNING:langsmith.client:Failed to send compressed multipart ingest: langsmith.utils.LangSmithRateLimitError: Rate limit exceeded for https://eu.api.smith.langchain.com/runs/multipart. HTTPError('429 Client Error: Too Many Requests for url: https://eu.api.smith.langchain.com/runs/multipart', '{\"error\":\"Too many requests: tenant exceeded usage limits: Monthly unique traces usage limit exceeded\"}\\n')trace=f5752124-5777-40ac-ac8d-446943868875,id=f5752124-5777-40ac-ac8d-446943868875; trace=f5752124-5777-40ac-ac8d-446943868875,id=f5752124-5777-40ac-ac8d-446943868875\n",
            "WARNING:langsmith.client:Failed to send compressed multipart ingest: langsmith.utils.LangSmithRateLimitError: Rate limit exceeded for https://eu.api.smith.langchain.com/runs/multipart. HTTPError('429 Client Error: Too Many Requests for url: https://eu.api.smith.langchain.com/runs/multipart', '{\"error\":\"Too many requests: tenant exceeded usage limits: Monthly unique traces usage limit exceeded\"}\\n')trace=c8dc987f-738c-41a0-835b-e62600df1737,id=c8dc987f-738c-41a0-835b-e62600df1737; trace=c8dc987f-738c-41a0-835b-e62600df1737,id=c8dc987f-738c-41a0-835b-e62600df1737\n",
            "WARNING:langsmith.client:Failed to send compressed multipart ingest: langsmith.utils.LangSmithRateLimitError: Rate limit exceeded for https://eu.api.smith.langchain.com/runs/multipart. HTTPError('429 Client Error: Too Many Requests for url: https://eu.api.smith.langchain.com/runs/multipart', '{\"error\":\"Too many requests: tenant exceeded usage limits: Monthly unique traces usage limit exceeded\"}\\n')trace=efef83b1-fa8d-4985-a8a6-160c7cc55b7d,id=efef83b1-fa8d-4985-a8a6-160c7cc55b7d; trace=efef83b1-fa8d-4985-a8a6-160c7cc55b7d,id=efef83b1-fa8d-4985-a8a6-160c7cc55b7d\n",
            "WARNING:langsmith.client:Failed to send compressed multipart ingest: langsmith.utils.LangSmithRateLimitError: Rate limit exceeded for https://eu.api.smith.langchain.com/runs/multipart. HTTPError('429 Client Error: Too Many Requests for url: https://eu.api.smith.langchain.com/runs/multipart', '{\"error\":\"Too many requests: tenant exceeded usage limits: Monthly unique traces usage limit exceeded\"}\\n')trace=36b6977f-6159-4747-a15c-e4d8efeb84d3,id=36b6977f-6159-4747-a15c-e4d8efeb84d3; trace=36b6977f-6159-4747-a15c-e4d8efeb84d3,id=36b6977f-6159-4747-a15c-e4d8efeb84d3\n",
            "WARNING:langsmith.client:Failed to send compressed multipart ingest: langsmith.utils.LangSmithRateLimitError: Rate limit exceeded for https://eu.api.smith.langchain.com/runs/multipart. HTTPError('429 Client Error: Too Many Requests for url: https://eu.api.smith.langchain.com/runs/multipart', '{\"error\":\"Too many requests: tenant exceeded usage limits: Monthly unique traces usage limit exceeded\"}\\n')trace=6468442e-3d14-448b-a892-27dcade29349,id=6468442e-3d14-448b-a892-27dcade29349; trace=6468442e-3d14-448b-a892-27dcade29349,id=6468442e-3d14-448b-a892-27dcade29349\n",
            "WARNING:langsmith.client:Failed to send compressed multipart ingest: langsmith.utils.LangSmithRateLimitError: Rate limit exceeded for https://eu.api.smith.langchain.com/runs/multipart. HTTPError('429 Client Error: Too Many Requests for url: https://eu.api.smith.langchain.com/runs/multipart', '{\"error\":\"Too many requests: tenant exceeded usage limits: Monthly unique traces usage limit exceeded\"}\\n')trace=8f565396-4fdd-461d-95ce-330ee61ce818,id=8f565396-4fdd-461d-95ce-330ee61ce818; trace=8f565396-4fdd-461d-95ce-330ee61ce818,id=8f565396-4fdd-461d-95ce-330ee61ce818\n",
            "WARNING:langsmith.client:Failed to send compressed multipart ingest: langsmith.utils.LangSmithRateLimitError: Rate limit exceeded for https://eu.api.smith.langchain.com/runs/multipart. HTTPError('429 Client Error: Too Many Requests for url: https://eu.api.smith.langchain.com/runs/multipart', '{\"error\":\"Too many requests: tenant exceeded usage limits: Monthly unique traces usage limit exceeded\"}\\n')trace=51203152-c870-45e0-a7c0-368babcb4b37,id=51203152-c870-45e0-a7c0-368babcb4b37; trace=51203152-c870-45e0-a7c0-368babcb4b37,id=51203152-c870-45e0-a7c0-368babcb4b37\n"
          ]
        },
        {
          "output_type": "stream",
          "name": "stdout",
          "text": [
            "All samples processed in 1.98 seconds.\n",
            "--------------------------------------\n",
            "--------------------------------------\n",
            "\n",
            "--------------------------------------\n",
            "--------------------------------------\n",
            "\n",
            "\n",
            "%%%%%%%%%%%%%%%%%%%%%%\n",
            "Shuffle 2 & N Examples 6\n",
            "%%%%%%%%%%%%%%%%%%%%%%\n",
            "Warning: Cannot perform stratified split based on both Experimenter and Allocation due to classes with less than 2 samples in combined categories. Performing stratified split based on Experimenter only.\n",
            "Warning: Cannot perform stratified split based on Experimenter either. Performing non-stratified split.\n",
            "Created a training set with 6 samples.\n",
            "Created a test set with 17 samples.\n",
            "Directory '/content/extracted_examples_6_shuffle_2' created successfully.\n"
          ]
        },
        {
          "output_type": "stream",
          "name": "stderr",
          "text": [
            "WARNING:langsmith.client:Failed to send compressed multipart ingest: langsmith.utils.LangSmithRateLimitError: Rate limit exceeded for https://eu.api.smith.langchain.com/runs/multipart. HTTPError('429 Client Error: Too Many Requests for url: https://eu.api.smith.langchain.com/runs/multipart', '{\"error\":\"Too many requests: tenant exceeded usage limits: Monthly unique traces usage limit exceeded\"}\\n')trace=9c3743ff-16be-4bc8-997c-f66a1517d468,id=9c3743ff-16be-4bc8-997c-f66a1517d468; trace=9c3743ff-16be-4bc8-997c-f66a1517d468,id=9c3743ff-16be-4bc8-997c-f66a1517d468\n",
            "WARNING:langsmith.client:Failed to send compressed multipart ingest: langsmith.utils.LangSmithRateLimitError: Rate limit exceeded for https://eu.api.smith.langchain.com/runs/multipart. HTTPError('429 Client Error: Too Many Requests for url: https://eu.api.smith.langchain.com/runs/multipart', '{\"error\":\"Too many requests: tenant exceeded usage limits: Monthly unique traces usage limit exceeded\"}\\n')trace=3f72ed2f-2b77-49a1-a012-bbbd9ad05a1f,id=3f72ed2f-2b77-49a1-a012-bbbd9ad05a1f\n",
            "WARNING:langsmith.client:Failed to send compressed multipart ingest: langsmith.utils.LangSmithRateLimitError: Rate limit exceeded for https://eu.api.smith.langchain.com/runs/multipart. HTTPError('429 Client Error: Too Many Requests for url: https://eu.api.smith.langchain.com/runs/multipart', '{\"error\":\"Too many requests: tenant exceeded usage limits: Monthly unique traces usage limit exceeded\"}\\n')trace=3f72ed2f-2b77-49a1-a012-bbbd9ad05a1f,id=3f72ed2f-2b77-49a1-a012-bbbd9ad05a1f\n",
            "WARNING:langsmith.client:Failed to send compressed multipart ingest: langsmith.utils.LangSmithRateLimitError: Rate limit exceeded for https://eu.api.smith.langchain.com/runs/multipart. HTTPError('429 Client Error: Too Many Requests for url: https://eu.api.smith.langchain.com/runs/multipart', '{\"error\":\"Too many requests: tenant exceeded usage limits: Monthly unique traces usage limit exceeded\"}\\n')trace=753f9566-4dff-40c7-aecc-9a267ca7f710,id=753f9566-4dff-40c7-aecc-9a267ca7f710; trace=753f9566-4dff-40c7-aecc-9a267ca7f710,id=753f9566-4dff-40c7-aecc-9a267ca7f710\n",
            "WARNING:langsmith.client:Failed to send compressed multipart ingest: langsmith.utils.LangSmithRateLimitError: Rate limit exceeded for https://eu.api.smith.langchain.com/runs/multipart. HTTPError('429 Client Error: Too Many Requests for url: https://eu.api.smith.langchain.com/runs/multipart', '{\"error\":\"Too many requests: tenant exceeded usage limits: Monthly unique traces usage limit exceeded\"}\\n')trace=ce786a9d-c602-45fa-a411-653368e5364f,id=ce786a9d-c602-45fa-a411-653368e5364f; trace=ce786a9d-c602-45fa-a411-653368e5364f,id=ce786a9d-c602-45fa-a411-653368e5364f\n",
            "WARNING:langsmith.client:Failed to send compressed multipart ingest: langsmith.utils.LangSmithRateLimitError: Rate limit exceeded for https://eu.api.smith.langchain.com/runs/multipart. HTTPError('429 Client Error: Too Many Requests for url: https://eu.api.smith.langchain.com/runs/multipart', '{\"error\":\"Too many requests: tenant exceeded usage limits: Monthly unique traces usage limit exceeded\"}\\n')trace=15869f87-b06b-40f6-b66e-af02d8ff875b,id=15869f87-b06b-40f6-b66e-af02d8ff875b; trace=15869f87-b06b-40f6-b66e-af02d8ff875b,id=15869f87-b06b-40f6-b66e-af02d8ff875b\n",
            "WARNING:langsmith.client:Failed to send compressed multipart ingest: langsmith.utils.LangSmithRateLimitError: Rate limit exceeded for https://eu.api.smith.langchain.com/runs/multipart. HTTPError('429 Client Error: Too Many Requests for url: https://eu.api.smith.langchain.com/runs/multipart', '{\"error\":\"Too many requests: tenant exceeded usage limits: Monthly unique traces usage limit exceeded\"}\\n')trace=fa7852d3-662e-4b4c-98ce-df82a5230b33,id=fa7852d3-662e-4b4c-98ce-df82a5230b33; trace=fa7852d3-662e-4b4c-98ce-df82a5230b33,id=fa7852d3-662e-4b4c-98ce-df82a5230b33\n",
            "WARNING:langsmith.client:Failed to send compressed multipart ingest: langsmith.utils.LangSmithRateLimitError: Rate limit exceeded for https://eu.api.smith.langchain.com/runs/multipart. HTTPError('429 Client Error: Too Many Requests for url: https://eu.api.smith.langchain.com/runs/multipart', '{\"error\":\"Too many requests: tenant exceeded usage limits: Monthly unique traces usage limit exceeded\"}\\n')trace=66968bef-d81e-4012-adc0-4b0aec481926,id=66968bef-d81e-4012-adc0-4b0aec481926; trace=66968bef-d81e-4012-adc0-4b0aec481926,id=66968bef-d81e-4012-adc0-4b0aec481926\n",
            "WARNING:langsmith.client:Failed to send compressed multipart ingest: langsmith.utils.LangSmithRateLimitError: Rate limit exceeded for https://eu.api.smith.langchain.com/runs/multipart. HTTPError('429 Client Error: Too Many Requests for url: https://eu.api.smith.langchain.com/runs/multipart', '{\"error\":\"Too many requests: tenant exceeded usage limits: Monthly unique traces usage limit exceeded\"}\\n')trace=cdb9960c-4b75-45c7-aca3-611531e41bcc,id=cdb9960c-4b75-45c7-aca3-611531e41bcc; trace=cdb9960c-4b75-45c7-aca3-611531e41bcc,id=cdb9960c-4b75-45c7-aca3-611531e41bcc\n",
            "WARNING:langsmith.client:Failed to send compressed multipart ingest: langsmith.utils.LangSmithRateLimitError: Rate limit exceeded for https://eu.api.smith.langchain.com/runs/multipart. HTTPError('429 Client Error: Too Many Requests for url: https://eu.api.smith.langchain.com/runs/multipart', '{\"error\":\"Too many requests: tenant exceeded usage limits: Monthly unique traces usage limit exceeded\"}\\n')trace=9df5414f-337a-4cf7-9a3a-bcd6c4f01fe1,id=9df5414f-337a-4cf7-9a3a-bcd6c4f01fe1\n",
            "WARNING:langsmith.client:Failed to send compressed multipart ingest: langsmith.utils.LangSmithRateLimitError: Rate limit exceeded for https://eu.api.smith.langchain.com/runs/multipart. HTTPError('429 Client Error: Too Many Requests for url: https://eu.api.smith.langchain.com/runs/multipart', '{\"error\":\"Too many requests: tenant exceeded usage limits: Monthly unique traces usage limit exceeded\"}\\n')trace=9df5414f-337a-4cf7-9a3a-bcd6c4f01fe1,id=9df5414f-337a-4cf7-9a3a-bcd6c4f01fe1\n",
            "WARNING:langsmith.client:Failed to send compressed multipart ingest: langsmith.utils.LangSmithRateLimitError: Rate limit exceeded for https://eu.api.smith.langchain.com/runs/multipart. HTTPError('429 Client Error: Too Many Requests for url: https://eu.api.smith.langchain.com/runs/multipart', '{\"error\":\"Too many requests: tenant exceeded usage limits: Monthly unique traces usage limit exceeded\"}\\n')trace=b6b8c004-78f2-47cd-9fd1-0cd3a1b50959,id=b6b8c004-78f2-47cd-9fd1-0cd3a1b50959\n",
            "WARNING:langsmith.client:Failed to send compressed multipart ingest: langsmith.utils.LangSmithRateLimitError: Rate limit exceeded for https://eu.api.smith.langchain.com/runs/multipart. HTTPError('429 Client Error: Too Many Requests for url: https://eu.api.smith.langchain.com/runs/multipart', '{\"error\":\"Too many requests: tenant exceeded usage limits: Monthly unique traces usage limit exceeded\"}\\n')trace=b6b8c004-78f2-47cd-9fd1-0cd3a1b50959,id=b6b8c004-78f2-47cd-9fd1-0cd3a1b50959\n",
            "WARNING:langsmith.client:Failed to send compressed multipart ingest: langsmith.utils.LangSmithRateLimitError: Rate limit exceeded for https://eu.api.smith.langchain.com/runs/multipart. HTTPError('429 Client Error: Too Many Requests for url: https://eu.api.smith.langchain.com/runs/multipart', '{\"error\":\"Too many requests: tenant exceeded usage limits: Monthly unique traces usage limit exceeded\"}\\n')trace=a2b62d98-acae-4437-9a7c-578c96a313bf,id=a2b62d98-acae-4437-9a7c-578c96a313bf; trace=a2b62d98-acae-4437-9a7c-578c96a313bf,id=a2b62d98-acae-4437-9a7c-578c96a313bf\n",
            "WARNING:langsmith.client:Failed to send compressed multipart ingest: langsmith.utils.LangSmithRateLimitError: Rate limit exceeded for https://eu.api.smith.langchain.com/runs/multipart. HTTPError('429 Client Error: Too Many Requests for url: https://eu.api.smith.langchain.com/runs/multipart', '{\"error\":\"Too many requests: tenant exceeded usage limits: Monthly unique traces usage limit exceeded\"}\\n')trace=b1461c43-d7c4-40fd-aaea-1d7875494f4a,id=b1461c43-d7c4-40fd-aaea-1d7875494f4a\n",
            "WARNING:langsmith.client:Failed to send compressed multipart ingest: langsmith.utils.LangSmithRateLimitError: Rate limit exceeded for https://eu.api.smith.langchain.com/runs/multipart. HTTPError('429 Client Error: Too Many Requests for url: https://eu.api.smith.langchain.com/runs/multipart', '{\"error\":\"Too many requests: tenant exceeded usage limits: Monthly unique traces usage limit exceeded\"}\\n')trace=b1461c43-d7c4-40fd-aaea-1d7875494f4a,id=b1461c43-d7c4-40fd-aaea-1d7875494f4a\n",
            "WARNING:langsmith.client:Failed to send compressed multipart ingest: langsmith.utils.LangSmithRateLimitError: Rate limit exceeded for https://eu.api.smith.langchain.com/runs/multipart. HTTPError('429 Client Error: Too Many Requests for url: https://eu.api.smith.langchain.com/runs/multipart', '{\"error\":\"Too many requests: tenant exceeded usage limits: Monthly unique traces usage limit exceeded\"}\\n')trace=df2389b1-e20b-48f7-a4f4-004778239d08,id=df2389b1-e20b-48f7-a4f4-004778239d08; trace=df2389b1-e20b-48f7-a4f4-004778239d08,id=df2389b1-e20b-48f7-a4f4-004778239d08\n",
            "WARNING:langsmith.client:Failed to send compressed multipart ingest: langsmith.utils.LangSmithRateLimitError: Rate limit exceeded for https://eu.api.smith.langchain.com/runs/multipart. HTTPError('429 Client Error: Too Many Requests for url: https://eu.api.smith.langchain.com/runs/multipart', '{\"error\":\"Too many requests: tenant exceeded usage limits: Monthly unique traces usage limit exceeded\"}\\n')trace=13c9a7b5-f3f7-491d-b571-45fc17bfe5a8,id=13c9a7b5-f3f7-491d-b571-45fc17bfe5a8\n",
            "WARNING:langsmith.client:Failed to send compressed multipart ingest: langsmith.utils.LangSmithRateLimitError: Rate limit exceeded for https://eu.api.smith.langchain.com/runs/multipart. HTTPError('429 Client Error: Too Many Requests for url: https://eu.api.smith.langchain.com/runs/multipart', '{\"error\":\"Too many requests: tenant exceeded usage limits: Monthly unique traces usage limit exceeded\"}\\n')trace=13c9a7b5-f3f7-491d-b571-45fc17bfe5a8,id=13c9a7b5-f3f7-491d-b571-45fc17bfe5a8\n",
            "WARNING:langsmith.client:Failed to send compressed multipart ingest: langsmith.utils.LangSmithRateLimitError: Rate limit exceeded for https://eu.api.smith.langchain.com/runs/multipart. HTTPError('429 Client Error: Too Many Requests for url: https://eu.api.smith.langchain.com/runs/multipart', '{\"error\":\"Too many requests: tenant exceeded usage limits: Monthly unique traces usage limit exceeded\"}\\n')trace=33f7b5db-b691-4ece-84be-56589ba013a7,id=33f7b5db-b691-4ece-84be-56589ba013a7; trace=33f7b5db-b691-4ece-84be-56589ba013a7,id=33f7b5db-b691-4ece-84be-56589ba013a7\n",
            "WARNING:langsmith.client:Failed to send compressed multipart ingest: langsmith.utils.LangSmithRateLimitError: Rate limit exceeded for https://eu.api.smith.langchain.com/runs/multipart. HTTPError('429 Client Error: Too Many Requests for url: https://eu.api.smith.langchain.com/runs/multipart', '{\"error\":\"Too many requests: tenant exceeded usage limits: Monthly unique traces usage limit exceeded\"}\\n')trace=f0a55aa3-a4b6-441a-90ea-43ae7cff8ac0,id=f0a55aa3-a4b6-441a-90ea-43ae7cff8ac0; trace=f0a55aa3-a4b6-441a-90ea-43ae7cff8ac0,id=f0a55aa3-a4b6-441a-90ea-43ae7cff8ac0\n",
            "WARNING:langsmith.client:Failed to send compressed multipart ingest: langsmith.utils.LangSmithRateLimitError: Rate limit exceeded for https://eu.api.smith.langchain.com/runs/multipart. HTTPError('429 Client Error: Too Many Requests for url: https://eu.api.smith.langchain.com/runs/multipart', '{\"error\":\"Too many requests: tenant exceeded usage limits: Monthly unique traces usage limit exceeded\"}\\n')trace=878abbd1-1567-4cd4-a9b9-2aa42edae4b5,id=878abbd1-1567-4cd4-a9b9-2aa42edae4b5; trace=878abbd1-1567-4cd4-a9b9-2aa42edae4b5,id=878abbd1-1567-4cd4-a9b9-2aa42edae4b5\n"
          ]
        },
        {
          "output_type": "stream",
          "name": "stdout",
          "text": [
            "All samples processed in 1.92 seconds.\n",
            "--------------------------------------\n",
            "--------------------------------------\n",
            "\n",
            "--------------------------------------\n",
            "--------------------------------------\n",
            "\n",
            "\n",
            "%%%%%%%%%%%%%%%%%%%%%%\n",
            "Shuffle 3 & N Examples 6\n",
            "%%%%%%%%%%%%%%%%%%%%%%\n",
            "Warning: Cannot perform stratified split based on both Experimenter and Allocation due to classes with less than 2 samples in combined categories. Performing stratified split based on Experimenter only.\n",
            "Warning: Cannot perform stratified split based on Experimenter either. Performing non-stratified split.\n",
            "Created a training set with 6 samples.\n",
            "Created a test set with 17 samples.\n",
            "Directory '/content/extracted_examples_6_shuffle_3' created successfully.\n"
          ]
        },
        {
          "output_type": "stream",
          "name": "stderr",
          "text": [
            "WARNING:langsmith.client:Failed to send compressed multipart ingest: langsmith.utils.LangSmithRateLimitError: Rate limit exceeded for https://eu.api.smith.langchain.com/runs/multipart. HTTPError('429 Client Error: Too Many Requests for url: https://eu.api.smith.langchain.com/runs/multipart', '{\"error\":\"Too many requests: tenant exceeded usage limits: Monthly unique traces usage limit exceeded\"}\\n')trace=f1ae1400-9cf3-4e24-aade-be6498115beb,id=f1ae1400-9cf3-4e24-aade-be6498115beb; trace=f1ae1400-9cf3-4e24-aade-be6498115beb,id=f1ae1400-9cf3-4e24-aade-be6498115beb\n",
            "WARNING:langsmith.client:Failed to send compressed multipart ingest: langsmith.utils.LangSmithRateLimitError: Rate limit exceeded for https://eu.api.smith.langchain.com/runs/multipart. HTTPError('429 Client Error: Too Many Requests for url: https://eu.api.smith.langchain.com/runs/multipart', '{\"error\":\"Too many requests: tenant exceeded usage limits: Monthly unique traces usage limit exceeded\"}\\n')trace=079859d2-46cb-4d6e-9f59-f3fcf74f80d2,id=079859d2-46cb-4d6e-9f59-f3fcf74f80d2; trace=079859d2-46cb-4d6e-9f59-f3fcf74f80d2,id=079859d2-46cb-4d6e-9f59-f3fcf74f80d2\n",
            "WARNING:langsmith.client:Failed to send compressed multipart ingest: langsmith.utils.LangSmithRateLimitError: Rate limit exceeded for https://eu.api.smith.langchain.com/runs/multipart. HTTPError('429 Client Error: Too Many Requests for url: https://eu.api.smith.langchain.com/runs/multipart', '{\"error\":\"Too many requests: tenant exceeded usage limits: Monthly unique traces usage limit exceeded\"}\\n')trace=5fc5d130-3338-45b0-9f4f-bf07e0f183b4,id=5fc5d130-3338-45b0-9f4f-bf07e0f183b4; trace=5fc5d130-3338-45b0-9f4f-bf07e0f183b4,id=5fc5d130-3338-45b0-9f4f-bf07e0f183b4\n",
            "WARNING:langsmith.client:Failed to send compressed multipart ingest: langsmith.utils.LangSmithRateLimitError: Rate limit exceeded for https://eu.api.smith.langchain.com/runs/multipart. HTTPError('429 Client Error: Too Many Requests for url: https://eu.api.smith.langchain.com/runs/multipart', '{\"error\":\"Too many requests: tenant exceeded usage limits: Monthly unique traces usage limit exceeded\"}\\n')trace=d65424b6-d142-4e76-9239-71bb5e0f24ad,id=d65424b6-d142-4e76-9239-71bb5e0f24ad; trace=d65424b6-d142-4e76-9239-71bb5e0f24ad,id=d65424b6-d142-4e76-9239-71bb5e0f24ad\n",
            "WARNING:langsmith.client:Failed to send compressed multipart ingest: langsmith.utils.LangSmithRateLimitError: Rate limit exceeded for https://eu.api.smith.langchain.com/runs/multipart. HTTPError('429 Client Error: Too Many Requests for url: https://eu.api.smith.langchain.com/runs/multipart', '{\"error\":\"Too many requests: tenant exceeded usage limits: Monthly unique traces usage limit exceeded\"}\\n')trace=01dfb788-8ec9-4c35-83db-e173e4c88103,id=01dfb788-8ec9-4c35-83db-e173e4c88103; trace=01dfb788-8ec9-4c35-83db-e173e4c88103,id=01dfb788-8ec9-4c35-83db-e173e4c88103\n",
            "WARNING:langsmith.client:Failed to send compressed multipart ingest: langsmith.utils.LangSmithRateLimitError: Rate limit exceeded for https://eu.api.smith.langchain.com/runs/multipart. HTTPError('429 Client Error: Too Many Requests for url: https://eu.api.smith.langchain.com/runs/multipart', '{\"error\":\"Too many requests: tenant exceeded usage limits: Monthly unique traces usage limit exceeded\"}\\n')trace=b2eee99a-3792-4254-a3d9-070a0e9e0928,id=b2eee99a-3792-4254-a3d9-070a0e9e0928; trace=b2eee99a-3792-4254-a3d9-070a0e9e0928,id=b2eee99a-3792-4254-a3d9-070a0e9e0928\n",
            "WARNING:langsmith.client:Failed to send compressed multipart ingest: langsmith.utils.LangSmithRateLimitError: Rate limit exceeded for https://eu.api.smith.langchain.com/runs/multipart. HTTPError('429 Client Error: Too Many Requests for url: https://eu.api.smith.langchain.com/runs/multipart', '{\"error\":\"Too many requests: tenant exceeded usage limits: Monthly unique traces usage limit exceeded\"}\\n')trace=7b328e4d-d927-4645-b0d8-f711c4040283,id=7b328e4d-d927-4645-b0d8-f711c4040283; trace=7b328e4d-d927-4645-b0d8-f711c4040283,id=7b328e4d-d927-4645-b0d8-f711c4040283\n",
            "WARNING:langsmith.client:Failed to send compressed multipart ingest: langsmith.utils.LangSmithRateLimitError: Rate limit exceeded for https://eu.api.smith.langchain.com/runs/multipart. HTTPError('429 Client Error: Too Many Requests for url: https://eu.api.smith.langchain.com/runs/multipart', '{\"error\":\"Too many requests: tenant exceeded usage limits: Monthly unique traces usage limit exceeded\"}\\n')trace=f7768ccf-b05f-449b-9202-cb123b47e5e8,id=f7768ccf-b05f-449b-9202-cb123b47e5e8; trace=f7768ccf-b05f-449b-9202-cb123b47e5e8,id=f7768ccf-b05f-449b-9202-cb123b47e5e8\n",
            "WARNING:langsmith.client:Failed to send compressed multipart ingest: langsmith.utils.LangSmithRateLimitError: Rate limit exceeded for https://eu.api.smith.langchain.com/runs/multipart. HTTPError('429 Client Error: Too Many Requests for url: https://eu.api.smith.langchain.com/runs/multipart', '{\"error\":\"Too many requests: tenant exceeded usage limits: Monthly unique traces usage limit exceeded\"}\\n')trace=ef46a47e-6686-477b-88d2-51ffbee501db,id=ef46a47e-6686-477b-88d2-51ffbee501db; trace=ef46a47e-6686-477b-88d2-51ffbee501db,id=ef46a47e-6686-477b-88d2-51ffbee501db\n",
            "WARNING:langsmith.client:Failed to send compressed multipart ingest: langsmith.utils.LangSmithRateLimitError: Rate limit exceeded for https://eu.api.smith.langchain.com/runs/multipart. HTTPError('429 Client Error: Too Many Requests for url: https://eu.api.smith.langchain.com/runs/multipart', '{\"error\":\"Too many requests: tenant exceeded usage limits: Monthly unique traces usage limit exceeded\"}\\n')trace=a4649fb3-ed17-4dd2-ae52-fabc5a5b853c,id=a4649fb3-ed17-4dd2-ae52-fabc5a5b853c; trace=a4649fb3-ed17-4dd2-ae52-fabc5a5b853c,id=a4649fb3-ed17-4dd2-ae52-fabc5a5b853c\n",
            "WARNING:langsmith.client:Failed to send compressed multipart ingest: langsmith.utils.LangSmithRateLimitError: Rate limit exceeded for https://eu.api.smith.langchain.com/runs/multipart. HTTPError('429 Client Error: Too Many Requests for url: https://eu.api.smith.langchain.com/runs/multipart', '{\"error\":\"Too many requests: tenant exceeded usage limits: Monthly unique traces usage limit exceeded\"}\\n')trace=3535a761-a5fa-4014-9af1-2edda9c942a0,id=3535a761-a5fa-4014-9af1-2edda9c942a0; trace=3535a761-a5fa-4014-9af1-2edda9c942a0,id=3535a761-a5fa-4014-9af1-2edda9c942a0\n",
            "WARNING:langsmith.client:Failed to send compressed multipart ingest: langsmith.utils.LangSmithRateLimitError: Rate limit exceeded for https://eu.api.smith.langchain.com/runs/multipart. HTTPError('429 Client Error: Too Many Requests for url: https://eu.api.smith.langchain.com/runs/multipart', '{\"error\":\"Too many requests: tenant exceeded usage limits: Monthly unique traces usage limit exceeded\"}\\n')trace=d8453a88-0d11-4615-a3b0-4b677b1af591,id=d8453a88-0d11-4615-a3b0-4b677b1af591; trace=d8453a88-0d11-4615-a3b0-4b677b1af591,id=d8453a88-0d11-4615-a3b0-4b677b1af591\n",
            "WARNING:langsmith.client:Failed to send compressed multipart ingest: langsmith.utils.LangSmithRateLimitError: Rate limit exceeded for https://eu.api.smith.langchain.com/runs/multipart. HTTPError('429 Client Error: Too Many Requests for url: https://eu.api.smith.langchain.com/runs/multipart', '{\"error\":\"Too many requests: tenant exceeded usage limits: Monthly unique traces usage limit exceeded\"}\\n')trace=e52c23ec-1476-455f-bdfb-b99b756ef783,id=e52c23ec-1476-455f-bdfb-b99b756ef783; trace=e52c23ec-1476-455f-bdfb-b99b756ef783,id=e52c23ec-1476-455f-bdfb-b99b756ef783\n",
            "WARNING:langsmith.client:Failed to send compressed multipart ingest: langsmith.utils.LangSmithRateLimitError: Rate limit exceeded for https://eu.api.smith.langchain.com/runs/multipart. HTTPError('429 Client Error: Too Many Requests for url: https://eu.api.smith.langchain.com/runs/multipart', '{\"error\":\"Too many requests: tenant exceeded usage limits: Monthly unique traces usage limit exceeded\"}\\n')trace=69673a35-ac35-4bdb-9f95-9e4d634a4a7b,id=69673a35-ac35-4bdb-9f95-9e4d634a4a7b; trace=69673a35-ac35-4bdb-9f95-9e4d634a4a7b,id=69673a35-ac35-4bdb-9f95-9e4d634a4a7b\n",
            "WARNING:langsmith.client:Failed to send compressed multipart ingest: langsmith.utils.LangSmithRateLimitError: Rate limit exceeded for https://eu.api.smith.langchain.com/runs/multipart. HTTPError('429 Client Error: Too Many Requests for url: https://eu.api.smith.langchain.com/runs/multipart', '{\"error\":\"Too many requests: tenant exceeded usage limits: Monthly unique traces usage limit exceeded\"}\\n')trace=149130ab-42b9-4021-a71b-01e53dc20e62,id=149130ab-42b9-4021-a71b-01e53dc20e62\n",
            "WARNING:langsmith.client:Failed to send compressed multipart ingest: langsmith.utils.LangSmithRateLimitError: Rate limit exceeded for https://eu.api.smith.langchain.com/runs/multipart. HTTPError('429 Client Error: Too Many Requests for url: https://eu.api.smith.langchain.com/runs/multipart', '{\"error\":\"Too many requests: tenant exceeded usage limits: Monthly unique traces usage limit exceeded\"}\\n')trace=149130ab-42b9-4021-a71b-01e53dc20e62,id=149130ab-42b9-4021-a71b-01e53dc20e62\n",
            "WARNING:langsmith.client:Failed to send compressed multipart ingest: langsmith.utils.LangSmithRateLimitError: Rate limit exceeded for https://eu.api.smith.langchain.com/runs/multipart. HTTPError('429 Client Error: Too Many Requests for url: https://eu.api.smith.langchain.com/runs/multipart', '{\"error\":\"Too many requests: tenant exceeded usage limits: Monthly unique traces usage limit exceeded\"}\\n')trace=5ebc4d10-57f5-4316-9963-33f1d8a26186,id=5ebc4d10-57f5-4316-9963-33f1d8a26186; trace=5ebc4d10-57f5-4316-9963-33f1d8a26186,id=5ebc4d10-57f5-4316-9963-33f1d8a26186\n",
            "WARNING:langsmith.client:Failed to send compressed multipart ingest: langsmith.utils.LangSmithRateLimitError: Rate limit exceeded for https://eu.api.smith.langchain.com/runs/multipart. HTTPError('429 Client Error: Too Many Requests for url: https://eu.api.smith.langchain.com/runs/multipart', '{\"error\":\"Too many requests: tenant exceeded usage limits: Monthly unique traces usage limit exceeded\"}\\n')trace=d324119c-2e2f-49ff-959c-c7a52ba88d25,id=d324119c-2e2f-49ff-959c-c7a52ba88d25; trace=d324119c-2e2f-49ff-959c-c7a52ba88d25,id=d324119c-2e2f-49ff-959c-c7a52ba88d25\n"
          ]
        },
        {
          "output_type": "stream",
          "name": "stdout",
          "text": [
            "All samples processed in 1.85 seconds.\n",
            "--------------------------------------\n",
            "--------------------------------------\n",
            "\n",
            "--------------------------------------\n",
            "--------------------------------------\n",
            "\n",
            "\n",
            "%%%%%%%%%%%%%%%%%%%%%%\n",
            "Shuffle 1 & N Examples 7\n",
            "%%%%%%%%%%%%%%%%%%%%%%\n",
            "Warning: Cannot perform stratified split based on both Experimenter and Allocation due to classes with less than 2 samples in combined categories. Performing stratified split based on Experimenter only.\n",
            "Warning: Cannot perform stratified split based on Experimenter either. Performing non-stratified split.\n",
            "Created a training set with 7 samples.\n",
            "Created a test set with 16 samples.\n",
            "Directory '/content/extracted_examples_7_shuffle_1' created successfully.\n"
          ]
        },
        {
          "output_type": "stream",
          "name": "stderr",
          "text": [
            "WARNING:langsmith.client:Failed to send compressed multipart ingest: langsmith.utils.LangSmithRateLimitError: Rate limit exceeded for https://eu.api.smith.langchain.com/runs/multipart. HTTPError('429 Client Error: Too Many Requests for url: https://eu.api.smith.langchain.com/runs/multipart', '{\"error\":\"Too many requests: tenant exceeded usage limits: Monthly unique traces usage limit exceeded\"}\\n')trace=b372b407-1ea8-463a-80bc-57368cb1e477,id=b372b407-1ea8-463a-80bc-57368cb1e477; trace=b372b407-1ea8-463a-80bc-57368cb1e477,id=b372b407-1ea8-463a-80bc-57368cb1e477\n"
          ]
        },
        {
          "output_type": "stream",
          "name": "stdout",
          "text": [
            "Error processing examples_7_shuffle_1: Failed to parse JSON: Expecting property name enclosed in double quotes: line 2 column 4 (char 5)\n",
            "Extracted string: [\n",
            "  {{\n",
            "    \"Allocation\": \"Random\",\n",
            "    \"Experimenter\": \"Researcher\"\n",
            "  }},\n",
            "  {{\n",
            "    \"Allocation\": \"Non-random\",\n",
            "    \"Experimenter\": \"Teacher\"\n",
            "  }},\n",
            "  {{\n",
            "    \"Allocation\": \"Random\",\n",
            "    \"Experimenter\": \"Researcher\"\n",
            "  }},\n",
            "  {{\n",
            "    \"Allocation\": \"Non-random\",\n",
            "    \"Experimenter\": \"Teacher\"\n",
            "  }},\n",
            "  {{\n",
            "    \"Allocation\": \"Non-random\",\n",
            "    \"Experimenter\": \"Researcher\"\n",
            "  }},\n",
            "  {{\n",
            "    \"Allocation\": \"Random\",\n",
            "    \"Experimenter\": \"Teacher\"\n",
            "  }}\n",
            "]\n",
            "Skipping this run.\n",
            "\n",
            "\n",
            "%%%%%%%%%%%%%%%%%%%%%%\n",
            "Shuffle 2 & N Examples 7\n",
            "%%%%%%%%%%%%%%%%%%%%%%\n",
            "Warning: Cannot perform stratified split based on both Experimenter and Allocation due to classes with less than 2 samples in combined categories. Performing stratified split based on Experimenter only.\n",
            "Warning: Cannot perform stratified split based on Experimenter either. Performing non-stratified split.\n",
            "Created a training set with 7 samples.\n",
            "Created a test set with 16 samples.\n",
            "Directory '/content/extracted_examples_7_shuffle_2' created successfully.\n"
          ]
        },
        {
          "output_type": "stream",
          "name": "stderr",
          "text": [
            "WARNING:langsmith.client:Failed to send compressed multipart ingest: langsmith.utils.LangSmithRateLimitError: Rate limit exceeded for https://eu.api.smith.langchain.com/runs/multipart. HTTPError('429 Client Error: Too Many Requests for url: https://eu.api.smith.langchain.com/runs/multipart', '{\"error\":\"Too many requests: tenant exceeded usage limits: Monthly unique traces usage limit exceeded\"}\\n')trace=7acde10e-283a-4285-8c73-c6723aacf7b5,id=7acde10e-283a-4285-8c73-c6723aacf7b5; trace=7acde10e-283a-4285-8c73-c6723aacf7b5,id=7acde10e-283a-4285-8c73-c6723aacf7b5\n",
            "WARNING:langsmith.client:Failed to send compressed multipart ingest: langsmith.utils.LangSmithRateLimitError: Rate limit exceeded for https://eu.api.smith.langchain.com/runs/multipart. HTTPError('429 Client Error: Too Many Requests for url: https://eu.api.smith.langchain.com/runs/multipart', '{\"error\":\"Too many requests: tenant exceeded usage limits: Monthly unique traces usage limit exceeded\"}\\n')trace=e2c7d3f6-a9cb-43ca-844c-84dd17df4b06,id=e2c7d3f6-a9cb-43ca-844c-84dd17df4b06; trace=e2c7d3f6-a9cb-43ca-844c-84dd17df4b06,id=e2c7d3f6-a9cb-43ca-844c-84dd17df4b06\n",
            "WARNING:langsmith.client:Failed to send compressed multipart ingest: langsmith.utils.LangSmithRateLimitError: Rate limit exceeded for https://eu.api.smith.langchain.com/runs/multipart. HTTPError('429 Client Error: Too Many Requests for url: https://eu.api.smith.langchain.com/runs/multipart', '{\"error\":\"Too many requests: tenant exceeded usage limits: Monthly unique traces usage limit exceeded\"}\\n')trace=48812428-d8d5-4e0b-96b8-6d3f5f206c9d,id=48812428-d8d5-4e0b-96b8-6d3f5f206c9d; trace=48812428-d8d5-4e0b-96b8-6d3f5f206c9d,id=48812428-d8d5-4e0b-96b8-6d3f5f206c9d\n",
            "WARNING:langsmith.client:Failed to send compressed multipart ingest: langsmith.utils.LangSmithRateLimitError: Rate limit exceeded for https://eu.api.smith.langchain.com/runs/multipart. HTTPError('429 Client Error: Too Many Requests for url: https://eu.api.smith.langchain.com/runs/multipart', '{\"error\":\"Too many requests: tenant exceeded usage limits: Monthly unique traces usage limit exceeded\"}\\n')trace=2d2c55df-c6a5-4d34-a42a-cdd2bacb1411,id=2d2c55df-c6a5-4d34-a42a-cdd2bacb1411; trace=2d2c55df-c6a5-4d34-a42a-cdd2bacb1411,id=2d2c55df-c6a5-4d34-a42a-cdd2bacb1411\n",
            "WARNING:langsmith.client:Failed to send compressed multipart ingest: langsmith.utils.LangSmithRateLimitError: Rate limit exceeded for https://eu.api.smith.langchain.com/runs/multipart. HTTPError('429 Client Error: Too Many Requests for url: https://eu.api.smith.langchain.com/runs/multipart', '{\"error\":\"Too many requests: tenant exceeded usage limits: Monthly unique traces usage limit exceeded\"}\\n')trace=932fead3-dffc-4de1-a655-e60ba8ae8913,id=932fead3-dffc-4de1-a655-e60ba8ae8913; trace=932fead3-dffc-4de1-a655-e60ba8ae8913,id=932fead3-dffc-4de1-a655-e60ba8ae8913\n",
            "WARNING:langsmith.client:Failed to send compressed multipart ingest: langsmith.utils.LangSmithRateLimitError: Rate limit exceeded for https://eu.api.smith.langchain.com/runs/multipart. HTTPError('429 Client Error: Too Many Requests for url: https://eu.api.smith.langchain.com/runs/multipart', '{\"error\":\"Too many requests: tenant exceeded usage limits: Monthly unique traces usage limit exceeded\"}\\n')trace=9f97ea5b-c50b-4680-bf58-3d4907ccff68,id=9f97ea5b-c50b-4680-bf58-3d4907ccff68\n",
            "WARNING:langsmith.client:Failed to send compressed multipart ingest: langsmith.utils.LangSmithRateLimitError: Rate limit exceeded for https://eu.api.smith.langchain.com/runs/multipart. HTTPError('429 Client Error: Too Many Requests for url: https://eu.api.smith.langchain.com/runs/multipart', '{\"error\":\"Too many requests: tenant exceeded usage limits: Monthly unique traces usage limit exceeded\"}\\n')trace=9f97ea5b-c50b-4680-bf58-3d4907ccff68,id=9f97ea5b-c50b-4680-bf58-3d4907ccff68\n",
            "WARNING:langsmith.client:Failed to send compressed multipart ingest: langsmith.utils.LangSmithRateLimitError: Rate limit exceeded for https://eu.api.smith.langchain.com/runs/multipart. HTTPError('429 Client Error: Too Many Requests for url: https://eu.api.smith.langchain.com/runs/multipart', '{\"error\":\"Too many requests: tenant exceeded usage limits: Monthly unique traces usage limit exceeded\"}\\n')trace=19a11ee8-7513-4b98-b053-cc4d6984e5a2,id=19a11ee8-7513-4b98-b053-cc4d6984e5a2; trace=19a11ee8-7513-4b98-b053-cc4d6984e5a2,id=19a11ee8-7513-4b98-b053-cc4d6984e5a2\n",
            "WARNING:langsmith.client:Failed to send compressed multipart ingest: langsmith.utils.LangSmithRateLimitError: Rate limit exceeded for https://eu.api.smith.langchain.com/runs/multipart. HTTPError('429 Client Error: Too Many Requests for url: https://eu.api.smith.langchain.com/runs/multipart', '{\"error\":\"Too many requests: tenant exceeded usage limits: Monthly unique traces usage limit exceeded\"}\\n')trace=1c986564-fb43-4592-bc1a-46bca6cce9ed,id=1c986564-fb43-4592-bc1a-46bca6cce9ed; trace=1c986564-fb43-4592-bc1a-46bca6cce9ed,id=1c986564-fb43-4592-bc1a-46bca6cce9ed\n",
            "WARNING:langsmith.client:Failed to send compressed multipart ingest: langsmith.utils.LangSmithRateLimitError: Rate limit exceeded for https://eu.api.smith.langchain.com/runs/multipart. HTTPError('429 Client Error: Too Many Requests for url: https://eu.api.smith.langchain.com/runs/multipart', '{\"error\":\"Too many requests: tenant exceeded usage limits: Monthly unique traces usage limit exceeded\"}\\n')trace=7338c12f-cef6-4cc3-b89f-303ee18e11e0,id=7338c12f-cef6-4cc3-b89f-303ee18e11e0; trace=7338c12f-cef6-4cc3-b89f-303ee18e11e0,id=7338c12f-cef6-4cc3-b89f-303ee18e11e0\n",
            "WARNING:langsmith.client:Failed to send compressed multipart ingest: langsmith.utils.LangSmithRateLimitError: Rate limit exceeded for https://eu.api.smith.langchain.com/runs/multipart. HTTPError('429 Client Error: Too Many Requests for url: https://eu.api.smith.langchain.com/runs/multipart', '{\"error\":\"Too many requests: tenant exceeded usage limits: Monthly unique traces usage limit exceeded\"}\\n')trace=9efdf99a-28cd-48e4-b5fd-49022d3340ae,id=9efdf99a-28cd-48e4-b5fd-49022d3340ae; trace=9efdf99a-28cd-48e4-b5fd-49022d3340ae,id=9efdf99a-28cd-48e4-b5fd-49022d3340ae\n",
            "WARNING:langsmith.client:Failed to send compressed multipart ingest: langsmith.utils.LangSmithRateLimitError: Rate limit exceeded for https://eu.api.smith.langchain.com/runs/multipart. HTTPError('429 Client Error: Too Many Requests for url: https://eu.api.smith.langchain.com/runs/multipart', '{\"error\":\"Too many requests: tenant exceeded usage limits: Monthly unique traces usage limit exceeded\"}\\n')trace=beccf443-a73a-4692-89c2-bc3860e45c4a,id=beccf443-a73a-4692-89c2-bc3860e45c4a; trace=beccf443-a73a-4692-89c2-bc3860e45c4a,id=beccf443-a73a-4692-89c2-bc3860e45c4a\n",
            "WARNING:langsmith.client:Failed to send compressed multipart ingest: langsmith.utils.LangSmithRateLimitError: Rate limit exceeded for https://eu.api.smith.langchain.com/runs/multipart. HTTPError('429 Client Error: Too Many Requests for url: https://eu.api.smith.langchain.com/runs/multipart', '{\"error\":\"Too many requests: tenant exceeded usage limits: Monthly unique traces usage limit exceeded\"}\\n')trace=af6a34e3-7722-4302-8c28-8faeb2620c6a,id=af6a34e3-7722-4302-8c28-8faeb2620c6a; trace=af6a34e3-7722-4302-8c28-8faeb2620c6a,id=af6a34e3-7722-4302-8c28-8faeb2620c6a\n",
            "WARNING:langsmith.client:Failed to send compressed multipart ingest: langsmith.utils.LangSmithRateLimitError: Rate limit exceeded for https://eu.api.smith.langchain.com/runs/multipart. HTTPError('429 Client Error: Too Many Requests for url: https://eu.api.smith.langchain.com/runs/multipart', '{\"error\":\"Too many requests: tenant exceeded usage limits: Monthly unique traces usage limit exceeded\"}\\n')trace=532f5bd8-ba4b-4686-bd86-dd1407936f73,id=532f5bd8-ba4b-4686-bd86-dd1407936f73; trace=532f5bd8-ba4b-4686-bd86-dd1407936f73,id=532f5bd8-ba4b-4686-bd86-dd1407936f73\n",
            "WARNING:langsmith.client:Failed to send compressed multipart ingest: langsmith.utils.LangSmithRateLimitError: Rate limit exceeded for https://eu.api.smith.langchain.com/runs/multipart. HTTPError('429 Client Error: Too Many Requests for url: https://eu.api.smith.langchain.com/runs/multipart', '{\"error\":\"Too many requests: tenant exceeded usage limits: Monthly unique traces usage limit exceeded\"}\\n')trace=41a703f1-c0a1-4730-806f-eb493cec3f88,id=41a703f1-c0a1-4730-806f-eb493cec3f88; trace=41a703f1-c0a1-4730-806f-eb493cec3f88,id=41a703f1-c0a1-4730-806f-eb493cec3f88\n",
            "WARNING:langsmith.client:Failed to send compressed multipart ingest: langsmith.utils.LangSmithRateLimitError: Rate limit exceeded for https://eu.api.smith.langchain.com/runs/multipart. HTTPError('429 Client Error: Too Many Requests for url: https://eu.api.smith.langchain.com/runs/multipart', '{\"error\":\"Too many requests: tenant exceeded usage limits: Monthly unique traces usage limit exceeded\"}\\n')trace=3fba3def-ed6c-44cf-8ea6-0db5d63acaa8,id=3fba3def-ed6c-44cf-8ea6-0db5d63acaa8; trace=3fba3def-ed6c-44cf-8ea6-0db5d63acaa8,id=3fba3def-ed6c-44cf-8ea6-0db5d63acaa8\n",
            "WARNING:langsmith.client:Failed to send compressed multipart ingest: langsmith.utils.LangSmithRateLimitError: Rate limit exceeded for https://eu.api.smith.langchain.com/runs/multipart. HTTPError('429 Client Error: Too Many Requests for url: https://eu.api.smith.langchain.com/runs/multipart', '{\"error\":\"Too many requests: tenant exceeded usage limits: Monthly unique traces usage limit exceeded\"}\\n')trace=86ee618b-1fac-455e-8b73-a135e08e8014,id=86ee618b-1fac-455e-8b73-a135e08e8014; trace=86ee618b-1fac-455e-8b73-a135e08e8014,id=86ee618b-1fac-455e-8b73-a135e08e8014\n"
          ]
        },
        {
          "output_type": "stream",
          "name": "stdout",
          "text": [
            "All samples processed in 1.89 seconds.\n",
            "--------------------------------------\n",
            "--------------------------------------\n",
            "\n",
            "--------------------------------------\n",
            "--------------------------------------\n",
            "\n",
            "\n",
            "%%%%%%%%%%%%%%%%%%%%%%\n",
            "Shuffle 3 & N Examples 7\n",
            "%%%%%%%%%%%%%%%%%%%%%%\n",
            "Warning: Cannot perform stratified split based on both Experimenter and Allocation due to classes with less than 2 samples in combined categories. Performing stratified split based on Experimenter only.\n",
            "Warning: Cannot perform stratified split based on Experimenter either. Performing non-stratified split.\n",
            "Created a training set with 7 samples.\n",
            "Created a test set with 16 samples.\n",
            "Directory '/content/extracted_examples_7_shuffle_3' created successfully.\n"
          ]
        },
        {
          "output_type": "stream",
          "name": "stderr",
          "text": [
            "WARNING:langsmith.client:Failed to send compressed multipart ingest: langsmith.utils.LangSmithRateLimitError: Rate limit exceeded for https://eu.api.smith.langchain.com/runs/multipart. HTTPError('429 Client Error: Too Many Requests for url: https://eu.api.smith.langchain.com/runs/multipart', '{\"error\":\"Too many requests: tenant exceeded usage limits: Monthly unique traces usage limit exceeded\"}\\n')trace=02809eee-bb8c-4380-80ae-45b44eed4acc,id=02809eee-bb8c-4380-80ae-45b44eed4acc; trace=02809eee-bb8c-4380-80ae-45b44eed4acc,id=02809eee-bb8c-4380-80ae-45b44eed4acc\n",
            "WARNING:langsmith.client:Failed to send compressed multipart ingest: langsmith.utils.LangSmithRateLimitError: Rate limit exceeded for https://eu.api.smith.langchain.com/runs/multipart. HTTPError('429 Client Error: Too Many Requests for url: https://eu.api.smith.langchain.com/runs/multipart', '{\"error\":\"Too many requests: tenant exceeded usage limits: Monthly unique traces usage limit exceeded\"}\\n')trace=5c87a418-3714-40ee-96d4-2a7c0d2b69b7,id=5c87a418-3714-40ee-96d4-2a7c0d2b69b7; trace=5c87a418-3714-40ee-96d4-2a7c0d2b69b7,id=5c87a418-3714-40ee-96d4-2a7c0d2b69b7\n",
            "WARNING:langsmith.client:Failed to send compressed multipart ingest: langsmith.utils.LangSmithRateLimitError: Rate limit exceeded for https://eu.api.smith.langchain.com/runs/multipart. HTTPError('429 Client Error: Too Many Requests for url: https://eu.api.smith.langchain.com/runs/multipart', '{\"error\":\"Too many requests: tenant exceeded usage limits: Monthly unique traces usage limit exceeded\"}\\n')trace=2b4ae4d2-fbf2-454b-a463-8790afb41787,id=2b4ae4d2-fbf2-454b-a463-8790afb41787; trace=2b4ae4d2-fbf2-454b-a463-8790afb41787,id=2b4ae4d2-fbf2-454b-a463-8790afb41787\n",
            "WARNING:langsmith.client:Failed to send compressed multipart ingest: langsmith.utils.LangSmithRateLimitError: Rate limit exceeded for https://eu.api.smith.langchain.com/runs/multipart. HTTPError('429 Client Error: Too Many Requests for url: https://eu.api.smith.langchain.com/runs/multipart', '{\"error\":\"Too many requests: tenant exceeded usage limits: Monthly unique traces usage limit exceeded\"}\\n')trace=347cab41-832a-452a-bc21-9f04d8861627,id=347cab41-832a-452a-bc21-9f04d8861627; trace=347cab41-832a-452a-bc21-9f04d8861627,id=347cab41-832a-452a-bc21-9f04d8861627\n",
            "WARNING:langsmith.client:Failed to send compressed multipart ingest: langsmith.utils.LangSmithRateLimitError: Rate limit exceeded for https://eu.api.smith.langchain.com/runs/multipart. HTTPError('429 Client Error: Too Many Requests for url: https://eu.api.smith.langchain.com/runs/multipart', '{\"error\":\"Too many requests: tenant exceeded usage limits: Monthly unique traces usage limit exceeded\"}\\n')trace=1f464847-74bd-4515-b740-e6153150b91c,id=1f464847-74bd-4515-b740-e6153150b91c; trace=1f464847-74bd-4515-b740-e6153150b91c,id=1f464847-74bd-4515-b740-e6153150b91c\n",
            "WARNING:langsmith.client:Failed to send compressed multipart ingest: langsmith.utils.LangSmithRateLimitError: Rate limit exceeded for https://eu.api.smith.langchain.com/runs/multipart. HTTPError('429 Client Error: Too Many Requests for url: https://eu.api.smith.langchain.com/runs/multipart', '{\"error\":\"Too many requests: tenant exceeded usage limits: Monthly unique traces usage limit exceeded\"}\\n')trace=de9199ee-f092-486a-a359-61ca0bbfd89b,id=de9199ee-f092-486a-a359-61ca0bbfd89b; trace=de9199ee-f092-486a-a359-61ca0bbfd89b,id=de9199ee-f092-486a-a359-61ca0bbfd89b\n",
            "WARNING:langsmith.client:Failed to send compressed multipart ingest: langsmith.utils.LangSmithRateLimitError: Rate limit exceeded for https://eu.api.smith.langchain.com/runs/multipart. HTTPError('429 Client Error: Too Many Requests for url: https://eu.api.smith.langchain.com/runs/multipart', '{\"error\":\"Too many requests: tenant exceeded usage limits: Monthly unique traces usage limit exceeded\"}\\n')trace=c64b16c8-891e-4aa4-b035-9638f0fe0880,id=c64b16c8-891e-4aa4-b035-9638f0fe0880\n",
            "WARNING:langsmith.client:Failed to send compressed multipart ingest: langsmith.utils.LangSmithRateLimitError: Rate limit exceeded for https://eu.api.smith.langchain.com/runs/multipart. HTTPError('429 Client Error: Too Many Requests for url: https://eu.api.smith.langchain.com/runs/multipart', '{\"error\":\"Too many requests: tenant exceeded usage limits: Monthly unique traces usage limit exceeded\"}\\n')trace=c64b16c8-891e-4aa4-b035-9638f0fe0880,id=c64b16c8-891e-4aa4-b035-9638f0fe0880\n",
            "WARNING:langsmith.client:Failed to send compressed multipart ingest: langsmith.utils.LangSmithRateLimitError: Rate limit exceeded for https://eu.api.smith.langchain.com/runs/multipart. HTTPError('429 Client Error: Too Many Requests for url: https://eu.api.smith.langchain.com/runs/multipart', '{\"error\":\"Too many requests: tenant exceeded usage limits: Monthly unique traces usage limit exceeded\"}\\n')trace=24c9d088-55f3-40e8-861e-25beeb6eb7f9,id=24c9d088-55f3-40e8-861e-25beeb6eb7f9; trace=24c9d088-55f3-40e8-861e-25beeb6eb7f9,id=24c9d088-55f3-40e8-861e-25beeb6eb7f9\n",
            "WARNING:langsmith.client:Failed to send compressed multipart ingest: langsmith.utils.LangSmithRateLimitError: Rate limit exceeded for https://eu.api.smith.langchain.com/runs/multipart. HTTPError('429 Client Error: Too Many Requests for url: https://eu.api.smith.langchain.com/runs/multipart', '{\"error\":\"Too many requests: tenant exceeded usage limits: Monthly unique traces usage limit exceeded\"}\\n')trace=136f8dc4-3276-4225-8867-0fe589f8ff9c,id=136f8dc4-3276-4225-8867-0fe589f8ff9c; trace=136f8dc4-3276-4225-8867-0fe589f8ff9c,id=136f8dc4-3276-4225-8867-0fe589f8ff9c\n",
            "WARNING:langsmith.client:Failed to send compressed multipart ingest: langsmith.utils.LangSmithRateLimitError: Rate limit exceeded for https://eu.api.smith.langchain.com/runs/multipart. HTTPError('429 Client Error: Too Many Requests for url: https://eu.api.smith.langchain.com/runs/multipart', '{\"error\":\"Too many requests: tenant exceeded usage limits: Monthly unique traces usage limit exceeded\"}\\n')trace=2bacda01-3eb2-40b6-b202-5e7864af4d84,id=2bacda01-3eb2-40b6-b202-5e7864af4d84; trace=2bacda01-3eb2-40b6-b202-5e7864af4d84,id=2bacda01-3eb2-40b6-b202-5e7864af4d84\n",
            "WARNING:langsmith.client:Failed to send compressed multipart ingest: langsmith.utils.LangSmithRateLimitError: Rate limit exceeded for https://eu.api.smith.langchain.com/runs/multipart. HTTPError('429 Client Error: Too Many Requests for url: https://eu.api.smith.langchain.com/runs/multipart', '{\"error\":\"Too many requests: tenant exceeded usage limits: Monthly unique traces usage limit exceeded\"}\\n')trace=69aa912d-2538-4a0e-a0e2-287b7f784287,id=69aa912d-2538-4a0e-a0e2-287b7f784287; trace=69aa912d-2538-4a0e-a0e2-287b7f784287,id=69aa912d-2538-4a0e-a0e2-287b7f784287\n",
            "WARNING:langsmith.client:Failed to send compressed multipart ingest: langsmith.utils.LangSmithRateLimitError: Rate limit exceeded for https://eu.api.smith.langchain.com/runs/multipart. HTTPError('429 Client Error: Too Many Requests for url: https://eu.api.smith.langchain.com/runs/multipart', '{\"error\":\"Too many requests: tenant exceeded usage limits: Monthly unique traces usage limit exceeded\"}\\n')trace=8bcff58d-f39a-479b-8144-1f8a88e2639e,id=8bcff58d-f39a-479b-8144-1f8a88e2639e; trace=8bcff58d-f39a-479b-8144-1f8a88e2639e,id=8bcff58d-f39a-479b-8144-1f8a88e2639e\n",
            "WARNING:langsmith.client:Failed to send compressed multipart ingest: langsmith.utils.LangSmithRateLimitError: Rate limit exceeded for https://eu.api.smith.langchain.com/runs/multipart. HTTPError('429 Client Error: Too Many Requests for url: https://eu.api.smith.langchain.com/runs/multipart', '{\"error\":\"Too many requests: tenant exceeded usage limits: Monthly unique traces usage limit exceeded\"}\\n')trace=bf380e4f-a924-4ad3-a3d8-7840bb01a1f3,id=bf380e4f-a924-4ad3-a3d8-7840bb01a1f3; trace=bf380e4f-a924-4ad3-a3d8-7840bb01a1f3,id=bf380e4f-a924-4ad3-a3d8-7840bb01a1f3\n",
            "WARNING:langsmith.client:Failed to send compressed multipart ingest: langsmith.utils.LangSmithRateLimitError: Rate limit exceeded for https://eu.api.smith.langchain.com/runs/multipart. HTTPError('429 Client Error: Too Many Requests for url: https://eu.api.smith.langchain.com/runs/multipart', '{\"error\":\"Too many requests: tenant exceeded usage limits: Monthly unique traces usage limit exceeded\"}\\n')trace=465bae90-3bbd-4aab-9126-128423eab79b,id=465bae90-3bbd-4aab-9126-128423eab79b\n",
            "WARNING:langsmith.client:Failed to send compressed multipart ingest: langsmith.utils.LangSmithRateLimitError: Rate limit exceeded for https://eu.api.smith.langchain.com/runs/multipart. HTTPError('429 Client Error: Too Many Requests for url: https://eu.api.smith.langchain.com/runs/multipart', '{\"error\":\"Too many requests: tenant exceeded usage limits: Monthly unique traces usage limit exceeded\"}\\n')trace=465bae90-3bbd-4aab-9126-128423eab79b,id=465bae90-3bbd-4aab-9126-128423eab79b\n",
            "WARNING:langsmith.client:Failed to send compressed multipart ingest: langsmith.utils.LangSmithRateLimitError: Rate limit exceeded for https://eu.api.smith.langchain.com/runs/multipart. HTTPError('429 Client Error: Too Many Requests for url: https://eu.api.smith.langchain.com/runs/multipart', '{\"error\":\"Too many requests: tenant exceeded usage limits: Monthly unique traces usage limit exceeded\"}\\n')trace=1bd68cd6-7614-4522-8a73-2524c2f7181e,id=1bd68cd6-7614-4522-8a73-2524c2f7181e; trace=1bd68cd6-7614-4522-8a73-2524c2f7181e,id=1bd68cd6-7614-4522-8a73-2524c2f7181e\n",
            "WARNING:langsmith.client:Failed to send compressed multipart ingest: langsmith.utils.LangSmithRateLimitError: Rate limit exceeded for https://eu.api.smith.langchain.com/runs/multipart. HTTPError('429 Client Error: Too Many Requests for url: https://eu.api.smith.langchain.com/runs/multipart', '{\"error\":\"Too many requests: tenant exceeded usage limits: Monthly unique traces usage limit exceeded\"}\\n')trace=b0056a37-9f56-4421-9e6f-a4364d387742,id=b0056a37-9f56-4421-9e6f-a4364d387742; trace=b0056a37-9f56-4421-9e6f-a4364d387742,id=b0056a37-9f56-4421-9e6f-a4364d387742\n"
          ]
        },
        {
          "output_type": "stream",
          "name": "stdout",
          "text": [
            "All samples processed in 1.89 seconds.\n",
            "--------------------------------------\n",
            "--------------------------------------\n",
            "\n",
            "--------------------------------------\n",
            "--------------------------------------\n",
            "\n",
            "\n",
            "%%%%%%%%%%%%%%%%%%%%%%\n",
            "Shuffle 1 & N Examples 8\n",
            "%%%%%%%%%%%%%%%%%%%%%%\n",
            "Warning: Cannot perform stratified split based on both Experimenter and Allocation due to classes with less than 2 samples in combined categories. Performing stratified split based on Experimenter only.\n",
            "Warning: Cannot perform stratified split based on Experimenter either. Performing non-stratified split.\n",
            "Created a training set with 8 samples.\n",
            "Created a test set with 15 samples.\n",
            "Directory '/content/extracted_examples_8_shuffle_1' created successfully.\n"
          ]
        },
        {
          "output_type": "stream",
          "name": "stderr",
          "text": [
            "WARNING:langsmith.client:Failed to send compressed multipart ingest: langsmith.utils.LangSmithRateLimitError: Rate limit exceeded for https://eu.api.smith.langchain.com/runs/multipart. HTTPError('429 Client Error: Too Many Requests for url: https://eu.api.smith.langchain.com/runs/multipart', '{\"error\":\"Too many requests: tenant exceeded usage limits: Monthly unique traces usage limit exceeded\"}\\n')trace=1cb86114-1b5c-41bd-a973-4cfb449da960,id=1cb86114-1b5c-41bd-a973-4cfb449da960; trace=1cb86114-1b5c-41bd-a973-4cfb449da960,id=1cb86114-1b5c-41bd-a973-4cfb449da960\n",
            "WARNING:langsmith.client:Failed to send compressed multipart ingest: langsmith.utils.LangSmithRateLimitError: Rate limit exceeded for https://eu.api.smith.langchain.com/runs/multipart. HTTPError('429 Client Error: Too Many Requests for url: https://eu.api.smith.langchain.com/runs/multipart', '{\"error\":\"Too many requests: tenant exceeded usage limits: Monthly unique traces usage limit exceeded\"}\\n')trace=32eda887-15cf-4076-8e82-18ac857cd01e,id=32eda887-15cf-4076-8e82-18ac857cd01e; trace=32eda887-15cf-4076-8e82-18ac857cd01e,id=32eda887-15cf-4076-8e82-18ac857cd01e\n",
            "WARNING:langsmith.client:Failed to send compressed multipart ingest: langsmith.utils.LangSmithRateLimitError: Rate limit exceeded for https://eu.api.smith.langchain.com/runs/multipart. HTTPError('429 Client Error: Too Many Requests for url: https://eu.api.smith.langchain.com/runs/multipart', '{\"error\":\"Too many requests: tenant exceeded usage limits: Monthly unique traces usage limit exceeded\"}\\n')trace=aee2871c-c615-43d0-a9cc-f175ab996f31,id=aee2871c-c615-43d0-a9cc-f175ab996f31; trace=aee2871c-c615-43d0-a9cc-f175ab996f31,id=aee2871c-c615-43d0-a9cc-f175ab996f31\n",
            "WARNING:langsmith.client:Failed to send compressed multipart ingest: langsmith.utils.LangSmithRateLimitError: Rate limit exceeded for https://eu.api.smith.langchain.com/runs/multipart. HTTPError('429 Client Error: Too Many Requests for url: https://eu.api.smith.langchain.com/runs/multipart', '{\"error\":\"Too many requests: tenant exceeded usage limits: Monthly unique traces usage limit exceeded\"}\\n')trace=166d01bb-34f9-4e95-8324-73f20f8ad9bc,id=166d01bb-34f9-4e95-8324-73f20f8ad9bc; trace=166d01bb-34f9-4e95-8324-73f20f8ad9bc,id=166d01bb-34f9-4e95-8324-73f20f8ad9bc\n",
            "WARNING:langsmith.client:Failed to send compressed multipart ingest: langsmith.utils.LangSmithRateLimitError: Rate limit exceeded for https://eu.api.smith.langchain.com/runs/multipart. HTTPError('429 Client Error: Too Many Requests for url: https://eu.api.smith.langchain.com/runs/multipart', '{\"error\":\"Too many requests: tenant exceeded usage limits: Monthly unique traces usage limit exceeded\"}\\n')trace=bddf0822-5fee-4594-86b4-367fc505eafb,id=bddf0822-5fee-4594-86b4-367fc505eafb; trace=bddf0822-5fee-4594-86b4-367fc505eafb,id=bddf0822-5fee-4594-86b4-367fc505eafb\n",
            "WARNING:langsmith.client:Failed to send compressed multipart ingest: langsmith.utils.LangSmithRateLimitError: Rate limit exceeded for https://eu.api.smith.langchain.com/runs/multipart. HTTPError('429 Client Error: Too Many Requests for url: https://eu.api.smith.langchain.com/runs/multipart', '{\"error\":\"Too many requests: tenant exceeded usage limits: Monthly unique traces usage limit exceeded\"}\\n')trace=13f8a7e9-157f-4511-beee-67b99d8b7aa4,id=13f8a7e9-157f-4511-beee-67b99d8b7aa4; trace=13f8a7e9-157f-4511-beee-67b99d8b7aa4,id=13f8a7e9-157f-4511-beee-67b99d8b7aa4\n",
            "WARNING:langsmith.client:Failed to send compressed multipart ingest: langsmith.utils.LangSmithRateLimitError: Rate limit exceeded for https://eu.api.smith.langchain.com/runs/multipart. HTTPError('429 Client Error: Too Many Requests for url: https://eu.api.smith.langchain.com/runs/multipart', '{\"error\":\"Too many requests: tenant exceeded usage limits: Monthly unique traces usage limit exceeded\"}\\n')trace=78fbb5aa-b1d6-49c5-8bab-66eb9ef51c19,id=78fbb5aa-b1d6-49c5-8bab-66eb9ef51c19; trace=78fbb5aa-b1d6-49c5-8bab-66eb9ef51c19,id=78fbb5aa-b1d6-49c5-8bab-66eb9ef51c19\n",
            "WARNING:langsmith.client:Failed to send compressed multipart ingest: langsmith.utils.LangSmithRateLimitError: Rate limit exceeded for https://eu.api.smith.langchain.com/runs/multipart. HTTPError('429 Client Error: Too Many Requests for url: https://eu.api.smith.langchain.com/runs/multipart', '{\"error\":\"Too many requests: tenant exceeded usage limits: Monthly unique traces usage limit exceeded\"}\\n')trace=e577f5e5-1f16-4048-8a6c-f921cf2dcb52,id=e577f5e5-1f16-4048-8a6c-f921cf2dcb52; trace=e577f5e5-1f16-4048-8a6c-f921cf2dcb52,id=e577f5e5-1f16-4048-8a6c-f921cf2dcb52\n",
            "WARNING:langsmith.client:Failed to send compressed multipart ingest: langsmith.utils.LangSmithRateLimitError: Rate limit exceeded for https://eu.api.smith.langchain.com/runs/multipart. HTTPError('429 Client Error: Too Many Requests for url: https://eu.api.smith.langchain.com/runs/multipart', '{\"error\":\"Too many requests: tenant exceeded usage limits: Monthly unique traces usage limit exceeded\"}\\n')trace=9a686564-c54e-4256-82a1-d37cbeca964a,id=9a686564-c54e-4256-82a1-d37cbeca964a; trace=9a686564-c54e-4256-82a1-d37cbeca964a,id=9a686564-c54e-4256-82a1-d37cbeca964a\n",
            "WARNING:langsmith.client:Failed to send compressed multipart ingest: langsmith.utils.LangSmithRateLimitError: Rate limit exceeded for https://eu.api.smith.langchain.com/runs/multipart. HTTPError('429 Client Error: Too Many Requests for url: https://eu.api.smith.langchain.com/runs/multipart', '{\"error\":\"Too many requests: tenant exceeded usage limits: Monthly unique traces usage limit exceeded\"}\\n')trace=778a3850-5e18-4012-83d6-4a08cb49de78,id=778a3850-5e18-4012-83d6-4a08cb49de78; trace=778a3850-5e18-4012-83d6-4a08cb49de78,id=778a3850-5e18-4012-83d6-4a08cb49de78\n",
            "WARNING:langsmith.client:Failed to send compressed multipart ingest: langsmith.utils.LangSmithRateLimitError: Rate limit exceeded for https://eu.api.smith.langchain.com/runs/multipart. HTTPError('429 Client Error: Too Many Requests for url: https://eu.api.smith.langchain.com/runs/multipart', '{\"error\":\"Too many requests: tenant exceeded usage limits: Monthly unique traces usage limit exceeded\"}\\n')trace=8a352f9a-2171-48f1-8d3f-e03275c1b122,id=8a352f9a-2171-48f1-8d3f-e03275c1b122; trace=8a352f9a-2171-48f1-8d3f-e03275c1b122,id=8a352f9a-2171-48f1-8d3f-e03275c1b122\n",
            "WARNING:langsmith.client:Failed to send compressed multipart ingest: langsmith.utils.LangSmithRateLimitError: Rate limit exceeded for https://eu.api.smith.langchain.com/runs/multipart. HTTPError('429 Client Error: Too Many Requests for url: https://eu.api.smith.langchain.com/runs/multipart', '{\"error\":\"Too many requests: tenant exceeded usage limits: Monthly unique traces usage limit exceeded\"}\\n')trace=8bc5627c-edf6-4b34-90b0-7f7c9f183db4,id=8bc5627c-edf6-4b34-90b0-7f7c9f183db4; trace=8bc5627c-edf6-4b34-90b0-7f7c9f183db4,id=8bc5627c-edf6-4b34-90b0-7f7c9f183db4\n",
            "WARNING:langsmith.client:Failed to send compressed multipart ingest: langsmith.utils.LangSmithRateLimitError: Rate limit exceeded for https://eu.api.smith.langchain.com/runs/multipart. HTTPError('429 Client Error: Too Many Requests for url: https://eu.api.smith.langchain.com/runs/multipart', '{\"error\":\"Too many requests: tenant exceeded usage limits: Monthly unique traces usage limit exceeded\"}\\n')trace=e36d1b79-8423-462b-a13b-d344ca82c8ed,id=e36d1b79-8423-462b-a13b-d344ca82c8ed; trace=e36d1b79-8423-462b-a13b-d344ca82c8ed,id=e36d1b79-8423-462b-a13b-d344ca82c8ed\n",
            "WARNING:langsmith.client:Failed to send compressed multipart ingest: langsmith.utils.LangSmithRateLimitError: Rate limit exceeded for https://eu.api.smith.langchain.com/runs/multipart. HTTPError('429 Client Error: Too Many Requests for url: https://eu.api.smith.langchain.com/runs/multipart', '{\"error\":\"Too many requests: tenant exceeded usage limits: Monthly unique traces usage limit exceeded\"}\\n')trace=49f4d3da-bc4d-4e98-b880-303bf6ab490b,id=49f4d3da-bc4d-4e98-b880-303bf6ab490b; trace=49f4d3da-bc4d-4e98-b880-303bf6ab490b,id=49f4d3da-bc4d-4e98-b880-303bf6ab490b\n",
            "WARNING:langsmith.client:Failed to send compressed multipart ingest: langsmith.utils.LangSmithRateLimitError: Rate limit exceeded for https://eu.api.smith.langchain.com/runs/multipart. HTTPError('429 Client Error: Too Many Requests for url: https://eu.api.smith.langchain.com/runs/multipart', '{\"error\":\"Too many requests: tenant exceeded usage limits: Monthly unique traces usage limit exceeded\"}\\n')trace=caad9868-61a1-46e4-9a65-e2e2a6309155,id=caad9868-61a1-46e4-9a65-e2e2a6309155; trace=caad9868-61a1-46e4-9a65-e2e2a6309155,id=caad9868-61a1-46e4-9a65-e2e2a6309155\n"
          ]
        },
        {
          "output_type": "stream",
          "name": "stdout",
          "text": [
            "All samples processed in 2.19 seconds.\n",
            "--------------------------------------\n",
            "--------------------------------------\n",
            "\n",
            "--------------------------------------\n",
            "--------------------------------------\n",
            "\n",
            "\n",
            "%%%%%%%%%%%%%%%%%%%%%%\n",
            "Shuffle 2 & N Examples 8\n",
            "%%%%%%%%%%%%%%%%%%%%%%\n",
            "Warning: Cannot perform stratified split based on both Experimenter and Allocation due to classes with less than 2 samples in combined categories. Performing stratified split based on Experimenter only.\n",
            "Warning: Cannot perform stratified split based on Experimenter either. Performing non-stratified split.\n",
            "Created a training set with 8 samples.\n",
            "Created a test set with 15 samples.\n",
            "Directory '/content/extracted_examples_8_shuffle_2' created successfully.\n"
          ]
        },
        {
          "output_type": "stream",
          "name": "stderr",
          "text": [
            "WARNING:langsmith.client:Failed to send compressed multipart ingest: langsmith.utils.LangSmithRateLimitError: Rate limit exceeded for https://eu.api.smith.langchain.com/runs/multipart. HTTPError('429 Client Error: Too Many Requests for url: https://eu.api.smith.langchain.com/runs/multipart', '{\"error\":\"Too many requests: tenant exceeded usage limits: Monthly unique traces usage limit exceeded\"}\\n')trace=2ccda401-d604-4053-a5f2-8f122953259e,id=2ccda401-d604-4053-a5f2-8f122953259e; trace=2ccda401-d604-4053-a5f2-8f122953259e,id=2ccda401-d604-4053-a5f2-8f122953259e\n"
          ]
        },
        {
          "output_type": "stream",
          "name": "stdout",
          "text": [
            "Error processing examples_8_shuffle_2: Failed to parse JSON: Expecting property name enclosed in double quotes: line 2 column 4 (char 5)\n",
            "Extracted string: [\n",
            "  {{\n",
            "    \"Allocation\": \"Random\",\n",
            "    \"Experimenter\": \"Teacher\"\n",
            "  }},\n",
            "  {{\n",
            "    \"Allocation\": \"Random\",\n",
            "    \"Experimenter\": \"Researcher\"\n",
            "  }},\n",
            "  {{\n",
            "    \"Allocation\": \"Random\",\n",
            "    \"Experimenter\": \"Teacher\"\n",
            "  }},\n",
            "  {{\n",
            "    \"Allocation\": \"Random\",\n",
            "    \"Experimenter\": \"NaN\"\n",
            "  }},\n",
            "  {{\n",
            "    \"Allocation\": \"Random\",\n",
            "    \"Experimenter\": \"Researcher\"\n",
            "  }},\n",
            "  {{\n",
            "    \"Allocation\": \"Random\",\n",
            "    \"Experimenter\": \"Teacher\"\n",
            "  }},\n",
            "  {{\n",
            "    \"Allocation\": \"Random\",\n",
            "    \"Experimenter\": \"Parent\"\n",
            "  }},\n",
            "  {{\n",
            "    \"Allocation\": \"Non-random\",\n",
            "    \"Experimenter\": \"Teacher\"\n",
            "  }}\n",
            "]\n",
            "Skipping this run.\n",
            "\n",
            "\n",
            "%%%%%%%%%%%%%%%%%%%%%%\n",
            "Shuffle 3 & N Examples 8\n",
            "%%%%%%%%%%%%%%%%%%%%%%\n",
            "Warning: Cannot perform stratified split based on both Experimenter and Allocation due to classes with less than 2 samples in combined categories. Performing stratified split based on Experimenter only.\n",
            "Warning: Cannot perform stratified split based on Experimenter either. Performing non-stratified split.\n",
            "Created a training set with 8 samples.\n",
            "Created a test set with 15 samples.\n",
            "Directory '/content/extracted_examples_8_shuffle_3' created successfully.\n"
          ]
        },
        {
          "output_type": "stream",
          "name": "stderr",
          "text": [
            "WARNING:langsmith.client:Failed to send compressed multipart ingest: langsmith.utils.LangSmithRateLimitError: Rate limit exceeded for https://eu.api.smith.langchain.com/runs/multipart. HTTPError('429 Client Error: Too Many Requests for url: https://eu.api.smith.langchain.com/runs/multipart', '{\"error\":\"Too many requests: tenant exceeded usage limits: Monthly unique traces usage limit exceeded\"}\\n')trace=e82e0a82-a2ce-4e55-8710-2107e3d4f2a3,id=e82e0a82-a2ce-4e55-8710-2107e3d4f2a3\n",
            "WARNING:langsmith.client:Failed to send compressed multipart ingest: langsmith.utils.LangSmithRateLimitError: Rate limit exceeded for https://eu.api.smith.langchain.com/runs/multipart. HTTPError('429 Client Error: Too Many Requests for url: https://eu.api.smith.langchain.com/runs/multipart', '{\"error\":\"Too many requests: tenant exceeded usage limits: Monthly unique traces usage limit exceeded\"}\\n')trace=e82e0a82-a2ce-4e55-8710-2107e3d4f2a3,id=e82e0a82-a2ce-4e55-8710-2107e3d4f2a3\n",
            "WARNING:langsmith.client:Failed to send compressed multipart ingest: langsmith.utils.LangSmithRateLimitError: Rate limit exceeded for https://eu.api.smith.langchain.com/runs/multipart. HTTPError('429 Client Error: Too Many Requests for url: https://eu.api.smith.langchain.com/runs/multipart', '{\"error\":\"Too many requests: tenant exceeded usage limits: Monthly unique traces usage limit exceeded\"}\\n')trace=95b8f9eb-7182-401c-8bd5-b3631359307f,id=95b8f9eb-7182-401c-8bd5-b3631359307f\n",
            "WARNING:langsmith.client:Failed to send compressed multipart ingest: langsmith.utils.LangSmithRateLimitError: Rate limit exceeded for https://eu.api.smith.langchain.com/runs/multipart. HTTPError('429 Client Error: Too Many Requests for url: https://eu.api.smith.langchain.com/runs/multipart', '{\"error\":\"Too many requests: tenant exceeded usage limits: Monthly unique traces usage limit exceeded\"}\\n')trace=95b8f9eb-7182-401c-8bd5-b3631359307f,id=95b8f9eb-7182-401c-8bd5-b3631359307f\n",
            "WARNING:langsmith.client:Failed to send compressed multipart ingest: langsmith.utils.LangSmithRateLimitError: Rate limit exceeded for https://eu.api.smith.langchain.com/runs/multipart. HTTPError('429 Client Error: Too Many Requests for url: https://eu.api.smith.langchain.com/runs/multipart', '{\"error\":\"Too many requests: tenant exceeded usage limits: Monthly unique traces usage limit exceeded\"}\\n')trace=d1dc5eef-f1d8-4c01-b08a-c72f0068de1e,id=d1dc5eef-f1d8-4c01-b08a-c72f0068de1e\n",
            "WARNING:langsmith.client:Failed to send compressed multipart ingest: langsmith.utils.LangSmithRateLimitError: Rate limit exceeded for https://eu.api.smith.langchain.com/runs/multipart. HTTPError('429 Client Error: Too Many Requests for url: https://eu.api.smith.langchain.com/runs/multipart', '{\"error\":\"Too many requests: tenant exceeded usage limits: Monthly unique traces usage limit exceeded\"}\\n')trace=d1dc5eef-f1d8-4c01-b08a-c72f0068de1e,id=d1dc5eef-f1d8-4c01-b08a-c72f0068de1e\n",
            "WARNING:langsmith.client:Failed to send compressed multipart ingest: langsmith.utils.LangSmithRateLimitError: Rate limit exceeded for https://eu.api.smith.langchain.com/runs/multipart. HTTPError('429 Client Error: Too Many Requests for url: https://eu.api.smith.langchain.com/runs/multipart', '{\"error\":\"Too many requests: tenant exceeded usage limits: Monthly unique traces usage limit exceeded\"}\\n')trace=2b1223fb-dcfd-4260-9012-6706da466bfe,id=2b1223fb-dcfd-4260-9012-6706da466bfe\n",
            "WARNING:langsmith.client:Failed to send compressed multipart ingest: langsmith.utils.LangSmithRateLimitError: Rate limit exceeded for https://eu.api.smith.langchain.com/runs/multipart. HTTPError('429 Client Error: Too Many Requests for url: https://eu.api.smith.langchain.com/runs/multipart', '{\"error\":\"Too many requests: tenant exceeded usage limits: Monthly unique traces usage limit exceeded\"}\\n')trace=2b1223fb-dcfd-4260-9012-6706da466bfe,id=2b1223fb-dcfd-4260-9012-6706da466bfe\n",
            "WARNING:langsmith.client:Failed to send compressed multipart ingest: langsmith.utils.LangSmithRateLimitError: Rate limit exceeded for https://eu.api.smith.langchain.com/runs/multipart. HTTPError('429 Client Error: Too Many Requests for url: https://eu.api.smith.langchain.com/runs/multipart', '{\"error\":\"Too many requests: tenant exceeded usage limits: Monthly unique traces usage limit exceeded\"}\\n')trace=09c50ba5-39b7-4127-976a-ed36f227a5fd,id=09c50ba5-39b7-4127-976a-ed36f227a5fd\n",
            "WARNING:langsmith.client:Failed to send compressed multipart ingest: langsmith.utils.LangSmithRateLimitError: Rate limit exceeded for https://eu.api.smith.langchain.com/runs/multipart. HTTPError('429 Client Error: Too Many Requests for url: https://eu.api.smith.langchain.com/runs/multipart', '{\"error\":\"Too many requests: tenant exceeded usage limits: Monthly unique traces usage limit exceeded\"}\\n')trace=09c50ba5-39b7-4127-976a-ed36f227a5fd,id=09c50ba5-39b7-4127-976a-ed36f227a5fd\n",
            "WARNING:langsmith.client:Failed to send compressed multipart ingest: langsmith.utils.LangSmithRateLimitError: Rate limit exceeded for https://eu.api.smith.langchain.com/runs/multipart. HTTPError('429 Client Error: Too Many Requests for url: https://eu.api.smith.langchain.com/runs/multipart', '{\"error\":\"Too many requests: tenant exceeded usage limits: Monthly unique traces usage limit exceeded\"}\\n')trace=2b31073c-6300-4471-aca6-82a100bfc873,id=2b31073c-6300-4471-aca6-82a100bfc873\n",
            "WARNING:langsmith.client:Failed to send compressed multipart ingest: langsmith.utils.LangSmithRateLimitError: Rate limit exceeded for https://eu.api.smith.langchain.com/runs/multipart. HTTPError('429 Client Error: Too Many Requests for url: https://eu.api.smith.langchain.com/runs/multipart', '{\"error\":\"Too many requests: tenant exceeded usage limits: Monthly unique traces usage limit exceeded\"}\\n')trace=2b31073c-6300-4471-aca6-82a100bfc873,id=2b31073c-6300-4471-aca6-82a100bfc873\n",
            "WARNING:langsmith.client:Failed to send compressed multipart ingest: langsmith.utils.LangSmithRateLimitError: Rate limit exceeded for https://eu.api.smith.langchain.com/runs/multipart. HTTPError('429 Client Error: Too Many Requests for url: https://eu.api.smith.langchain.com/runs/multipart', '{\"error\":\"Too many requests: tenant exceeded usage limits: Monthly unique traces usage limit exceeded\"}\\n')trace=03ad7405-2321-4e41-90c2-9cf40c155c84,id=03ad7405-2321-4e41-90c2-9cf40c155c84\n",
            "WARNING:langsmith.client:Failed to send compressed multipart ingest: langsmith.utils.LangSmithRateLimitError: Rate limit exceeded for https://eu.api.smith.langchain.com/runs/multipart. HTTPError('429 Client Error: Too Many Requests for url: https://eu.api.smith.langchain.com/runs/multipart', '{\"error\":\"Too many requests: tenant exceeded usage limits: Monthly unique traces usage limit exceeded\"}\\n')trace=03ad7405-2321-4e41-90c2-9cf40c155c84,id=03ad7405-2321-4e41-90c2-9cf40c155c84\n",
            "WARNING:langsmith.client:Failed to send compressed multipart ingest: langsmith.utils.LangSmithRateLimitError: Rate limit exceeded for https://eu.api.smith.langchain.com/runs/multipart. HTTPError('429 Client Error: Too Many Requests for url: https://eu.api.smith.langchain.com/runs/multipart', '{\"error\":\"Too many requests: tenant exceeded usage limits: Monthly unique traces usage limit exceeded\"}\\n')trace=4507c837-d64f-470d-a1b5-bd5597fba7c6,id=4507c837-d64f-470d-a1b5-bd5597fba7c6\n",
            "WARNING:langsmith.client:Failed to send compressed multipart ingest: langsmith.utils.LangSmithRateLimitError: Rate limit exceeded for https://eu.api.smith.langchain.com/runs/multipart. HTTPError('429 Client Error: Too Many Requests for url: https://eu.api.smith.langchain.com/runs/multipart', '{\"error\":\"Too many requests: tenant exceeded usage limits: Monthly unique traces usage limit exceeded\"}\\n')trace=4507c837-d64f-470d-a1b5-bd5597fba7c6,id=4507c837-d64f-470d-a1b5-bd5597fba7c6\n",
            "WARNING:langsmith.client:Failed to send compressed multipart ingest: langsmith.utils.LangSmithRateLimitError: Rate limit exceeded for https://eu.api.smith.langchain.com/runs/multipart. HTTPError('429 Client Error: Too Many Requests for url: https://eu.api.smith.langchain.com/runs/multipart', '{\"error\":\"Too many requests: tenant exceeded usage limits: Monthly unique traces usage limit exceeded\"}\\n')trace=20066433-1187-4729-af12-349819a79c3b,id=20066433-1187-4729-af12-349819a79c3b\n",
            "WARNING:langsmith.client:Failed to send compressed multipart ingest: langsmith.utils.LangSmithRateLimitError: Rate limit exceeded for https://eu.api.smith.langchain.com/runs/multipart. HTTPError('429 Client Error: Too Many Requests for url: https://eu.api.smith.langchain.com/runs/multipart', '{\"error\":\"Too many requests: tenant exceeded usage limits: Monthly unique traces usage limit exceeded\"}\\n')trace=20066433-1187-4729-af12-349819a79c3b,id=20066433-1187-4729-af12-349819a79c3b\n",
            "WARNING:langsmith.client:Failed to send compressed multipart ingest: langsmith.utils.LangSmithRateLimitError: Rate limit exceeded for https://eu.api.smith.langchain.com/runs/multipart. HTTPError('429 Client Error: Too Many Requests for url: https://eu.api.smith.langchain.com/runs/multipart', '{\"error\":\"Too many requests: tenant exceeded usage limits: Monthly unique traces usage limit exceeded\"}\\n')trace=232dc8b1-870d-478f-ae3c-c3ef535297f6,id=232dc8b1-870d-478f-ae3c-c3ef535297f6\n",
            "WARNING:langsmith.client:Failed to send compressed multipart ingest: langsmith.utils.LangSmithRateLimitError: Rate limit exceeded for https://eu.api.smith.langchain.com/runs/multipart. HTTPError('429 Client Error: Too Many Requests for url: https://eu.api.smith.langchain.com/runs/multipart', '{\"error\":\"Too many requests: tenant exceeded usage limits: Monthly unique traces usage limit exceeded\"}\\n')trace=232dc8b1-870d-478f-ae3c-c3ef535297f6,id=232dc8b1-870d-478f-ae3c-c3ef535297f6\n",
            "WARNING:langsmith.client:Failed to send compressed multipart ingest: langsmith.utils.LangSmithRateLimitError: Rate limit exceeded for https://eu.api.smith.langchain.com/runs/multipart. HTTPError('429 Client Error: Too Many Requests for url: https://eu.api.smith.langchain.com/runs/multipart', '{\"error\":\"Too many requests: tenant exceeded usage limits: Monthly unique traces usage limit exceeded\"}\\n')trace=d51d1e54-e961-4e25-8beb-d99da4584adf,id=d51d1e54-e961-4e25-8beb-d99da4584adf\n",
            "WARNING:langsmith.client:Failed to send compressed multipart ingest: langsmith.utils.LangSmithRateLimitError: Rate limit exceeded for https://eu.api.smith.langchain.com/runs/multipart. HTTPError('429 Client Error: Too Many Requests for url: https://eu.api.smith.langchain.com/runs/multipart', '{\"error\":\"Too many requests: tenant exceeded usage limits: Monthly unique traces usage limit exceeded\"}\\n')trace=d51d1e54-e961-4e25-8beb-d99da4584adf,id=d51d1e54-e961-4e25-8beb-d99da4584adf\n",
            "WARNING:langsmith.client:Failed to send compressed multipart ingest: langsmith.utils.LangSmithRateLimitError: Rate limit exceeded for https://eu.api.smith.langchain.com/runs/multipart. HTTPError('429 Client Error: Too Many Requests for url: https://eu.api.smith.langchain.com/runs/multipart', '{\"error\":\"Too many requests: tenant exceeded usage limits: Monthly unique traces usage limit exceeded\"}\\n')trace=0fb54be3-7041-42c5-81d5-5217dffd8144,id=0fb54be3-7041-42c5-81d5-5217dffd8144\n",
            "WARNING:langsmith.client:Failed to send compressed multipart ingest: langsmith.utils.LangSmithRateLimitError: Rate limit exceeded for https://eu.api.smith.langchain.com/runs/multipart. HTTPError('429 Client Error: Too Many Requests for url: https://eu.api.smith.langchain.com/runs/multipart', '{\"error\":\"Too many requests: tenant exceeded usage limits: Monthly unique traces usage limit exceeded\"}\\n')trace=0fb54be3-7041-42c5-81d5-5217dffd8144,id=0fb54be3-7041-42c5-81d5-5217dffd8144\n",
            "WARNING:langsmith.client:Failed to send compressed multipart ingest: langsmith.utils.LangSmithRateLimitError: Rate limit exceeded for https://eu.api.smith.langchain.com/runs/multipart. HTTPError('429 Client Error: Too Many Requests for url: https://eu.api.smith.langchain.com/runs/multipart', '{\"error\":\"Too many requests: tenant exceeded usage limits: Monthly unique traces usage limit exceeded\"}\\n')trace=57365124-6f2d-40e7-8ebb-e35f50874488,id=57365124-6f2d-40e7-8ebb-e35f50874488\n",
            "WARNING:langsmith.client:Failed to send compressed multipart ingest: langsmith.utils.LangSmithRateLimitError: Rate limit exceeded for https://eu.api.smith.langchain.com/runs/multipart. HTTPError('429 Client Error: Too Many Requests for url: https://eu.api.smith.langchain.com/runs/multipart', '{\"error\":\"Too many requests: tenant exceeded usage limits: Monthly unique traces usage limit exceeded\"}\\n')trace=57365124-6f2d-40e7-8ebb-e35f50874488,id=57365124-6f2d-40e7-8ebb-e35f50874488\n",
            "WARNING:langsmith.client:Failed to send compressed multipart ingest: langsmith.utils.LangSmithRateLimitError: Rate limit exceeded for https://eu.api.smith.langchain.com/runs/multipart. HTTPError('429 Client Error: Too Many Requests for url: https://eu.api.smith.langchain.com/runs/multipart', '{\"error\":\"Too many requests: tenant exceeded usage limits: Monthly unique traces usage limit exceeded\"}\\n')trace=a32e6c31-bb1a-45e5-a572-e0facb3979d2,id=a32e6c31-bb1a-45e5-a572-e0facb3979d2\n",
            "WARNING:langsmith.client:Failed to send compressed multipart ingest: langsmith.utils.LangSmithRateLimitError: Rate limit exceeded for https://eu.api.smith.langchain.com/runs/multipart. HTTPError('429 Client Error: Too Many Requests for url: https://eu.api.smith.langchain.com/runs/multipart', '{\"error\":\"Too many requests: tenant exceeded usage limits: Monthly unique traces usage limit exceeded\"}\\n')trace=a32e6c31-bb1a-45e5-a572-e0facb3979d2,id=a32e6c31-bb1a-45e5-a572-e0facb3979d2\n",
            "WARNING:langsmith.client:Failed to send compressed multipart ingest: langsmith.utils.LangSmithRateLimitError: Rate limit exceeded for https://eu.api.smith.langchain.com/runs/multipart. HTTPError('429 Client Error: Too Many Requests for url: https://eu.api.smith.langchain.com/runs/multipart', '{\"error\":\"Too many requests: tenant exceeded usage limits: Monthly unique traces usage limit exceeded\"}\\n')trace=ef2b8e3e-0922-4fa6-9389-635ec59dbe8a,id=ef2b8e3e-0922-4fa6-9389-635ec59dbe8a\n",
            "WARNING:langsmith.client:Failed to send compressed multipart ingest: langsmith.utils.LangSmithRateLimitError: Rate limit exceeded for https://eu.api.smith.langchain.com/runs/multipart. HTTPError('429 Client Error: Too Many Requests for url: https://eu.api.smith.langchain.com/runs/multipart', '{\"error\":\"Too many requests: tenant exceeded usage limits: Monthly unique traces usage limit exceeded\"}\\n')trace=ef2b8e3e-0922-4fa6-9389-635ec59dbe8a,id=ef2b8e3e-0922-4fa6-9389-635ec59dbe8a\n"
          ]
        },
        {
          "output_type": "stream",
          "name": "stdout",
          "text": [
            "All samples processed in 2.07 seconds.\n",
            "--------------------------------------\n",
            "--------------------------------------\n",
            "\n",
            "--------------------------------------\n",
            "--------------------------------------\n",
            "\n",
            "\n",
            "%%%%%%%%%%%%%%%%%%%%%%\n",
            "Shuffle 1 & N Examples 9\n",
            "%%%%%%%%%%%%%%%%%%%%%%\n",
            "Warning: Cannot perform stratified split based on both Experimenter and Allocation due to classes with less than 2 samples in combined categories. Performing stratified split based on Experimenter only.\n",
            "Warning: Cannot perform stratified split based on Experimenter either. Performing non-stratified split.\n",
            "Created a training set with 9 samples.\n",
            "Created a test set with 14 samples.\n",
            "Directory '/content/extracted_examples_9_shuffle_1' created successfully.\n"
          ]
        },
        {
          "output_type": "stream",
          "name": "stderr",
          "text": [
            "WARNING:langsmith.client:Failed to send compressed multipart ingest: langsmith.utils.LangSmithRateLimitError: Rate limit exceeded for https://eu.api.smith.langchain.com/runs/multipart. HTTPError('429 Client Error: Too Many Requests for url: https://eu.api.smith.langchain.com/runs/multipart', '{\"error\":\"Too many requests: tenant exceeded usage limits: Monthly unique traces usage limit exceeded\"}\\n')trace=2859340a-04ab-4b22-9b93-2e35e8218a49,id=2859340a-04ab-4b22-9b93-2e35e8218a49; trace=2859340a-04ab-4b22-9b93-2e35e8218a49,id=2859340a-04ab-4b22-9b93-2e35e8218a49\n",
            "WARNING:langsmith.client:Failed to send compressed multipart ingest: langsmith.utils.LangSmithRateLimitError: Rate limit exceeded for https://eu.api.smith.langchain.com/runs/multipart. HTTPError('429 Client Error: Too Many Requests for url: https://eu.api.smith.langchain.com/runs/multipart', '{\"error\":\"Too many requests: tenant exceeded usage limits: Monthly unique traces usage limit exceeded\"}\\n')trace=ed744300-cc55-48b2-8fcf-8e6fafcae92a,id=ed744300-cc55-48b2-8fcf-8e6fafcae92a; trace=ed744300-cc55-48b2-8fcf-8e6fafcae92a,id=ed744300-cc55-48b2-8fcf-8e6fafcae92a\n",
            "WARNING:langsmith.client:Failed to send compressed multipart ingest: langsmith.utils.LangSmithRateLimitError: Rate limit exceeded for https://eu.api.smith.langchain.com/runs/multipart. HTTPError('429 Client Error: Too Many Requests for url: https://eu.api.smith.langchain.com/runs/multipart', '{\"error\":\"Too many requests: tenant exceeded usage limits: Monthly unique traces usage limit exceeded\"}\\n')trace=17efdaf2-0f33-40bf-8cdd-c6ddc8db5db6,id=17efdaf2-0f33-40bf-8cdd-c6ddc8db5db6; trace=17efdaf2-0f33-40bf-8cdd-c6ddc8db5db6,id=17efdaf2-0f33-40bf-8cdd-c6ddc8db5db6\n",
            "WARNING:langsmith.client:Failed to send compressed multipart ingest: langsmith.utils.LangSmithRateLimitError: Rate limit exceeded for https://eu.api.smith.langchain.com/runs/multipart. HTTPError('429 Client Error: Too Many Requests for url: https://eu.api.smith.langchain.com/runs/multipart', '{\"error\":\"Too many requests: tenant exceeded usage limits: Monthly unique traces usage limit exceeded\"}\\n')trace=e5235986-27cc-4183-875a-2b56ada97468,id=e5235986-27cc-4183-875a-2b56ada97468; trace=e5235986-27cc-4183-875a-2b56ada97468,id=e5235986-27cc-4183-875a-2b56ada97468\n",
            "WARNING:langsmith.client:Failed to send compressed multipart ingest: langsmith.utils.LangSmithRateLimitError: Rate limit exceeded for https://eu.api.smith.langchain.com/runs/multipart. HTTPError('429 Client Error: Too Many Requests for url: https://eu.api.smith.langchain.com/runs/multipart', '{\"error\":\"Too many requests: tenant exceeded usage limits: Monthly unique traces usage limit exceeded\"}\\n')trace=c3ae6025-f0c9-4c44-a094-2ff5c5c7bcad,id=c3ae6025-f0c9-4c44-a094-2ff5c5c7bcad; trace=c3ae6025-f0c9-4c44-a094-2ff5c5c7bcad,id=c3ae6025-f0c9-4c44-a094-2ff5c5c7bcad\n",
            "WARNING:langsmith.client:Failed to send compressed multipart ingest: langsmith.utils.LangSmithRateLimitError: Rate limit exceeded for https://eu.api.smith.langchain.com/runs/multipart. HTTPError('429 Client Error: Too Many Requests for url: https://eu.api.smith.langchain.com/runs/multipart', '{\"error\":\"Too many requests: tenant exceeded usage limits: Monthly unique traces usage limit exceeded\"}\\n')trace=113c0698-4afc-4c7c-ac8a-c952c26e417c,id=113c0698-4afc-4c7c-ac8a-c952c26e417c; trace=113c0698-4afc-4c7c-ac8a-c952c26e417c,id=113c0698-4afc-4c7c-ac8a-c952c26e417c\n",
            "WARNING:langsmith.client:Failed to send compressed multipart ingest: langsmith.utils.LangSmithRateLimitError: Rate limit exceeded for https://eu.api.smith.langchain.com/runs/multipart. HTTPError('429 Client Error: Too Many Requests for url: https://eu.api.smith.langchain.com/runs/multipart', '{\"error\":\"Too many requests: tenant exceeded usage limits: Monthly unique traces usage limit exceeded\"}\\n')trace=f0b3826b-5e54-4d25-a351-f8475434fcfa,id=f0b3826b-5e54-4d25-a351-f8475434fcfa; trace=f0b3826b-5e54-4d25-a351-f8475434fcfa,id=f0b3826b-5e54-4d25-a351-f8475434fcfa\n",
            "WARNING:langsmith.client:Failed to send compressed multipart ingest: langsmith.utils.LangSmithRateLimitError: Rate limit exceeded for https://eu.api.smith.langchain.com/runs/multipart. HTTPError('429 Client Error: Too Many Requests for url: https://eu.api.smith.langchain.com/runs/multipart', '{\"error\":\"Too many requests: tenant exceeded usage limits: Monthly unique traces usage limit exceeded\"}\\n')trace=92841767-2d93-4e03-a853-f0700b6ce44a,id=92841767-2d93-4e03-a853-f0700b6ce44a; trace=92841767-2d93-4e03-a853-f0700b6ce44a,id=92841767-2d93-4e03-a853-f0700b6ce44a\n",
            "WARNING:langsmith.client:Failed to send compressed multipart ingest: langsmith.utils.LangSmithRateLimitError: Rate limit exceeded for https://eu.api.smith.langchain.com/runs/multipart. HTTPError('429 Client Error: Too Many Requests for url: https://eu.api.smith.langchain.com/runs/multipart', '{\"error\":\"Too many requests: tenant exceeded usage limits: Monthly unique traces usage limit exceeded\"}\\n')trace=957bdecc-4488-44b6-9bf9-5313871d4b8a,id=957bdecc-4488-44b6-9bf9-5313871d4b8a\n",
            "WARNING:langsmith.client:Failed to send compressed multipart ingest: langsmith.utils.LangSmithRateLimitError: Rate limit exceeded for https://eu.api.smith.langchain.com/runs/multipart. HTTPError('429 Client Error: Too Many Requests for url: https://eu.api.smith.langchain.com/runs/multipart', '{\"error\":\"Too many requests: tenant exceeded usage limits: Monthly unique traces usage limit exceeded\"}\\n')trace=957bdecc-4488-44b6-9bf9-5313871d4b8a,id=957bdecc-4488-44b6-9bf9-5313871d4b8a\n",
            "WARNING:langsmith.client:Failed to send compressed multipart ingest: langsmith.utils.LangSmithRateLimitError: Rate limit exceeded for https://eu.api.smith.langchain.com/runs/multipart. HTTPError('429 Client Error: Too Many Requests for url: https://eu.api.smith.langchain.com/runs/multipart', '{\"error\":\"Too many requests: tenant exceeded usage limits: Monthly unique traces usage limit exceeded\"}\\n')trace=5d057b59-6284-4745-8a39-bc5b76d4ffad,id=5d057b59-6284-4745-8a39-bc5b76d4ffad; trace=5d057b59-6284-4745-8a39-bc5b76d4ffad,id=5d057b59-6284-4745-8a39-bc5b76d4ffad\n",
            "WARNING:langsmith.client:Failed to send compressed multipart ingest: langsmith.utils.LangSmithRateLimitError: Rate limit exceeded for https://eu.api.smith.langchain.com/runs/multipart. HTTPError('429 Client Error: Too Many Requests for url: https://eu.api.smith.langchain.com/runs/multipart', '{\"error\":\"Too many requests: tenant exceeded usage limits: Monthly unique traces usage limit exceeded\"}\\n')trace=41cfa96d-24fe-476b-80a0-75990c4679dc,id=41cfa96d-24fe-476b-80a0-75990c4679dc; trace=41cfa96d-24fe-476b-80a0-75990c4679dc,id=41cfa96d-24fe-476b-80a0-75990c4679dc\n",
            "WARNING:langsmith.client:Failed to send compressed multipart ingest: langsmith.utils.LangSmithRateLimitError: Rate limit exceeded for https://eu.api.smith.langchain.com/runs/multipart. HTTPError('429 Client Error: Too Many Requests for url: https://eu.api.smith.langchain.com/runs/multipart', '{\"error\":\"Too many requests: tenant exceeded usage limits: Monthly unique traces usage limit exceeded\"}\\n')trace=5534ae82-a60f-4284-82ff-4b4958619828,id=5534ae82-a60f-4284-82ff-4b4958619828; trace=5534ae82-a60f-4284-82ff-4b4958619828,id=5534ae82-a60f-4284-82ff-4b4958619828\n",
            "WARNING:langsmith.client:Failed to send compressed multipart ingest: langsmith.utils.LangSmithRateLimitError: Rate limit exceeded for https://eu.api.smith.langchain.com/runs/multipart. HTTPError('429 Client Error: Too Many Requests for url: https://eu.api.smith.langchain.com/runs/multipart', '{\"error\":\"Too many requests: tenant exceeded usage limits: Monthly unique traces usage limit exceeded\"}\\n')trace=9a8da92b-fa24-47a1-8fb6-8d0189c9f82f,id=9a8da92b-fa24-47a1-8fb6-8d0189c9f82f; trace=9a8da92b-fa24-47a1-8fb6-8d0189c9f82f,id=9a8da92b-fa24-47a1-8fb6-8d0189c9f82f\n",
            "WARNING:langsmith.client:Failed to send compressed multipart ingest: langsmith.utils.LangSmithRateLimitError: Rate limit exceeded for https://eu.api.smith.langchain.com/runs/multipart. HTTPError('429 Client Error: Too Many Requests for url: https://eu.api.smith.langchain.com/runs/multipart', '{\"error\":\"Too many requests: tenant exceeded usage limits: Monthly unique traces usage limit exceeded\"}\\n')trace=ad50d158-840c-4e98-b68b-753910a6ae87,id=ad50d158-840c-4e98-b68b-753910a6ae87; trace=ad50d158-840c-4e98-b68b-753910a6ae87,id=ad50d158-840c-4e98-b68b-753910a6ae87\n"
          ]
        },
        {
          "output_type": "stream",
          "name": "stdout",
          "text": [
            "All samples processed in 1.88 seconds.\n",
            "--------------------------------------\n",
            "--------------------------------------\n",
            "\n",
            "--------------------------------------\n",
            "--------------------------------------\n",
            "\n",
            "\n",
            "%%%%%%%%%%%%%%%%%%%%%%\n",
            "Shuffle 2 & N Examples 9\n",
            "%%%%%%%%%%%%%%%%%%%%%%\n",
            "Warning: Cannot perform stratified split based on both Experimenter and Allocation due to classes with less than 2 samples in combined categories. Performing stratified split based on Experimenter only.\n",
            "Warning: Cannot perform stratified split based on Experimenter either. Performing non-stratified split.\n",
            "Created a training set with 9 samples.\n",
            "Created a test set with 14 samples.\n",
            "Directory '/content/extracted_examples_9_shuffle_2' created successfully.\n"
          ]
        },
        {
          "output_type": "stream",
          "name": "stderr",
          "text": [
            "WARNING:langsmith.client:Failed to send compressed multipart ingest: langsmith.utils.LangSmithRateLimitError: Rate limit exceeded for https://eu.api.smith.langchain.com/runs/multipart. HTTPError('429 Client Error: Too Many Requests for url: https://eu.api.smith.langchain.com/runs/multipart', '{\"error\":\"Too many requests: tenant exceeded usage limits: Monthly unique traces usage limit exceeded\"}\\n')trace=ef491c16-d814-4580-b5b4-82c0e20e8c36,id=ef491c16-d814-4580-b5b4-82c0e20e8c36; trace=ef491c16-d814-4580-b5b4-82c0e20e8c36,id=ef491c16-d814-4580-b5b4-82c0e20e8c36\n"
          ]
        },
        {
          "output_type": "stream",
          "name": "stdout",
          "text": [
            "Error processing examples_9_shuffle_2: Failed to parse JSON: Expecting property name enclosed in double quotes: line 2 column 6 (char 7)\n",
            "Extracted string: [\n",
            "    {{\n",
            "    \"Allocation\": \"Random\",\n",
            "    \"Experimenter\": \"Researcher\"\n",
            "    }},\n",
            "    {{\n",
            "    \"Allocation\": \"Random\",\n",
            "    \"Experimenter\": \"Teacher\"\n",
            "    }},\n",
            "    {{\n",
            "    \"Allocation\": \"Random\",\n",
            "    \"Experimenter\": \"Researcher\"\n",
            "    }},\n",
            "    {{\n",
            "    \"Allocation\": \"Random\",\n",
            "    \"Experimenter\": \"Teacher\"\n",
            "    }},\n",
            "    {{\n",
            "    \"Allocation\": \"Random\",\n",
            "    \"Experimenter\": \"Teacher\"\n",
            "    }},\n",
            "    {{\n",
            "    \"Allocation\": \"Random\",\n",
            "    \"Experimenter\": \"Parent\"\n",
            "    }},\n",
            "    {{\n",
            "    \"Allocation\": \"Non-random\",\n",
            "    \"Experimenter\": \"Teacher\"\n",
            "    }}\n",
            "]\n",
            "Skipping this run.\n",
            "\n",
            "\n",
            "%%%%%%%%%%%%%%%%%%%%%%\n",
            "Shuffle 3 & N Examples 9\n",
            "%%%%%%%%%%%%%%%%%%%%%%\n",
            "Warning: Cannot perform stratified split based on both Experimenter and Allocation due to classes with less than 2 samples in combined categories. Performing stratified split based on Experimenter only.\n",
            "Warning: Cannot perform stratified split based on Experimenter either. Performing non-stratified split.\n",
            "Created a training set with 9 samples.\n",
            "Created a test set with 14 samples.\n",
            "Directory '/content/extracted_examples_9_shuffle_3' created successfully.\n"
          ]
        },
        {
          "output_type": "stream",
          "name": "stderr",
          "text": [
            "WARNING:langsmith.client:Failed to send compressed multipart ingest: langsmith.utils.LangSmithRateLimitError: Rate limit exceeded for https://eu.api.smith.langchain.com/runs/multipart. HTTPError('429 Client Error: Too Many Requests for url: https://eu.api.smith.langchain.com/runs/multipart', '{\"error\":\"Too many requests: tenant exceeded usage limits: Monthly unique traces usage limit exceeded\"}\\n')trace=4085d51c-c3bf-4af9-997d-b37ee34f87a9,id=4085d51c-c3bf-4af9-997d-b37ee34f87a9\n",
            "WARNING:langsmith.client:Failed to send compressed multipart ingest: langsmith.utils.LangSmithRateLimitError: Rate limit exceeded for https://eu.api.smith.langchain.com/runs/multipart. HTTPError('429 Client Error: Too Many Requests for url: https://eu.api.smith.langchain.com/runs/multipart', '{\"error\":\"Too many requests: tenant exceeded usage limits: Monthly unique traces usage limit exceeded\"}\\n')trace=4085d51c-c3bf-4af9-997d-b37ee34f87a9,id=4085d51c-c3bf-4af9-997d-b37ee34f87a9\n",
            "WARNING:langsmith.client:Failed to send compressed multipart ingest: langsmith.utils.LangSmithRateLimitError: Rate limit exceeded for https://eu.api.smith.langchain.com/runs/multipart. HTTPError('429 Client Error: Too Many Requests for url: https://eu.api.smith.langchain.com/runs/multipart', '{\"error\":\"Too many requests: tenant exceeded usage limits: Monthly unique traces usage limit exceeded\"}\\n')trace=afed5a55-def6-4766-9bbd-b166c36d6ce3,id=afed5a55-def6-4766-9bbd-b166c36d6ce3\n",
            "WARNING:langsmith.client:Failed to send compressed multipart ingest: langsmith.utils.LangSmithRateLimitError: Rate limit exceeded for https://eu.api.smith.langchain.com/runs/multipart. HTTPError('429 Client Error: Too Many Requests for url: https://eu.api.smith.langchain.com/runs/multipart', '{\"error\":\"Too many requests: tenant exceeded usage limits: Monthly unique traces usage limit exceeded\"}\\n')trace=afed5a55-def6-4766-9bbd-b166c36d6ce3,id=afed5a55-def6-4766-9bbd-b166c36d6ce3\n",
            "WARNING:langsmith.client:Failed to send compressed multipart ingest: langsmith.utils.LangSmithRateLimitError: Rate limit exceeded for https://eu.api.smith.langchain.com/runs/multipart. HTTPError('429 Client Error: Too Many Requests for url: https://eu.api.smith.langchain.com/runs/multipart', '{\"error\":\"Too many requests: tenant exceeded usage limits: Monthly unique traces usage limit exceeded\"}\\n')trace=78e36897-8b36-4011-b601-ffea731cfcad,id=78e36897-8b36-4011-b601-ffea731cfcad\n",
            "WARNING:langsmith.client:Failed to send compressed multipart ingest: langsmith.utils.LangSmithRateLimitError: Rate limit exceeded for https://eu.api.smith.langchain.com/runs/multipart. HTTPError('429 Client Error: Too Many Requests for url: https://eu.api.smith.langchain.com/runs/multipart', '{\"error\":\"Too many requests: tenant exceeded usage limits: Monthly unique traces usage limit exceeded\"}\\n')trace=78e36897-8b36-4011-b601-ffea731cfcad,id=78e36897-8b36-4011-b601-ffea731cfcad\n",
            "WARNING:langsmith.client:Failed to send compressed multipart ingest: langsmith.utils.LangSmithRateLimitError: Rate limit exceeded for https://eu.api.smith.langchain.com/runs/multipart. HTTPError('429 Client Error: Too Many Requests for url: https://eu.api.smith.langchain.com/runs/multipart', '{\"error\":\"Too many requests: tenant exceeded usage limits: Monthly unique traces usage limit exceeded\"}\\n')trace=fac577b5-11a0-477c-b331-1b9cf6424a0a,id=fac577b5-11a0-477c-b331-1b9cf6424a0a\n",
            "WARNING:langsmith.client:Failed to send compressed multipart ingest: langsmith.utils.LangSmithRateLimitError: Rate limit exceeded for https://eu.api.smith.langchain.com/runs/multipart. HTTPError('429 Client Error: Too Many Requests for url: https://eu.api.smith.langchain.com/runs/multipart', '{\"error\":\"Too many requests: tenant exceeded usage limits: Monthly unique traces usage limit exceeded\"}\\n')trace=fac577b5-11a0-477c-b331-1b9cf6424a0a,id=fac577b5-11a0-477c-b331-1b9cf6424a0a\n",
            "WARNING:langsmith.client:Failed to send compressed multipart ingest: langsmith.utils.LangSmithRateLimitError: Rate limit exceeded for https://eu.api.smith.langchain.com/runs/multipart. HTTPError('429 Client Error: Too Many Requests for url: https://eu.api.smith.langchain.com/runs/multipart', '{\"error\":\"Too many requests: tenant exceeded usage limits: Monthly unique traces usage limit exceeded\"}\\n')trace=9dea8a71-89b1-42df-9af8-45a1001e8e4c,id=9dea8a71-89b1-42df-9af8-45a1001e8e4c\n",
            "WARNING:langsmith.client:Failed to send compressed multipart ingest: langsmith.utils.LangSmithRateLimitError: Rate limit exceeded for https://eu.api.smith.langchain.com/runs/multipart. HTTPError('429 Client Error: Too Many Requests for url: https://eu.api.smith.langchain.com/runs/multipart', '{\"error\":\"Too many requests: tenant exceeded usage limits: Monthly unique traces usage limit exceeded\"}\\n')trace=9dea8a71-89b1-42df-9af8-45a1001e8e4c,id=9dea8a71-89b1-42df-9af8-45a1001e8e4c\n",
            "WARNING:langsmith.client:Failed to send compressed multipart ingest: langsmith.utils.LangSmithRateLimitError: Rate limit exceeded for https://eu.api.smith.langchain.com/runs/multipart. HTTPError('429 Client Error: Too Many Requests for url: https://eu.api.smith.langchain.com/runs/multipart', '{\"error\":\"Too many requests: tenant exceeded usage limits: Monthly unique traces usage limit exceeded\"}\\n')trace=93026896-808a-428c-bb05-2367c9597256,id=93026896-808a-428c-bb05-2367c9597256\n",
            "WARNING:langsmith.client:Failed to send compressed multipart ingest: langsmith.utils.LangSmithRateLimitError: Rate limit exceeded for https://eu.api.smith.langchain.com/runs/multipart. HTTPError('429 Client Error: Too Many Requests for url: https://eu.api.smith.langchain.com/runs/multipart', '{\"error\":\"Too many requests: tenant exceeded usage limits: Monthly unique traces usage limit exceeded\"}\\n')trace=93026896-808a-428c-bb05-2367c9597256,id=93026896-808a-428c-bb05-2367c9597256\n",
            "WARNING:langsmith.client:Failed to send compressed multipart ingest: langsmith.utils.LangSmithRateLimitError: Rate limit exceeded for https://eu.api.smith.langchain.com/runs/multipart. HTTPError('429 Client Error: Too Many Requests for url: https://eu.api.smith.langchain.com/runs/multipart', '{\"error\":\"Too many requests: tenant exceeded usage limits: Monthly unique traces usage limit exceeded\"}\\n')trace=d995e22e-04fd-4655-a9f2-5ed612eb80f5,id=d995e22e-04fd-4655-a9f2-5ed612eb80f5\n",
            "WARNING:langsmith.client:Failed to send compressed multipart ingest: langsmith.utils.LangSmithRateLimitError: Rate limit exceeded for https://eu.api.smith.langchain.com/runs/multipart. HTTPError('429 Client Error: Too Many Requests for url: https://eu.api.smith.langchain.com/runs/multipart', '{\"error\":\"Too many requests: tenant exceeded usage limits: Monthly unique traces usage limit exceeded\"}\\n')trace=d995e22e-04fd-4655-a9f2-5ed612eb80f5,id=d995e22e-04fd-4655-a9f2-5ed612eb80f5\n",
            "WARNING:langsmith.client:Failed to send compressed multipart ingest: langsmith.utils.LangSmithRateLimitError: Rate limit exceeded for https://eu.api.smith.langchain.com/runs/multipart. HTTPError('429 Client Error: Too Many Requests for url: https://eu.api.smith.langchain.com/runs/multipart', '{\"error\":\"Too many requests: tenant exceeded usage limits: Monthly unique traces usage limit exceeded\"}\\n')trace=66221bf3-79fb-4b48-9dbd-84a74ae2c433,id=66221bf3-79fb-4b48-9dbd-84a74ae2c433\n",
            "WARNING:langsmith.client:Failed to send compressed multipart ingest: langsmith.utils.LangSmithRateLimitError: Rate limit exceeded for https://eu.api.smith.langchain.com/runs/multipart. HTTPError('429 Client Error: Too Many Requests for url: https://eu.api.smith.langchain.com/runs/multipart', '{\"error\":\"Too many requests: tenant exceeded usage limits: Monthly unique traces usage limit exceeded\"}\\n')trace=66221bf3-79fb-4b48-9dbd-84a74ae2c433,id=66221bf3-79fb-4b48-9dbd-84a74ae2c433\n",
            "WARNING:langsmith.client:Failed to send compressed multipart ingest: langsmith.utils.LangSmithRateLimitError: Rate limit exceeded for https://eu.api.smith.langchain.com/runs/multipart. HTTPError('429 Client Error: Too Many Requests for url: https://eu.api.smith.langchain.com/runs/multipart', '{\"error\":\"Too many requests: tenant exceeded usage limits: Monthly unique traces usage limit exceeded\"}\\n')trace=479a8a6b-9a0c-4c36-8c19-2347c2ba3710,id=479a8a6b-9a0c-4c36-8c19-2347c2ba3710\n",
            "WARNING:langsmith.client:Failed to send compressed multipart ingest: langsmith.utils.LangSmithRateLimitError: Rate limit exceeded for https://eu.api.smith.langchain.com/runs/multipart. HTTPError('429 Client Error: Too Many Requests for url: https://eu.api.smith.langchain.com/runs/multipart', '{\"error\":\"Too many requests: tenant exceeded usage limits: Monthly unique traces usage limit exceeded\"}\\n')trace=479a8a6b-9a0c-4c36-8c19-2347c2ba3710,id=479a8a6b-9a0c-4c36-8c19-2347c2ba3710\n",
            "WARNING:langsmith.client:Failed to send compressed multipart ingest: langsmith.utils.LangSmithRateLimitError: Rate limit exceeded for https://eu.api.smith.langchain.com/runs/multipart. HTTPError('429 Client Error: Too Many Requests for url: https://eu.api.smith.langchain.com/runs/multipart', '{\"error\":\"Too many requests: tenant exceeded usage limits: Monthly unique traces usage limit exceeded\"}\\n')trace=cc997571-e294-4396-8ba2-26fef7cb7449,id=cc997571-e294-4396-8ba2-26fef7cb7449\n",
            "WARNING:langsmith.client:Failed to send compressed multipart ingest: langsmith.utils.LangSmithRateLimitError: Rate limit exceeded for https://eu.api.smith.langchain.com/runs/multipart. HTTPError('429 Client Error: Too Many Requests for url: https://eu.api.smith.langchain.com/runs/multipart', '{\"error\":\"Too many requests: tenant exceeded usage limits: Monthly unique traces usage limit exceeded\"}\\n')trace=cc997571-e294-4396-8ba2-26fef7cb7449,id=cc997571-e294-4396-8ba2-26fef7cb7449\n",
            "WARNING:langsmith.client:Failed to send compressed multipart ingest: langsmith.utils.LangSmithRateLimitError: Rate limit exceeded for https://eu.api.smith.langchain.com/runs/multipart. HTTPError('429 Client Error: Too Many Requests for url: https://eu.api.smith.langchain.com/runs/multipart', '{\"error\":\"Too many requests: tenant exceeded usage limits: Monthly unique traces usage limit exceeded\"}\\n')trace=e349b9e9-f0a9-409c-b3a8-60d0811f6558,id=e349b9e9-f0a9-409c-b3a8-60d0811f6558\n",
            "WARNING:langsmith.client:Failed to send compressed multipart ingest: langsmith.utils.LangSmithRateLimitError: Rate limit exceeded for https://eu.api.smith.langchain.com/runs/multipart. HTTPError('429 Client Error: Too Many Requests for url: https://eu.api.smith.langchain.com/runs/multipart', '{\"error\":\"Too many requests: tenant exceeded usage limits: Monthly unique traces usage limit exceeded\"}\\n')trace=e349b9e9-f0a9-409c-b3a8-60d0811f6558,id=e349b9e9-f0a9-409c-b3a8-60d0811f6558\n",
            "WARNING:langsmith.client:Failed to send compressed multipart ingest: langsmith.utils.LangSmithRateLimitError: Rate limit exceeded for https://eu.api.smith.langchain.com/runs/multipart. HTTPError('429 Client Error: Too Many Requests for url: https://eu.api.smith.langchain.com/runs/multipart', '{\"error\":\"Too many requests: tenant exceeded usage limits: Monthly unique traces usage limit exceeded\"}\\n')trace=71918c3b-dd3c-46d0-bb30-0fab58ba1716,id=71918c3b-dd3c-46d0-bb30-0fab58ba1716\n",
            "WARNING:langsmith.client:Failed to send compressed multipart ingest: langsmith.utils.LangSmithRateLimitError: Rate limit exceeded for https://eu.api.smith.langchain.com/runs/multipart. HTTPError('429 Client Error: Too Many Requests for url: https://eu.api.smith.langchain.com/runs/multipart', '{\"error\":\"Too many requests: tenant exceeded usage limits: Monthly unique traces usage limit exceeded\"}\\n')trace=71918c3b-dd3c-46d0-bb30-0fab58ba1716,id=71918c3b-dd3c-46d0-bb30-0fab58ba1716\n",
            "WARNING:langsmith.client:Failed to send compressed multipart ingest: langsmith.utils.LangSmithRateLimitError: Rate limit exceeded for https://eu.api.smith.langchain.com/runs/multipart. HTTPError('429 Client Error: Too Many Requests for url: https://eu.api.smith.langchain.com/runs/multipart', '{\"error\":\"Too many requests: tenant exceeded usage limits: Monthly unique traces usage limit exceeded\"}\\n')trace=97e62404-f6c9-444a-8329-575de4db6442,id=97e62404-f6c9-444a-8329-575de4db6442\n",
            "WARNING:langsmith.client:Failed to send compressed multipart ingest: langsmith.utils.LangSmithRateLimitError: Rate limit exceeded for https://eu.api.smith.langchain.com/runs/multipart. HTTPError('429 Client Error: Too Many Requests for url: https://eu.api.smith.langchain.com/runs/multipart', '{\"error\":\"Too many requests: tenant exceeded usage limits: Monthly unique traces usage limit exceeded\"}\\n')trace=97e62404-f6c9-444a-8329-575de4db6442,id=97e62404-f6c9-444a-8329-575de4db6442\n",
            "WARNING:langsmith.client:Failed to send compressed multipart ingest: langsmith.utils.LangSmithRateLimitError: Rate limit exceeded for https://eu.api.smith.langchain.com/runs/multipart. HTTPError('429 Client Error: Too Many Requests for url: https://eu.api.smith.langchain.com/runs/multipart', '{\"error\":\"Too many requests: tenant exceeded usage limits: Monthly unique traces usage limit exceeded\"}\\n')trace=ecc16346-6eaa-4be6-8c24-d995e6bb33a4,id=ecc16346-6eaa-4be6-8c24-d995e6bb33a4\n",
            "WARNING:langsmith.client:Failed to send compressed multipart ingest: langsmith.utils.LangSmithRateLimitError: Rate limit exceeded for https://eu.api.smith.langchain.com/runs/multipart. HTTPError('429 Client Error: Too Many Requests for url: https://eu.api.smith.langchain.com/runs/multipart', '{\"error\":\"Too many requests: tenant exceeded usage limits: Monthly unique traces usage limit exceeded\"}\\n')trace=ecc16346-6eaa-4be6-8c24-d995e6bb33a4,id=ecc16346-6eaa-4be6-8c24-d995e6bb33a4\n"
          ]
        },
        {
          "output_type": "stream",
          "name": "stdout",
          "text": [
            "All samples processed in 1.87 seconds.\n",
            "--------------------------------------\n",
            "--------------------------------------\n",
            "\n",
            "--------------------------------------\n",
            "--------------------------------------\n"
          ]
        }
      ],
      "source": [
        "from sklearn.model_selection import train_test_split\n",
        "\n",
        "times = [[] for _ in shuffle_range]\n",
        "bin_metrics_array = [[] for _ in shuffle_range]\n",
        "mult_avg_metrics_array = [[] for _ in shuffle_range]\n",
        "\n",
        "for n_examples in split_range:\n",
        "  for i in shuffle_range:\n",
        "    print(\"\\n\\n%%%%%%%%%%%%%%%%%%%%%%\")\n",
        "    print(f\"Shuffle {i} & N Examples {n_examples}\")\n",
        "    print(\"%%%%%%%%%%%%%%%%%%%%%%\")\n",
        "\n",
        "\n",
        "    matched_df = pd.DataFrame(matched_pairs,\n",
        "                              columns=['file_path', 'group_df'])\n",
        "    matched_df['Study'] = matched_df['group_df'].apply(lambda x: format(x['Study'].iloc[0]))\n",
        "\n",
        "    # Let's fill NaN with a placeholder like 'Unknown'\n",
        "    matched_df['Experimenter'] = matched_df['group_df'].apply(lambda x: x['Experimenter'].iloc[0] if not x['Experimenter'].empty else 'Unknown').fillna('Unknown')\n",
        "    matched_df['Allocation'] = matched_df['group_df'].apply(lambda x: x['Allocation'].iloc[0] if not x['Allocation'].empty else 'Unknown').fillna('Unknown')\n",
        "\n",
        "\n",
        "    # Perform stratified split\n",
        "    # Ensure all classes in the stratification columns have at least one sample\n",
        "    # If any class combination has only one sample, train_test_split will raise an error.\n",
        "    # Create a combined stratification column\n",
        "    matched_df['Stratify_Combined'] = matched_df['Experimenter'] + '_' + matched_df['Allocation']\n",
        "    stratify_col = 'Stratify_Combined'\n",
        "    combined_counts = matched_df[stratify_col].value_counts()\n",
        "\n",
        "\n",
        "    # Check if stratification is possible\n",
        "    can_stratify = (combined_counts >= 2).all()\n",
        "\n",
        "    if can_stratify:\n",
        "        print(f\"Performing stratified split with train size {n_examples} based on Experimenter and Allocation\")\n",
        "        train_indices, test_indices = train_test_split(\n",
        "            matched_df.index,\n",
        "            train_size=n_examples,\n",
        "            stratify=matched_df[stratify_col],\n",
        "            random_state=i\n",
        "        )\n",
        "    else:\n",
        "        print(\"Warning: Cannot perform stratified split based on both Experimenter and Allocation due to classes with less than 2 samples in combined categories. Performing stratified split based on Experimenter only.\")\n",
        "        # Fallback to stratifying only on Experimenter if combined stratification is not possible\n",
        "        experimenter_counts = matched_df['Experimenter'].value_counts()\n",
        "        if (experimenter_counts >= 2).all():\n",
        "             train_indices, test_indices = train_test_split(\n",
        "                matched_df.index,\n",
        "                train_size=n_examples, # Use train_size instead of test_size\n",
        "                stratify=matched_df['Experimenter'],\n",
        "                random_state=i # Use shuffle index as random_state\n",
        "            )\n",
        "        else:\n",
        "             print(\"Warning: Cannot perform stratified split based on Experimenter either. Performing non-stratified split.\")\n",
        "             train_indices, test_indices = train_test_split(\n",
        "                matched_df.index,\n",
        "                train_size=n_examples, # Use train_size instead of test_size\n",
        "                random_state=i # Use shuffle index as random_state\n",
        "            )\n",
        "\n",
        "\n",
        "    train_pairs_selected = [matched_pairs[idx] for idx in train_indices]\n",
        "    test_pairs_selected = [matched_pairs[idx] for idx in test_indices]\n",
        "\n",
        "    print(f\"Created a training set with {len(train_pairs_selected)} samples.\")\n",
        "    print(f\"Created a test set with {len(test_pairs_selected)} samples.\")\n",
        "\n",
        "\n",
        "    try:\n",
        "        total_elapsed, bin_metrics, mult_metrics, mult_avg_metrics \\\n",
        "        = prompt_loop(train_pairs_selected, test_pairs_selected, f\"examples_{n_examples}_shuffle_{i}\", llm)\n",
        "        # print(\"\\n\\n\\n\")\n",
        "\n",
        "        times[i - 1].append(total_elapsed) # Adjust index to be 0-based\n",
        "        bin_metrics_array[i - 1].append(bin_metrics) # Adjust index to be 0-based\n",
        "        mult_avg_metrics_array[i - 1].append(mult_avg_metrics) # Adjust index to be 0-based\n",
        "    except ValueError as e:\n",
        "        print(f\"Error processing examples_{n_examples}_shuffle_{i}: {e}\")\n",
        "        print(\"Skipping this run.\")\n",
        "        # Optionally append None or a placeholder to times, bin_metrics_array, etc.\n",
        "        # to keep the structure consistent, if needed for later processing.\n",
        "        # For now, we just skip appending, which means these lists might have\n",
        "        # different lengths if some runs fail. Be mindful of this in plotting."
      ]
    },
    {
      "cell_type": "code",
      "execution_count": null,
      "metadata": {
        "id": "UFnaBv8XF9IP"
      },
      "outputs": [],
      "source": [
        "# from google.colab import files\n",
        "# import os\n",
        "# import shutil\n",
        "\n",
        "# for split in split_range:\n",
        "#   for shuffle in shuffle_range:\n",
        "#     folder_to_download = f'/content/extracted_examples_{split}_shuffle_{shuffle}'\n",
        "\n",
        "#     # Create a zip archive of the folder\n",
        "#     zip_path = f'{folder_to_download.split(\"/\")[-1]}.zip'\n",
        "#     shutil.make_archive(zip_path.replace('.zip', ''), 'zip', folder_to_download)\n",
        "\n",
        "#     # Download the zip file\n",
        "#     files.download(zip_path)"
      ]
    },
    {
      "cell_type": "markdown",
      "metadata": {
        "id": "o6n6qZnpgiHb"
      },
      "source": [
        "#Plotting"
      ]
    },
    {
      "cell_type": "code",
      "execution_count": null,
      "metadata": {
        "id": "b295f9bd",
        "colab": {
          "base_uri": "https://localhost:8080/"
        },
        "outputId": "fa253344-f781-4031-cb05-9e4753da627c"
      },
      "outputs": [
        {
          "output_type": "stream",
          "name": "stdout",
          "text": [
            "The best shuffle based on average multiclass F1 score is Shuffle 2 with an average F1 of 0.3563\n"
          ]
        }
      ],
      "source": [
        "def find_best_shuffle(mult_avg_metrics_array, shuffle_range):\n",
        "    \"\"\"\n",
        "    Finds the shuffle with the best average multiclass F1 score across split sizes.\n",
        "\n",
        "    Args:\n",
        "        mult_avg_metrics_array (list of list of dict): List of lists containing\n",
        "            multiclass average metrics dictionaries for each shuffle and split size.\n",
        "        shuffle_range (range): The range of shuffle indices (1-based).\n",
        "\n",
        "    Returns:\n",
        "        tuple: A tuple containing the index of the best shuffle (1-based) and its\n",
        "               average F1 score, or (None, None) if no metrics are available.\n",
        "    \"\"\"\n",
        "    best_f1 = -1\n",
        "    best_shuffle_index = None\n",
        "\n",
        "    for i in shuffle_range:\n",
        "        shuffle_idx = i - 1  # Adjust to 0-based index\n",
        "        shuffle_metrics = mult_avg_metrics_array[shuffle_idx]\n",
        "\n",
        "        if shuffle_metrics:\n",
        "            # Calculate the average F1 score for the current shuffle across all split sizes\n",
        "            avg_f1 = sum(m.get('F1', 0) for m in shuffle_metrics) / len(shuffle_metrics)\n",
        "\n",
        "            if avg_f1 > best_f1:\n",
        "                best_f1 = avg_f1\n",
        "                best_shuffle_index = i  # Store 1-based index\n",
        "\n",
        "    return best_shuffle_index, best_f1\n",
        "\n",
        "# Find the best shuffle based on average multiclass F1 score\n",
        "best_shuffle, best_f1_score = find_best_shuffle(mult_avg_metrics_array, shuffle_range)\n",
        "\n",
        "if best_shuffle is not None:\n",
        "    print(f\"The best shuffle based on average multiclass F1 score is Shuffle {best_shuffle} with an average F1 of {best_f1_score:.4f}\")\n",
        "else:\n",
        "    print(\"Could not determine the best shuffle.\")"
      ]
    },
    {
      "cell_type": "code",
      "execution_count": null,
      "metadata": {
        "id": "_5GmAOQLtnJt",
        "colab": {
          "base_uri": "https://localhost:8080/"
        },
        "outputId": "9e7e76cc-54cb-4c79-f5af-35e13e14b061"
      },
      "outputs": [
        {
          "output_type": "stream",
          "name": "stdout",
          "text": [
            "Data for Shuffle 2 is incomplete or not available for plotting across all split sizes.\n"
          ]
        }
      ],
      "source": [
        "import matplotlib.pyplot as plt\n",
        "\n",
        "# Assuming shuffle_range is defined and corresponds to the shuffles performed (e.g., range(1, 10))\n",
        "# Assuming split_range is defined and corresponds to the splits performed (e.g., range(4, 5))\n",
        "# Assuming times, bin_metrics_array, and mult_avg_metrics_array are populated as before.\n",
        "\n",
        "def plot_results(split_sizes, times_data, bin_metrics_data, mult_avg_metrics_data, shuffle_index=None):\n",
        "    \"\"\"\n",
        "    Plot total elapsed time and evaluation metrics across split sizes.\n",
        "\n",
        "    Args:\n",
        "        split_sizes (list of int): The numbers of examples used for the plots.\n",
        "        times_data (list of list of float): List of lists containing elapsed times\n",
        "            for each shuffle and split size.\n",
        "        bin_metrics_data (list of list of dict): List of lists containing binary metrics\n",
        "            dictionaries for each shuffle and split size.\n",
        "        mult_avg_metrics_data (list of list of dict): List of lists containing multiclass\n",
        "            average metrics dictionaries for each shuffle and split size.\n",
        "        shuffle_index (int, optional): The 1-based index of the shuffle to plot.\n",
        "            If None, plots for all shuffles. Defaults to None.\n",
        "    \"\"\"\n",
        "    if shuffle_index is not None:\n",
        "        # Plot results for a specific shuffle\n",
        "        shuffle_idx = shuffle_index - 1 # Adjust to 0-based index\n",
        "        if shuffle_idx < len(times_data) and len(times_data[shuffle_idx]) == len(split_sizes):\n",
        "            print(f\"Plotting results for Shuffle: {shuffle_index}\")\n",
        "\n",
        "            # Plot total elapsed time vs number of examples\n",
        "            plt.figure()\n",
        "            plt.plot(split_sizes, times_data[shuffle_idx], marker='o')\n",
        "            plt.xlabel('Number of Examples')\n",
        "            plt.ylabel('Total Elapsed CPU Time (s)')\n",
        "            plt.title(f'Elapsed CPU Time vs Number of Examples (Shuffle = {shuffle_index})')\n",
        "            plt.grid(True)\n",
        "            plt.xticks(split_sizes)\n",
        "            plt.show()\n",
        "\n",
        "            # Extract metric names\n",
        "            metric_names = ['Accuracy', 'Recall', 'Precision', 'F1']\n",
        "\n",
        "            # Plot binary metrics\n",
        "            plt.figure()\n",
        "            for name in metric_names:\n",
        "                values = [m[name] for m in bin_metrics_data[shuffle_idx]]\n",
        "                plt.plot(split_sizes, values, marker='o', label=name)\n",
        "            plt.xlabel('Number of Examples')\n",
        "            plt.ylabel('Binary Metric Value')\n",
        "            plt.title(f'Binary Metrics vs Number of Examples (Shuffle = {shuffle_index})')\n",
        "            plt.legend()\n",
        "            plt.grid(True)\n",
        "            plt.xticks(split_sizes)\n",
        "            plt.show()\n",
        "\n",
        "            # Plot multiclass average metrics\n",
        "            plt.figure()\n",
        "            for name in metric_names:\n",
        "                values = [m[name] for m in mult_avg_metrics_data[shuffle_idx]]\n",
        "                plt.plot(split_sizes, values, marker='o', label=name)\n",
        "            plt.xlabel('Number of Examples')\n",
        "            plt.ylabel('Multiclass Average Metric')\n",
        "            plt.title(f'Multiclass Avg Metrics vs Number of Examples (Shuffle = {shuffle_index})')\n",
        "            plt.legend()\n",
        "            plt.grid(True)\n",
        "            plt.xticks(split_sizes)\n",
        "            plt.show()\n",
        "        else:\n",
        "            print(f\"Data for Shuffle {shuffle_index} is incomplete or not available for plotting across all split sizes.\")\n",
        "    else:\n",
        "        # Plot results for all shuffles (original behavior)\n",
        "        for i in shuffle_range:\n",
        "            shuffle_idx = i - 1 # Adjust to 0-based index\n",
        "            print(f\"Plotting results for Shuffle: {i}\")\n",
        "\n",
        "            current_shuffle_times = []\n",
        "            current_shuffle_bin_metrics = []\n",
        "            current_shuffle_mult_avg_metrics = []\n",
        "            completed_split_sizes = []\n",
        "\n",
        "            for split_idx, split_size in enumerate(split_range):\n",
        "                 if shuffle_idx < len(times_data) and split_idx < len(times_data[shuffle_idx]):\n",
        "                    current_shuffle_times.append(times_data[shuffle_idx][split_idx])\n",
        "                    current_shuffle_bin_metrics.append(bin_metrics_data[shuffle_idx][split_idx])\n",
        "                    current_shuffle_mult_avg_metrics.append(mult_avg_metrics_data[shuffle_idx][split_idx])\n",
        "                    completed_split_sizes.append(split_size)\n",
        "\n",
        "\n",
        "            plot_results(completed_split_sizes, [current_shuffle_times], [current_shuffle_bin_metrics], [current_shuffle_mult_avg_metrics], shuffle_index=i) # Recursive call for single shuffle plotting\n",
        "\n",
        "\n",
        "# Call the plotting function with the best shuffle index\n",
        "plot_results(list(split_range), times, bin_metrics_array, mult_avg_metrics_array, shuffle_index=best_shuffle)"
      ]
    }
  ],
  "metadata": {
    "colab": {
      "provenance": [],
      "gpuType": "T4"
    },
    "kernelspec": {
      "display_name": "Python 3",
      "name": "python3"
    },
    "language_info": {
      "name": "python"
    },
    "accelerator": "GPU"
  },
  "nbformat": 4,
  "nbformat_minor": 0
}